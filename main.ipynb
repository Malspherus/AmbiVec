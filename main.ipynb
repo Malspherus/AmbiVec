{
 "cells": [
  {
   "cell_type": "markdown",
   "metadata": {},
   "source": [
    "## Imports & logging"
   ]
  },
  {
   "cell_type": "code",
   "execution_count": 1,
   "metadata": {
    "pycharm": {
     "is_executing": true,
     "name": "#%% Imports\n"
    }
   },
   "outputs": [
    {
     "name": "stderr",
     "output_type": "stream",
     "text": [
      "c:\\users\\peter\\python-projekte\\master-thesis\\venv\\lib\\site-packages\\tqdm\\std.py:658: FutureWarning: The Panel class is removed from pandas. Accessing it from the top-level namespace will also be removed in the next version\n",
      "  from pandas import Panel\n"
     ]
    }
   ],
   "source": [
    "import gensim\n",
    "import gensim.downloader as api\n",
    "import logging\n",
    "from rdflib import Graph, Namespace, Literal\n",
    "from rdflib.plugins.parsers import trig\n",
    "import tempfile\n",
    "import numpy as np\n",
    "import pandas as pd\n",
    "import random\n",
    "\n",
    "from rdflib import URIRef\n",
    "from rdflib.namespace import RDF\n",
    "from rdflib.namespace import RDFS\n",
    "from rdflib.namespace import SKOS\n",
    "from tqdm import tqdm\n",
    "from TqdmToLogger import TqdmToLogger\n",
    "import matplotlib\n",
    "import matplotlib.pyplot as plt\n",
    "import json\n",
    "\n",
    "logging.basicConfig(format='%(asctime)s : %(levelname)s : %(message)s', level=logging.INFO)\n",
    "logger = logging.getLogger()\n",
    "\n",
    "tqdm.pandas()\n",
    "tqdm_out = TqdmToLogger(logger, level=logging.INFO)\n",
    "\n",
    "#TODO: use numpy for random stuff?\n",
    "#https://docs.scipy.org/doc/numpy-1.15.0/reference/generated/numpy.random.RandomState.html\n",
    "random.seed(0)"
   ]
  },
  {
   "cell_type": "code",
   "execution_count": 2,
   "metadata": {},
   "outputs": [],
   "source": [
    "logger.setLevel(logging.INFO)"
   ]
  },
  {
   "cell_type": "code",
   "execution_count": null,
   "metadata": {},
   "outputs": [],
   "source": [
    "logger.setLevel(logging.DEBUG)"
   ]
  },
  {
   "cell_type": "code",
   "execution_count": 31,
   "metadata": {},
   "outputs": [],
   "source": [
    "pd.set_option('max_columns', None)\n",
    "pd.set_option('max_rows', None)\n",
    "#pd.reset_option('max_columns')\n",
    "#pd.set_option('max_colwidth', None)"
   ]
  },
  {
   "cell_type": "markdown",
   "metadata": {},
   "source": [
    "## Load dictionary"
   ]
  },
  {
   "cell_type": "code",
   "execution_count": null,
   "metadata": {},
   "outputs": [],
   "source": [
    "gn = api.load('word2vec-google-news-300')"
   ]
  },
  {
   "cell_type": "code",
   "execution_count": 3,
   "metadata": {
    "pycharm": {
     "is_executing": false,
     "name": "#%% Load/train dictionary\n"
    },
    "scrolled": true
   },
   "outputs": [
    {
     "name": "stderr",
     "output_type": "stream",
     "text": [
      "2021-01-08 19:56:05,641 : INFO : loading projection weights from C:\\Users\\Peter/gensim-data\\glove-wiki-gigaword-100\\glove-wiki-gigaword-100.gz\n",
      "2021-01-08 19:56:37,395 : INFO : loaded (400000, 100) matrix from C:\\Users\\Peter/gensim-data\\glove-wiki-gigaword-100\\glove-wiki-gigaword-100.gz\n"
     ]
    }
   ],
   "source": [
    "gw1 = api.load(\"glove-wiki-gigaword-100\")"
   ]
  },
  {
   "cell_type": "code",
   "execution_count": 4,
   "metadata": {
    "pycharm": {
     "name": "#%%\n"
    }
   },
   "outputs": [],
   "source": [
    "wv = gw1"
   ]
  },
  {
   "cell_type": "code",
   "execution_count": null,
   "metadata": {
    "pycharm": {
     "is_executing": false,
     "name": "#%% Load/train dictionary\n"
    },
    "scrolled": false
   },
   "outputs": [],
   "source": [
    "gw3 = api.load(\"glove-wiki-gigaword-300\")"
   ]
  },
  {
   "cell_type": "raw",
   "metadata": {
    "pycharm": {
     "name": "#%% raw\n"
    }
   },
   "source": [
    "# wk = api.load('wiki-english-20171001')\n",
    "\n",
    "# Wiki has to be converted, but JSON is not supported...\n",
    "# wiki = gensim.corpora.WikiCorpus(wk)\n",
    "\n",
    "# Train and save\n",
    "# model = gensim.models.Word2Vec(wk, workers=4)\n",
    "# 14774682 raw words (853473 effective words) took 610.2s with 3 workers\n",
    "\n",
    "# with tempfile.NamedTemporaryFile(prefix='wiki-english-20171001-model-', delete=False) as tmp:\n",
    "#    temporary_filepath = tmp.name\n",
    "#    model.save(temporary_filepath)\n",
    "\n",
    "# Load\n",
    "# model = gensim.models.Word2Vec.load(temporary_filepath)\n",
    "# wv = model.wv"
   ]
  },
  {
   "cell_type": "markdown",
   "metadata": {},
   "source": [
    "## Load graph"
   ]
  },
  {
   "cell_type": "markdown",
   "metadata": {},
   "source": [
    "### KBpedia"
   ]
  },
  {
   "cell_type": "code",
   "execution_count": null,
   "metadata": {
    "pycharm": {
     "is_executing": false,
     "name": "#%% Load KG\n"
    }
   },
   "outputs": [],
   "source": [
    "kb = Graph()\n",
    "kb.parse(\"C:/Users/Peter/gensim-data/KBpedia/kbpedia_reference_concepts.n3\", format=\"n3\")\n",
    "logger.info(f\"Loaded graph with {len(kb)} triples\")"
   ]
  },
  {
   "cell_type": "code",
   "execution_count": null,
   "metadata": {},
   "outputs": [],
   "source": [
    "g = kb"
   ]
  },
  {
   "cell_type": "markdown",
   "metadata": {},
   "source": [
    "### DBpedia disjointDomain"
   ]
  },
  {
   "cell_type": "code",
   "execution_count": null,
   "metadata": {},
   "outputs": [],
   "source": [
    "db = Graph()\n",
    "db.parse(\"C:/Users/Peter/gensim-data/DBpedia/mappingbased-objects_lang=en_disjointDomain.ttl\", format=\"ttl\")\n",
    "logger.info(f\"Loaded graph with {len(db)} triples\")"
   ]
  },
  {
   "cell_type": "code",
   "execution_count": null,
   "metadata": {},
   "outputs": [],
   "source": [
    "g=db"
   ]
  },
  {
   "cell_type": "markdown",
   "metadata": {},
   "source": [
    "### DBpedia disjointRange"
   ]
  },
  {
   "cell_type": "code",
   "execution_count": null,
   "metadata": {},
   "outputs": [],
   "source": [
    "db2 = Graph()\n",
    "db2.parse(\"C:/Users/Peter/gensim-data/DBpedia/mappingbased-objects_lang=en_disjointRange.ttl\", format=\"ttl\")\n",
    "logger.info(f\"Loaded graph with {len(db2)} triples\")"
   ]
  },
  {
   "cell_type": "code",
   "execution_count": null,
   "metadata": {},
   "outputs": [],
   "source": [
    "g=db2"
   ]
  },
  {
   "cell_type": "markdown",
   "metadata": {},
   "source": [
    "### Own KG"
   ]
  },
  {
   "cell_type": "code",
   "execution_count": null,
   "metadata": {},
   "outputs": [],
   "source": [
    "tg = Graph()\n",
    "tg.parse(\"KGDemo.ttl\", format=\"ttl\")\n",
    "logger.info(f\"Loaded graph with {len(tg)} triples\")"
   ]
  },
  {
   "cell_type": "code",
   "execution_count": null,
   "metadata": {},
   "outputs": [],
   "source": [
    "g = tg"
   ]
  },
  {
   "cell_type": "markdown",
   "metadata": {},
   "source": [
    "### Pokemon KG"
   ]
  },
  {
   "cell_type": "code",
   "execution_count": null,
   "metadata": {},
   "outputs": [],
   "source": [
    "pg = Graph()\n",
    "pg.parse(\"pokemon.nq\", format=\"nquads\")\n",
    "logger.info(f\"Loaded graph with {len(pg)} triples\")"
   ]
  },
  {
   "cell_type": "code",
   "execution_count": null,
   "metadata": {},
   "outputs": [],
   "source": [
    "g = pg"
   ]
  },
  {
   "cell_type": "markdown",
   "metadata": {},
   "source": [
    "###  Webster"
   ]
  },
  {
   "cell_type": "code",
   "execution_count": null,
   "metadata": {},
   "outputs": [],
   "source": [
    "wg = Graph()\n",
    "wg.parse(\"WBT_DSR_LC_model_XML.rdf\")\n",
    "logger.info(f\"Loaded graph with {len(pg)} triples\")"
   ]
  },
  {
   "cell_type": "code",
   "execution_count": null,
   "metadata": {},
   "outputs": [],
   "source": [
    "g = wg"
   ]
  },
  {
   "cell_type": "markdown",
   "metadata": {},
   "source": [
    "### Beatles"
   ]
  },
  {
   "cell_type": "code",
   "execution_count": null,
   "metadata": {},
   "outputs": [],
   "source": [
    "bg = Graph()\n",
    "bg.parse(\"beatles.ttl\", format=\"ttl\")\n",
    "logger.info(f\"Loaded graph with {len(bg)} triples\")"
   ]
  },
  {
   "cell_type": "code",
   "execution_count": null,
   "metadata": {},
   "outputs": [],
   "source": [
    "g = bg"
   ]
  },
  {
   "cell_type": "markdown",
   "metadata": {},
   "source": [
    "### Diet"
   ]
  },
  {
   "cell_type": "code",
   "execution_count": null,
   "metadata": {
    "pycharm": {
     "name": "#%%\n"
    }
   },
   "outputs": [],
   "source": [
    "dg = Graph()\n",
    "dg.parse(\"diet.ttl\", format=\"ttl\")\n",
    "logger.info(f\"Loaded graph with {len(dg)} triples\")"
   ]
  },
  {
   "cell_type": "code",
   "execution_count": null,
   "metadata": {
    "pycharm": {
     "name": "#%%\n"
    }
   },
   "outputs": [],
   "source": [
    "g = dg"
   ]
  },
  {
   "cell_type": "markdown",
   "metadata": {},
   "source": [
    "### Ingredients"
   ]
  },
  {
   "cell_type": "code",
   "execution_count": null,
   "metadata": {
    "pycharm": {
     "name": "#%%\n"
    }
   },
   "outputs": [],
   "source": [
    "ig = Graph()\n",
    "ig.parse(\"ingredients.ttl\", format=\"ttl\")\n",
    "logger.info(f\"Loaded graph with {len(ig)} triples\")"
   ]
  },
  {
   "cell_type": "code",
   "execution_count": null,
   "metadata": {
    "pycharm": {
     "name": "#%%\n"
    }
   },
   "outputs": [],
   "source": [
    "g = ig"
   ]
  },
  {
   "cell_type": "markdown",
   "metadata": {},
   "source": [
    "### sparql"
   ]
  },
  {
   "cell_type": "code",
   "execution_count": 5,
   "metadata": {
    "pycharm": {
     "name": "#%%\n"
    }
   },
   "outputs": [
    {
     "name": "stderr",
     "output_type": "stream",
     "text": [
      "2021-01-08 19:56:37,757 : INFO : Loaded graph with 5000 triples\n"
     ]
    }
   ],
   "source": [
    "sg = Graph()\n",
    "sg.parse(\"sparql\", format=\"ttl\")\n",
    "logger.info(f\"Loaded graph with {len(sg)} triples\")"
   ]
  },
  {
   "cell_type": "code",
   "execution_count": 6,
   "metadata": {
    "pycharm": {
     "name": "#%%\n"
    }
   },
   "outputs": [],
   "source": [
    "g = sg"
   ]
  },
  {
   "cell_type": "markdown",
   "metadata": {},
   "source": [
    "## Helper functions"
   ]
  },
  {
   "cell_type": "code",
   "execution_count": 7,
   "metadata": {
    "scrolled": true
   },
   "outputs": [],
   "source": [
    "def getPreferredTitle(n, lang=\"en\"):\n",
    "    label = g.preferredLabel(n, lang=lang)\n",
    "\n",
    "    #if type(n) is not type(Literal(\"\")): #only labels should be of type literal\n",
    "    if label == []:\n",
    "        return n.rsplit('/', 1)[-1].replace('_', ' ').replace(',', '').lower() #TODO: replace \"()\"?\n",
    "    else:\n",
    "        return label[0][1].value.lower()\n",
    "    #else:\n",
    "    #    return None\n",
    "\n",
    "#Returns [vec, isMultipart, multipart-matched-%]\n",
    "def toVector(n):\n",
    "    title = getPreferredTitle(n)\n",
    "    #if title is None:\n",
    "    #    return [None, None, None]\n",
    "    \n",
    "    #In case of multiple words in title use mean of individual vectors\n",
    "    if \" \" in title:\n",
    "        subvecs = []\n",
    "        count = 0\n",
    "        hit = 0\n",
    "        for word in title.split(\" \"):\n",
    "            count += 1\n",
    "            try:\n",
    "                subvecs += [wv[word]]\n",
    "                hit += 1\n",
    "            except KeyError:\n",
    "                pass\n",
    "        \n",
    "        if hit > 0:\n",
    "            return [sum(subvecs)/hit, True, hit/count]\n",
    "        else:\n",
    "            return [None, True, 0]\n",
    "    else:\n",
    "        try:\n",
    "            return [wv[title], False, False]\n",
    "        except KeyError:\n",
    "            return [None, False, False]\n",
    "\n",
    "#Methods to ambiguify nodes and relations\n",
    "def select(inp, obj={'perc': None, 'num': None}):\n",
    "    if len(obj) > 1:\n",
    "        raise TypeError(\"Please give exactly one of percentage or number\")\n",
    "        \n",
    "    for val in obj:\n",
    "        if val == 'perc':\n",
    "            return inp.sample(frac=obj[val], replace=True)\n",
    "        else:\n",
    "            return inp.sample(n=obj[val], replace=True)\n",
    "\n",
    "def ambiguify(config, nodeVectors, relationVectors):\n",
    "    out = pd.DataFrame()\n",
    "    for target in config: #can be \"nodes\" or \"relations\"\n",
    "        for method in config[target]: #matches the name of the method\n",
    "            for instance in config[target][method]: #once for every instance of the method config\n",
    "                for val in instance['amount']: #the amount of elements to be changed\n",
    "                    logger.info(f\"Ambiguifying {target} with {method} (parameters: {instance})\")\n",
    "                    if target == 'nodes':\n",
    "                        inp = nodeVectors\n",
    "                    else:\n",
    "                        inp = relationVectors\n",
    "                    \n",
    "                    selres = select(inp, instance['amount'])\n",
    "                    conf = instance.get('param', None)\n",
    "                    sourceColumn = target[0:-1]\n",
    "                    rep = pd.DataFrame()\n",
    "                    \n",
    "                    rep[['method', 'config', 'source_type', 'source', 'target']] = selres.progress_apply(lambda sel: pd.Series([\n",
    "                        method,\n",
    "                        str(instance),\n",
    "                        sourceColumn,\n",
    "                        sel[sourceColumn],\n",
    "                        methods[target][method](sel.copy(), inp.copy(), conf)[sourceColumn].iloc[0]\n",
    "                    ]), axis=1)\n",
    "                    \n",
    "                    out = out.append(rep, ignore_index=True)\n",
    "    return out\n",
    "\n",
    "#Modify triple and save as new\n",
    "def modTriple(row, g2, useObject = False, retry=False):\n",
    "    if row['source_type'] == 'relation':\n",
    "        logger.debug(\"Replacing r\")\n",
    "        fil = fullVectors['p'] == row['source']\n",
    "    else:\n",
    "        if useObject:\n",
    "            logger.debug(\"Replacing o\")\n",
    "            fil = fullVectors['o'] == row['source']\n",
    "        else:\n",
    "            logger.debug(\"Replacing s\")\n",
    "            fil = fullVectors['s'] == row['source']\n",
    "    \n",
    "    res = fullVectors[fil]\n",
    "\n",
    "    if len(res) == 0:\n",
    "        if not retry:\n",
    "            return modTriple(row, g2, useObject= not useObject, retry=True)\n",
    "        else:\n",
    "            logger.error(f\"Could not find original triple!\")\n",
    "    else:\n",
    "        rep = res.sample(n=1)\n",
    "\n",
    "        #add row to graph with changed content\n",
    "        if row['source_type'] == 'relation':\n",
    "            g2.add((rep['s'].iloc[0], row['target'], rep['o'].iloc[0]))\n",
    "            logger.debug(f\"{(rep['s'].iloc[0], row['target'], rep['o'].iloc[0])}\")\n",
    "            return (rep['s'].iloc[0], row['target'], rep['o'].iloc[0], rep['s'].iloc[0], rep['p'].iloc[0], rep['o'].iloc[0])\n",
    "        else:\n",
    "            if useObject:\n",
    "                g2.add((rep['s'].iloc[0], rep['p'].iloc[0], row['target']))\n",
    "                logger.debug(f\"{(rep['s'].iloc[0], rep['p'].iloc[0], row['target'])}\")\n",
    "                return (rep['s'].iloc[0], rep['p'].iloc[0], row['target'], rep['s'].iloc[0], rep['p'].iloc[0], rep['o'].iloc[0])\n",
    "            else:\n",
    "                g2.add((row['target'], rep['p'].iloc[0], rep['o'].iloc[0]))\n",
    "                logger.debug(f\"{(row['target'], rep['p'].iloc[0], rep['o'].iloc[0])}\")\n",
    "                return (row['target'], rep['p'].iloc[0], rep['o'].iloc[0], rep['s'].iloc[0], rep['p'].iloc[0], rep['o'].iloc[0])\n",
    "        \n",
    "def populateAdditions(res, g2):\n",
    "    logger.info(f\"Populatig graph\")\n",
    "    \n",
    "    out = pd.DataFrame()\n",
    "    out[['s', 'p', 'o', 's_orig', 'p_orig', 'o_orig']] = res.progress_apply(lambda row: pd.Series(modTriple(row, g2, useObject=(random.random() >= 0.5))), axis=1)\n",
    "    \n",
    "    res[['s_orig', 'p_orig', 'o_orig']] = out[['s_orig', 'p_orig', 'o_orig']]\n",
    "    out = out.drop(columns={'s_orig', 'p_orig', 'o_orig'})\n",
    "    \n",
    "    return out\n",
    "\n",
    "#Returns percent of ambiguity in the graph\n",
    "def calculateAmbiguity(fullVectors, nodeVectors, relationVectors):\n",
    "    #for relations\n",
    "    weights = relationVectors['total'] - relationVectors['lost'] - relationVectors['zero_vector']\n",
    "    relAmbig = np.average(relationVectors['mean_dist'], weights=weights)\n",
    "    \n",
    "    #for nodes\n",
    "    weights = nodeVectors['total']\n",
    "    nodeAmbig = np.average(nodeVectors['est_dist'], weights=weights)\n",
    "    \n",
    "    #mean of ambiguities of nodes and vectors, weight by nodes 2:1 relation\n",
    "    totAmbig = np.average([relAmbig, nodeAmbig], weights=[2, 1])\n",
    "    \n",
    "    #transform -1..1 where 1 is the least ambiguous to 0..1 where 1 is the most ambiguous\n",
    "    return 1-((1+totAmbig)/2)"
   ]
  },
  {
   "cell_type": "markdown",
   "metadata": {},
   "source": [
    "## Methods"
   ]
  },
  {
   "cell_type": "code",
   "execution_count": 8,
   "metadata": {},
   "outputs": [],
   "source": [
    "##### Setup methods\n",
    "def rand(inp, source, conf):\n",
    "    return source.sample(n=1)\n",
    "\n",
    "#Find result with specific distance\n",
    "def dist(inp, source, conf):\n",
    "    if conf == None:\n",
    "        dist = 1\n",
    "    else:\n",
    "        dist = conf.get('dist', 1)\n",
    "        \n",
    "    dist = min(max(dist, 0), len(source.index)-1)\n",
    "    \n",
    "    #use pandas to get top-n, if dist is same move inp to the top\n",
    "    source[['dist', 'isInp']] = source.apply(lambda row: pd.Series([wv.cosine_similarities(list(inp['vec']), [list(row['vec'])])[0], inp[0] == row[0]]), axis = 1)\n",
    "    source = source.sort_values(by=['dist', 'isInp'], ascending=False)\n",
    "    \n",
    "    logger.debug(f\"source:\\n{source}\")\n",
    "    \n",
    "    logger.debug(f\"dist: {dist}\")\n",
    "    logger.debug(f\"choice:\\n{source.iloc[[dist]]}\")\n",
    "\n",
    "    return source.iloc[[dist]].drop(['dist', 'isInp'], axis=1)\n",
    "\n",
    "#Find result with specific closeness\n",
    "def closeness(inp, source, conf):\n",
    "    if conf == None:\n",
    "        closeness = 1\n",
    "    else:\n",
    "        closeness = conf.get('closeness', 1)\n",
    "        \n",
    "    closeness = min(max(closeness, 0), 2) #0 is equal to the input, 2 is its inverse\n",
    "    \n",
    "    #use pandas to get dists\n",
    "    source[['dist', 'isInp']] = source.apply(lambda row: pd.Series([wv.cosine_similarities(list(inp['vec']), [list(row['vec'])])[0], inp[0] == row[0]]), axis = 1)\n",
    "    resIndex = source['dist'].add(closeness-1).abs().idxmin()\n",
    "    \n",
    "    return source.iloc[[resIndex]].drop(['dist', 'isInp'], axis=1)\n",
    "\n",
    "#Find result closest to inverse input vector\n",
    "def negative(inp, source, conf):\n",
    "    return closeness(inp, source, {'closeness': 2})\n",
    "\n",
    "methods = {\n",
    "    'nodes':{\n",
    "        'random': rand,\n",
    "        'dist': dist,\n",
    "        'closeness': closeness,\n",
    "        'negative': negative\n",
    "    },\n",
    "    'relations': {\n",
    "        'random': rand,\n",
    "        'dist': dist,\n",
    "        'closeness': closeness,\n",
    "        'negative': negative\n",
    "    }\n",
    "}"
   ]
  },
  {
   "cell_type": "markdown",
   "metadata": {},
   "source": [
    "## Vectorisation Functions"
   ]
  },
  {
   "cell_type": "code",
   "execution_count": 9,
   "metadata": {},
   "outputs": [],
   "source": [
    "def convertGraph(g):\n",
    "    logger.info(f\"Converting graph\")\n",
    "    length = 0\n",
    "    for s, p, o in g.triples((None, None, None)):\n",
    "        length += 1\n",
    "\n",
    "    fullVectors = []\n",
    "    for s, p, o in tqdm(g.triples((None, None, None)), total=length, file=tqdm_out, mininterval=2):\n",
    "        fullVectors += [[s, p, o]]\n",
    "\n",
    "    return pd.DataFrame(data=fullVectors, columns=['s', 'p', 'o'])\n",
    "\n",
    "def vectorifyGraph(fullVectors):\n",
    "    logger.info(f\"Vecotrifying graph\")\n",
    "\n",
    "    logger.info('Subject vectors')\n",
    "    fullVectors[['s_vec', 's_is_multipart', 's_multipart_%']] = fullVectors.progress_apply(lambda row: pd.Series(toVector(row['s'])), axis=1)\n",
    "\n",
    "    logger.info('Object vectors')\n",
    "    fullVectors[['o_vec', 'o_is_multipart', 'o_multipart_%']] = fullVectors.progress_apply(lambda row: pd.Series(toVector(row['o'])), axis=1)\n",
    "\n",
    "    logger.info('Relation vectors')\n",
    "    fullVectors[['r_vec', 'is_zero_vector_relation']] = fullVectors.progress_apply(lambda row: pd.Series([\n",
    "        row['o_vec']-row['s_vec'] if row['o_vec'] is not None and row['s_vec'] is not None else None,\n",
    "        np.array_equal(row['o_vec']-row['s_vec'], [0]*len(row['o_vec'])) if row['o_vec'] is not None and row['s_vec'] is not None else False\n",
    "    ]), axis=1)\n",
    "    \n",
    "    return fullVectors\n",
    "\n",
    "def calculateNodeEstimates(fullVectors, relationVectors):\n",
    "    logger.info(f\"Calculating node estimates\")\n",
    "    \n",
    "    def helper(row, op, same, other):\n",
    "        #Select the relation vector if there is one\n",
    "        relVecs = relationVectors[relationVectors['relation'] == row['p']]\n",
    "        if len(relVecs) > 0:\n",
    "            rVec = relVecs['vec'].iloc[0]\n",
    "        else:\n",
    "            rVec = None\n",
    "        \n",
    "        #Calculate the estimate\n",
    "        if row[other] is not None and rVec is not None:\n",
    "            est = op(row[other], rVec)\n",
    "        else:\n",
    "            est = None\n",
    "        \n",
    "        #Calculate the distance\n",
    "        if est is not None and row[same] is not None:\n",
    "            dist = wv.cosine_similarities(row[same], [est])[0]\n",
    "        else:\n",
    "            dist = None\n",
    "        \n",
    "        return pd.Series([est, dist], dtype='object')\n",
    "\n",
    "    logger.info(f\"Subject estimates\")\n",
    "    fullVectors[['s_est', 's_est_dist']] = fullVectors.progress_apply(helper, args=[np.subtract, 's_vec', 'o_vec'], axis=1)\n",
    "    \n",
    "    logger.info(f\"Object estimates\")\n",
    "    fullVectors[['o_est', 'o_est_dist']] = fullVectors.progress_apply(helper, args=[np.add, 'o_vec', 's_vec'], axis=1)\n",
    "    \n",
    "    #Workaround for readability as pandas is equaling NaN and None\n",
    "    fullVectors = fullVectors.astype({'s_est': 'object', 's_est_dist': 'object', 'o_est': 'object', 'o_est_dist': 'object'})\n",
    "    fullVectors.loc[fullVectors['s_est'].isna(), 's_est'] = None\n",
    "    fullVectors.loc[fullVectors['s_est_dist'].isna(), 's_est_dist'] = None\n",
    "    fullVectors.loc[fullVectors['o_est'].isna(), 'o_est'] = None\n",
    "    fullVectors.loc[fullVectors['o_est_dist'].isna(), 'o_est_dist'] = None\n",
    "    \n",
    "    return fullVectors\n",
    "\n",
    "def generateNodeVectors(fullVectors):\n",
    "    logger.info(f\"Generating nodeVectors\")\n",
    "    \n",
    "    #Rename and merge\n",
    "    logger.debug(f\"Renaming and merging\")\n",
    "    subjectVectors = fullVectors[['s', 's_vec', 's_is_multipart', 's_multipart_%', 's_est', 's_est_dist']].rename(columns={'s': 'node',\n",
    "                                                                                                    's_vec': 'vec',\n",
    "                                                                                                    's_is_multipart': 'is_multipart',\n",
    "                                                                                                    's_multipart_%': 'multipart_%',\n",
    "                                                                                                    's_est': 'est',\n",
    "                                                                                                    's_est_dist': 'est_dist'})\n",
    "    objectVectors = fullVectors[['o', 'o_vec', 'o_is_multipart', 'o_multipart_%', 'o_est', 'o_est_dist']].rename(columns={'o': 'node',\n",
    "                                                                                                   'o_vec': 'vec',\n",
    "                                                                                                   'o_is_multipart': 'is_multipart',\n",
    "                                                                                                   'o_multipart_%': 'multipart_%',\n",
    "                                                                                                   'o_est': 'est',\n",
    "                                                                                                   'o_est_dist': 'est_dist'})\n",
    "    nodeVectors = pd.concat([subjectVectors, objectVectors], ignore_index=True)\n",
    "    \n",
    "    #Remove duplicates\n",
    "    logger.debug(f\"Grouping\")\n",
    "    nodeGroup = nodeVectors.groupby('node')\n",
    "\n",
    "    logger.debug(f\"Using first for vector\")\n",
    "    #nodeVectors = nodeGroup.first().reset_index() #this is really slow\n",
    "    nodeVectors = nodeGroup.head(1).reset_index(drop=True)\n",
    "    \n",
    "    logger.debug(f\"Calculating totals\")\n",
    "    nodeVectors['total'] = nodeGroup.size().reset_index(drop=True)\n",
    "    \n",
    "    logger.debug(f\"Calculating estimates\")\n",
    "    nodeVectors['est'] = nodeGroup['est'].apply(np.mean).reset_index(drop=True)\n",
    "    \n",
    "    #Workaround as pandas is equaling NaN and None\n",
    "    nodeVectors = nodeVectors.astype({'est': 'object', 'vec': 'object'})\n",
    "    nodeVectors.loc[nodeVectors['est'].isna(), 'est'] = None\n",
    "    nodeVectors.loc[nodeVectors['vec'].isna(), 'vec'] = None\n",
    "    \n",
    "    logger.debug(f\"Calculating estimate distances\")\n",
    "    nodeVectors['est_dist'] = nodeVectors.apply(lambda row: wv.cosine_similarities(list(row['est']), [list(row['vec'])])[0] if row['est'] is not None and row['vec'] is not None else None, axis=1)\n",
    "    \n",
    "    logger.debug(f\"Calculating mean/min/max of distances\")\n",
    "    nodeVectors['mean_est_dist'] = nodeGroup['est_dist'].apply(np.mean).reset_index(drop=True)\n",
    "    nodeVectors['min_est_dist'] = nodeGroup['est_dist'].apply(np.min).reset_index(drop=True)\n",
    "    nodeVectors['max_est_dist'] = nodeGroup['est_dist'].apply(np.max).reset_index(drop=True)\n",
    "    \n",
    "    #Split into nodeVectors and lostNodes\n",
    "    logger.debug(f\"Splitting into nodeVectors and lostNodes\")\n",
    "    lostNodes = nodeVectors[nodeVectors['vec'].isnull()].reset_index(drop=True).drop(columns=['vec', 'est_dist', 'mean_est_dist', 'min_est_dist', 'max_est_dist'])\n",
    "    nodeVectors = nodeVectors.dropna().reset_index(drop=True)\n",
    "    logger.info(\"Done\")\n",
    "    \n",
    "    return nodeVectors, lostNodes\n",
    "\n",
    "def generateRelationVectors(fullVectors):\n",
    "    logger.info(f\"Generating relationVectors\")\n",
    "    \n",
    "    logger.debug(f\"Grouping\")\n",
    "    relationVectors = fullVectors.groupby('p')['r_vec'].apply(np.mean).reset_index().rename(columns={'p': 'relation', 'r_vec': 'vec'})\n",
    "\n",
    "    logger.debug(f\"Calculating total, lost, zero_vector and quality\")\n",
    "    relationVectors['total'] = fullVectors.groupby('p')['p'].count().reset_index(drop=True)\n",
    "    relationVectors['lost'] = fullVectors.groupby('p')['r_vec'].apply(lambda x: x.isnull().sum()).reset_index(drop=True)\n",
    "    relationVectors['zero_vector'] = fullVectors.groupby('p')['is_zero_vector_relation'].sum().astype(int).reset_index(drop=True)\n",
    "    relationVectors['quality'] = relationVectors.apply(lambda row: 1-(row['lost']+row['zero_vector'])/row['total'], axis=1)\n",
    "\n",
    "    #TODO: labels are counted as lost nodes\n",
    "    #Split into relationVectors and lostRelations\n",
    "    logger.debug(f\"Splitting into relationVectors and lostRelations\")\n",
    "    lostRelations = relationVectors[np.bitwise_or(\n",
    "        relationVectors['vec'].isnull(),\n",
    "        relationVectors['total']-relationVectors['lost']-relationVectors['zero_vector'] == 0\n",
    "    )].reset_index(drop=True).drop(columns=['vec', 'quality'])\n",
    "    relationVectors = relationVectors[np.bitwise_and(\n",
    "        relationVectors['vec'].notnull(),\n",
    "        relationVectors['total']-relationVectors['lost']-relationVectors['zero_vector'] != 0\n",
    "    )].reset_index(drop=True)\n",
    "    \n",
    "    #Min/max/average distance of every full vector of this relation type to mean vector\n",
    "    logger.debug(f\"Calculating min, max and average distances\")\n",
    "    def helper_dist(row):\n",
    "        vectors = fullVectors[fullVectors['p'] == row['relation']]\n",
    "\n",
    "        #filter out None and zero-vector\n",
    "        vectors = vectors[vectors['is_zero_vector_relation'] == False]\n",
    "        vectors = vectors['r_vec'].dropna().reset_index(drop=True)\n",
    "\n",
    "        sims = wv.cosine_similarities(row['vec'], list(vectors))\n",
    "        return [np.min(sims), np.max(sims), np.mean(sims)]\n",
    "\n",
    "    relationVectors[['min_dist', 'max_dist', 'mean_dist']] = relationVectors.apply(lambda row: pd.Series(helper_dist(row)), axis=1)\n",
    "    logger.info(\"Done\")\n",
    "    \n",
    "    return relationVectors, lostRelations"
   ]
  },
  {
   "cell_type": "markdown",
   "metadata": {},
   "source": [
    "## Vector generation"
   ]
  },
  {
   "cell_type": "code",
   "execution_count": 10,
   "metadata": {},
   "outputs": [
    {
     "name": "stderr",
     "output_type": "stream",
     "text": [
      "2021-01-08 19:56:37,859 : INFO : Converting graph\n",
      "2021-01-08 19:56:37,869 : INFO : 0%|          | 0/5000 [00:00<?, ?it/s]\n",
      "2021-01-08 19:56:37,879 : INFO : 100%|##########| 5000/5000 [00:00<00:00, 499774.08it/s]\n"
     ]
    }
   ],
   "source": [
    "convertedGraph = convertGraph(g)"
   ]
  },
  {
   "cell_type": "code",
   "execution_count": 11,
   "metadata": {
    "scrolled": true
   },
   "outputs": [
    {
     "name": "stderr",
     "output_type": "stream",
     "text": [
      "2021-01-08 19:56:37,891 : INFO : Vecotrifying graph\n",
      "2021-01-08 19:56:37,891 : INFO : Subject vectors\n",
      "100%|██████████| 5000/5000 [00:01<00:00, 4762.86it/s]\n",
      "2021-01-08 19:56:38,943 : INFO : Object vectors\n",
      "100%|██████████| 5000/5000 [00:01<00:00, 4903.64it/s]\n",
      "2021-01-08 19:56:39,966 : INFO : Relation vectors\n",
      "100%|██████████| 5000/5000 [00:01<00:00, 3532.84it/s]\n"
     ]
    }
   ],
   "source": [
    "fullVectors = vectorifyGraph(convertedGraph)"
   ]
  },
  {
   "cell_type": "code",
   "execution_count": 12,
   "metadata": {},
   "outputs": [
    {
     "name": "stderr",
     "output_type": "stream",
     "text": [
      "2021-01-08 19:56:41,391 : INFO : Generating relationVectors\n",
      "2021-01-08 19:56:41,552 : INFO : Done\n"
     ]
    }
   ],
   "source": [
    "relationVectors, lostRelations = generateRelationVectors(fullVectors)"
   ]
  },
  {
   "cell_type": "code",
   "execution_count": 13,
   "metadata": {},
   "outputs": [
    {
     "name": "stderr",
     "output_type": "stream",
     "text": [
      "2021-01-08 19:56:41,562 : INFO : Calculating node estimates\n",
      "2021-01-08 19:56:41,562 : INFO : Subject estimates\n",
      "100%|██████████| 5000/5000 [00:03<00:00, 1467.13it/s]\n",
      "2021-01-08 19:56:44,973 : INFO : Object estimates\n",
      "100%|██████████| 5000/5000 [00:03<00:00, 1476.86it/s]\n"
     ]
    }
   ],
   "source": [
    "fullVectors = calculateNodeEstimates(fullVectors, relationVectors)"
   ]
  },
  {
   "cell_type": "code",
   "execution_count": 14,
   "metadata": {},
   "outputs": [
    {
     "name": "stderr",
     "output_type": "stream",
     "text": [
      "2021-01-08 19:56:48,384 : INFO : Generating nodeVectors\n",
      "2021-01-08 19:56:51,814 : INFO : Done\n"
     ]
    }
   ],
   "source": [
    "nodeVectors, lostNodes = generateNodeVectors(fullVectors)"
   ]
  },
  {
   "cell_type": "markdown",
   "metadata": {},
   "source": [
    "## Save & load dataframes"
   ]
  },
  {
   "cell_type": "raw",
   "metadata": {
    "pycharm": {
     "name": "#%%\n"
    }
   },
   "source": [
    "fullVectors.to_pickle(\"fullVectors.plk\")\n",
    "nodeVectors.to_pickle(\"nodeVectors.plk\")\n",
    "lostNodes.to_pickle(\"lostNodes.plk\")\n",
    "relationVectors.to_pickle(\"relationVectors.plk\")\n",
    "lostRelations.to_pickle(\"lostRelations.plk\")"
   ]
  },
  {
   "cell_type": "code",
   "execution_count": null,
   "metadata": {
    "pycharm": {
     "name": "#%%\n"
    }
   },
   "outputs": [],
   "source": [
    "fullVectors = pd.read_pickle(\"fullVectors.plk\")\n",
    "nodeVectors = pd.read_pickle(\"nodeVectors.plk\")\n",
    "lostNodes = pd.read_pickle(\"lostNodes.plk\")\n",
    "relationVectors = pd.read_pickle(\"relationVectors.plk\")\n",
    "lostRelations = pd.read_pickle(\"lostRelations.plk\")"
   ]
  },
  {
   "cell_type": "markdown",
   "metadata": {},
   "source": [
    "## View calculated values"
   ]
  },
  {
   "cell_type": "markdown",
   "metadata": {},
   "source": [
    "### Full vectors"
   ]
  },
  {
   "cell_type": "code",
   "execution_count": null,
   "metadata": {},
   "outputs": [],
   "source": [
    "print(f\"Length: {len(fullVectors)}\")\n",
    "fullVectors.head(5)"
   ]
  },
  {
   "cell_type": "code",
   "execution_count": null,
   "metadata": {},
   "outputs": [],
   "source": [
    "#Show rows where the relation vector was lost\n",
    "fullVectors[fullVectors['r_vec'].isnull()].head(2)"
   ]
  },
  {
   "cell_type": "code",
   "execution_count": null,
   "metadata": {},
   "outputs": [],
   "source": [
    "#Show rows where the relation vector is a zero-vector\n",
    "fullVectors[fullVectors['is_zero_vector_relation'] == True].head(2)"
   ]
  },
  {
   "cell_type": "markdown",
   "metadata": {},
   "source": [
    "### Node Vectors"
   ]
  },
  {
   "cell_type": "code",
   "execution_count": 15,
   "metadata": {},
   "outputs": [
    {
     "name": "stdout",
     "output_type": "stream",
     "text": [
      "Length: 4913\n"
     ]
    },
    {
     "data": {
      "text/html": [
       "<div>\n",
       "<style scoped>\n",
       "    .dataframe tbody tr th:only-of-type {\n",
       "        vertical-align: middle;\n",
       "    }\n",
       "\n",
       "    .dataframe tbody tr th {\n",
       "        vertical-align: top;\n",
       "    }\n",
       "\n",
       "    .dataframe thead th {\n",
       "        text-align: right;\n",
       "    }\n",
       "</style>\n",
       "<table border=\"1\" class=\"dataframe\">\n",
       "  <thead>\n",
       "    <tr style=\"text-align: right;\">\n",
       "      <th></th>\n",
       "      <th>node</th>\n",
       "      <th>vec</th>\n",
       "      <th>is_multipart</th>\n",
       "      <th>multipart_%</th>\n",
       "      <th>est</th>\n",
       "      <th>est_dist</th>\n",
       "      <th>total</th>\n",
       "      <th>mean_est_dist</th>\n",
       "      <th>min_est_dist</th>\n",
       "      <th>max_est_dist</th>\n",
       "    </tr>\n",
       "  </thead>\n",
       "  <tbody>\n",
       "    <tr>\n",
       "      <th>0</th>\n",
       "      <td>http://dbpedia.org/resource/Radiant_Silvergun</td>\n",
       "      <td>[0.22325, 0.22216, 0.67548, -0.12648, 0.22958,...</td>\n",
       "      <td>True</td>\n",
       "      <td>0.5</td>\n",
       "      <td>[0.34065378, 0.27364218, 0.32448545, -0.418758...</td>\n",
       "      <td>0.043518</td>\n",
       "      <td>3</td>\n",
       "      <td>0.500622</td>\n",
       "      <td>0.452228</td>\n",
       "      <td>0.533155</td>\n",
       "    </tr>\n",
       "    <tr>\n",
       "      <th>1</th>\n",
       "      <td>http://dbpedia.org/resource/Indiana_Jones_and_...</td>\n",
       "      <td>[0.33915552, 0.04321866, 0.24572147, -0.609336...</td>\n",
       "      <td>True</td>\n",
       "      <td>1</td>\n",
       "      <td>[0.6000022, 0.18331566, 0.20097998, -1.6242815...</td>\n",
       "      <td>0.610917</td>\n",
       "      <td>1</td>\n",
       "      <td>0.512982</td>\n",
       "      <td>0.512982</td>\n",
       "      <td>0.512982</td>\n",
       "    </tr>\n",
       "    <tr>\n",
       "      <th>2</th>\n",
       "      <td>http://dbpedia.org/resource/Come_and_Get_It_(f...</td>\n",
       "      <td>[-0.080652, 0.3597175, 0.54608274, -0.52795255...</td>\n",
       "      <td>True</td>\n",
       "      <td>0.8</td>\n",
       "      <td>[0.33089137, -0.085565954, 0.57441854, -1.0712...</td>\n",
       "      <td>0.731521</td>\n",
       "      <td>2</td>\n",
       "      <td>0.705864</td>\n",
       "      <td>0.703185</td>\n",
       "      <td>0.708543</td>\n",
       "    </tr>\n",
       "    <tr>\n",
       "      <th>3</th>\n",
       "      <td>http://dbpedia.org/resource/Divine_Madness_(film)</td>\n",
       "      <td>[0.60714, -0.22570501, 0.608975, 0.037065, -0....</td>\n",
       "      <td>True</td>\n",
       "      <td>0.666667</td>\n",
       "      <td>[-0.21051016, -0.12711333, 0.29678008, -0.9346...</td>\n",
       "      <td>0.337148</td>\n",
       "      <td>2</td>\n",
       "      <td>0.499152</td>\n",
       "      <td>0.497262</td>\n",
       "      <td>0.501042</td>\n",
       "    </tr>\n",
       "    <tr>\n",
       "      <th>4</th>\n",
       "      <td>http://dbpedia.org/resource/The_101st_Proposal</td>\n",
       "      <td>[-0.09736034, -0.20573, 0.7275767, -0.1456, 0....</td>\n",
       "      <td>True</td>\n",
       "      <td>1</td>\n",
       "      <td>[-0.1844028, -0.34428734, 0.12005848, 0.100448...</td>\n",
       "      <td>-0.020823</td>\n",
       "      <td>1</td>\n",
       "      <td>-0.073387</td>\n",
       "      <td>-0.073387</td>\n",
       "      <td>-0.073387</td>\n",
       "    </tr>\n",
       "  </tbody>\n",
       "</table>\n",
       "</div>"
      ],
      "text/plain": [
       "                                                node  \\\n",
       "0      http://dbpedia.org/resource/Radiant_Silvergun   \n",
       "1  http://dbpedia.org/resource/Indiana_Jones_and_...   \n",
       "2  http://dbpedia.org/resource/Come_and_Get_It_(f...   \n",
       "3  http://dbpedia.org/resource/Divine_Madness_(film)   \n",
       "4     http://dbpedia.org/resource/The_101st_Proposal   \n",
       "\n",
       "                                                 vec  is_multipart  \\\n",
       "0  [0.22325, 0.22216, 0.67548, -0.12648, 0.22958,...          True   \n",
       "1  [0.33915552, 0.04321866, 0.24572147, -0.609336...          True   \n",
       "2  [-0.080652, 0.3597175, 0.54608274, -0.52795255...          True   \n",
       "3  [0.60714, -0.22570501, 0.608975, 0.037065, -0....          True   \n",
       "4  [-0.09736034, -0.20573, 0.7275767, -0.1456, 0....          True   \n",
       "\n",
       "  multipart_%                                                est  est_dist  \\\n",
       "0         0.5  [0.34065378, 0.27364218, 0.32448545, -0.418758...  0.043518   \n",
       "1           1  [0.6000022, 0.18331566, 0.20097998, -1.6242815...  0.610917   \n",
       "2         0.8  [0.33089137, -0.085565954, 0.57441854, -1.0712...  0.731521   \n",
       "3    0.666667  [-0.21051016, -0.12711333, 0.29678008, -0.9346...  0.337148   \n",
       "4           1  [-0.1844028, -0.34428734, 0.12005848, 0.100448... -0.020823   \n",
       "\n",
       "   total  mean_est_dist  min_est_dist  max_est_dist  \n",
       "0      3       0.500622      0.452228      0.533155  \n",
       "1      1       0.512982      0.512982      0.512982  \n",
       "2      2       0.705864      0.703185      0.708543  \n",
       "3      2       0.499152      0.497262      0.501042  \n",
       "4      1      -0.073387     -0.073387     -0.073387  "
      ]
     },
     "execution_count": 15,
     "metadata": {},
     "output_type": "execute_result"
    }
   ],
   "source": [
    "print(f\"Length: {len(nodeVectors)}\")\n",
    "nodeVectors.head(5)"
   ]
  },
  {
   "cell_type": "code",
   "execution_count": null,
   "metadata": {},
   "outputs": [],
   "source": [
    "filt = np.bitwise_and(nodeVectors['est_dist'] < 0.5, nodeVectors['est_dist'] > -0.5)\n",
    "filt = np.bitwise_and(filt, nodeVectors['total'] > 5)\n",
    "\n",
    "print(f\"Length: {len(nodeVectors[filt])}\")\n",
    "nodeVectors[filt].sort_values(by=['total'], ascending=False)"
   ]
  },
  {
   "cell_type": "code",
   "execution_count": 58,
   "metadata": {},
   "outputs": [
    {
     "data": {
      "text/html": [
       "<div>\n",
       "<style scoped>\n",
       "    .dataframe tbody tr th:only-of-type {\n",
       "        vertical-align: middle;\n",
       "    }\n",
       "\n",
       "    .dataframe tbody tr th {\n",
       "        vertical-align: top;\n",
       "    }\n",
       "\n",
       "    .dataframe thead th {\n",
       "        text-align: right;\n",
       "    }\n",
       "</style>\n",
       "<table border=\"1\" class=\"dataframe\">\n",
       "  <thead>\n",
       "    <tr style=\"text-align: right;\">\n",
       "      <th></th>\n",
       "      <th>node</th>\n",
       "      <th>vec</th>\n",
       "      <th>is_multipart</th>\n",
       "      <th>multipart_%</th>\n",
       "      <th>est</th>\n",
       "      <th>est_dist</th>\n",
       "      <th>total</th>\n",
       "      <th>mean_est_dist</th>\n",
       "      <th>min_est_dist</th>\n",
       "      <th>max_est_dist</th>\n",
       "    </tr>\n",
       "  </thead>\n",
       "  <tbody>\n",
       "    <tr>\n",
       "      <th>279</th>\n",
       "      <td>http://dbpedia.org/resource/Sunburn_(film)</td>\n",
       "      <td>[-0.36729, -0.55372, 0.16013, -0.22974, -0.692...</td>\n",
       "      <td>True</td>\n",
       "      <td>0.5</td>\n",
       "      <td>[-0.32337722, -0.31549466, -0.6620285, -1.6254...</td>\n",
       "      <td>0.129681</td>\n",
       "      <td>1</td>\n",
       "      <td>0.126678</td>\n",
       "      <td>0.126678</td>\n",
       "      <td>0.126678</td>\n",
       "    </tr>\n",
       "    <tr>\n",
       "      <th>1196</th>\n",
       "      <td>http://dbpedia.org/resource/Hail_Caesar_(1994_...</td>\n",
       "      <td>[-0.500405, -0.14324999, -0.20369999, -0.04821...</td>\n",
       "      <td>True</td>\n",
       "      <td>0.5</td>\n",
       "      <td>[-0.46737194, 0.0043117343, 0.5349639, -0.4466...</td>\n",
       "      <td>0.189421</td>\n",
       "      <td>5</td>\n",
       "      <td>0.084835</td>\n",
       "      <td>0.078539</td>\n",
       "      <td>0.104443</td>\n",
       "    </tr>\n",
       "    <tr>\n",
       "      <th>1489</th>\n",
       "      <td>http://dbpedia.org/resource/The_Book_of_Eli</td>\n",
       "      <td>[0.0475865, -0.09380251, 0.29594252, -0.271049...</td>\n",
       "      <td>True</td>\n",
       "      <td>1</td>\n",
       "      <td>[0.07789853, -0.2703538, 0.09717044, -0.232922...</td>\n",
       "      <td>0.094222</td>\n",
       "      <td>8</td>\n",
       "      <td>0.462000</td>\n",
       "      <td>0.076007</td>\n",
       "      <td>0.765240</td>\n",
       "    </tr>\n",
       "    <tr>\n",
       "      <th>2438</th>\n",
       "      <td>http://dbpedia.org/resource/Deliver_Us_from_Ev...</td>\n",
       "      <td>[0.1312775, 0.3996275, 0.8671055, -0.16977513,...</td>\n",
       "      <td>True</td>\n",
       "      <td>0.666667</td>\n",
       "      <td>[0.017988075, -0.10607218, 0.19175702, -0.4321...</td>\n",
       "      <td>0.471390</td>\n",
       "      <td>16</td>\n",
       "      <td>0.586691</td>\n",
       "      <td>0.196206</td>\n",
       "      <td>1.000000</td>\n",
       "    </tr>\n",
       "    <tr>\n",
       "      <th>4331</th>\n",
       "      <td>http://dbpedia.org/resource/David_Lynch</td>\n",
       "      <td>[-0.09358999, -0.418895, -0.246725, -0.972355,...</td>\n",
       "      <td>True</td>\n",
       "      <td>1</td>\n",
       "      <td>[-0.18580827, 0.39173132, 0.2736042, -0.594454...</td>\n",
       "      <td>0.398678</td>\n",
       "      <td>7</td>\n",
       "      <td>0.544145</td>\n",
       "      <td>0.430642</td>\n",
       "      <td>0.676313</td>\n",
       "    </tr>\n",
       "  </tbody>\n",
       "</table>\n",
       "</div>"
      ],
      "text/plain": [
       "                                                   node  \\\n",
       "279          http://dbpedia.org/resource/Sunburn_(film)   \n",
       "1196  http://dbpedia.org/resource/Hail_Caesar_(1994_...   \n",
       "1489        http://dbpedia.org/resource/The_Book_of_Eli   \n",
       "2438  http://dbpedia.org/resource/Deliver_Us_from_Ev...   \n",
       "4331            http://dbpedia.org/resource/David_Lynch   \n",
       "\n",
       "                                                    vec  is_multipart  \\\n",
       "279   [-0.36729, -0.55372, 0.16013, -0.22974, -0.692...          True   \n",
       "1196  [-0.500405, -0.14324999, -0.20369999, -0.04821...          True   \n",
       "1489  [0.0475865, -0.09380251, 0.29594252, -0.271049...          True   \n",
       "2438  [0.1312775, 0.3996275, 0.8671055, -0.16977513,...          True   \n",
       "4331  [-0.09358999, -0.418895, -0.246725, -0.972355,...          True   \n",
       "\n",
       "     multipart_%                                                est  est_dist  \\\n",
       "279          0.5  [-0.32337722, -0.31549466, -0.6620285, -1.6254...  0.129681   \n",
       "1196         0.5  [-0.46737194, 0.0043117343, 0.5349639, -0.4466...  0.189421   \n",
       "1489           1  [0.07789853, -0.2703538, 0.09717044, -0.232922...  0.094222   \n",
       "2438    0.666667  [0.017988075, -0.10607218, 0.19175702, -0.4321...  0.471390   \n",
       "4331           1  [-0.18580827, 0.39173132, 0.2736042, -0.594454...  0.398678   \n",
       "\n",
       "      total  mean_est_dist  min_est_dist  max_est_dist  \n",
       "279       1       0.126678      0.126678      0.126678  \n",
       "1196      5       0.084835      0.078539      0.104443  \n",
       "1489      8       0.462000      0.076007      0.765240  \n",
       "2438     16       0.586691      0.196206      1.000000  \n",
       "4331      7       0.544145      0.430642      0.676313  "
      ]
     },
     "execution_count": 58,
     "metadata": {},
     "output_type": "execute_result"
    }
   ],
   "source": [
    "rndNodes = nodeVectors.sample(n=2, replace=True)\n",
    "nodeSel = pd.DataFrame([\n",
    "    nodeVectors.iloc[2438],\n",
    "    nodeVectors.iloc[1489],\n",
    "    nodeVectors.iloc[4331],\n",
    "    #nodeVectors.iloc[4218],\n",
    "    #nodeVectors.iloc[3441],\n",
    "])\n",
    "nodeSel = pd.concat([nodeSel, rndNodes])\n",
    "\n",
    "nodeSel.sort_index().head()"
   ]
  },
  {
   "cell_type": "raw",
   "metadata": {},
   "source": [
    "i = 18493\n",
    "fullVectors[np.bitwise_or(fullVectors['o'] == nodeVectors.iloc[i]['node'], fullVectors['s'] == nodeVectors.iloc[i]['node'])]"
   ]
  },
  {
   "cell_type": "code",
   "execution_count": null,
   "metadata": {
    "pycharm": {
     "name": "#%%\n"
    }
   },
   "outputs": [],
   "source": [
    "print(f\"Length: {len(lostNodes)}\")\n",
    "lostNodes.head(2)"
   ]
  },
  {
   "cell_type": "markdown",
   "metadata": {
    "pycharm": {
     "name": "#%% md\n"
    }
   },
   "source": [
    "### Relation Vectors"
   ]
  },
  {
   "cell_type": "code",
   "execution_count": 43,
   "metadata": {},
   "outputs": [
    {
     "name": "stdout",
     "output_type": "stream",
     "text": [
      "Length: 37\n"
     ]
    },
    {
     "data": {
      "text/html": [
       "<div>\n",
       "<style scoped>\n",
       "    .dataframe tbody tr th:only-of-type {\n",
       "        vertical-align: middle;\n",
       "    }\n",
       "\n",
       "    .dataframe tbody tr th {\n",
       "        vertical-align: top;\n",
       "    }\n",
       "\n",
       "    .dataframe thead th {\n",
       "        text-align: right;\n",
       "    }\n",
       "</style>\n",
       "<table border=\"1\" class=\"dataframe\">\n",
       "  <thead>\n",
       "    <tr style=\"text-align: right;\">\n",
       "      <th></th>\n",
       "      <th>relation</th>\n",
       "      <th>vec</th>\n",
       "      <th>total</th>\n",
       "      <th>lost</th>\n",
       "      <th>zero_vector</th>\n",
       "      <th>quality</th>\n",
       "      <th>min_dist</th>\n",
       "      <th>max_dist</th>\n",
       "      <th>mean_dist</th>\n",
       "    </tr>\n",
       "  </thead>\n",
       "  <tbody>\n",
       "    <tr>\n",
       "      <th>0</th>\n",
       "      <td>http://dbpedia.org/ontology/animator</td>\n",
       "      <td>[0.38613868, -0.58469844, -0.3027209, -0.60569...</td>\n",
       "      <td>3</td>\n",
       "      <td>0</td>\n",
       "      <td>0</td>\n",
       "      <td>1.000000</td>\n",
       "      <td>0.640799</td>\n",
       "      <td>0.738185</td>\n",
       "      <td>0.687697</td>\n",
       "    </tr>\n",
       "    <tr>\n",
       "      <th>1</th>\n",
       "      <td>http://dbpedia.org/ontology/author</td>\n",
       "      <td>[-0.15743324, -0.3848862, -0.33862153, -0.4068...</td>\n",
       "      <td>33</td>\n",
       "      <td>1</td>\n",
       "      <td>0</td>\n",
       "      <td>0.969697</td>\n",
       "      <td>0.039840</td>\n",
       "      <td>0.806792</td>\n",
       "      <td>0.500067</td>\n",
       "    </tr>\n",
       "    <tr>\n",
       "      <th>2</th>\n",
       "      <td>http://dbpedia.org/ontology/basedOn</td>\n",
       "      <td>[0.0903059, -0.21618846, -0.4296071, 0.1371367...</td>\n",
       "      <td>2</td>\n",
       "      <td>0</td>\n",
       "      <td>0</td>\n",
       "      <td>1.000000</td>\n",
       "      <td>0.684395</td>\n",
       "      <td>0.708510</td>\n",
       "      <td>0.696452</td>\n",
       "    </tr>\n",
       "    <tr>\n",
       "      <th>3</th>\n",
       "      <td>http://dbpedia.org/ontology/cinematography</td>\n",
       "      <td>[-0.010429196, -0.21777731, -0.4219989, -0.294...</td>\n",
       "      <td>79</td>\n",
       "      <td>7</td>\n",
       "      <td>0</td>\n",
       "      <td>0.911392</td>\n",
       "      <td>-0.100177</td>\n",
       "      <td>0.828193</td>\n",
       "      <td>0.467659</td>\n",
       "    </tr>\n",
       "    <tr>\n",
       "      <th>4</th>\n",
       "      <td>http://dbpedia.org/ontology/company</td>\n",
       "      <td>[0.26096, 0.6361747, -0.29776168, -0.29193503,...</td>\n",
       "      <td>1</td>\n",
       "      <td>0</td>\n",
       "      <td>0</td>\n",
       "      <td>1.000000</td>\n",
       "      <td>1.000000</td>\n",
       "      <td>1.000000</td>\n",
       "      <td>1.000000</td>\n",
       "    </tr>\n",
       "    <tr>\n",
       "      <th>5</th>\n",
       "      <td>http://dbpedia.org/ontology/composer</td>\n",
       "      <td>[-0.2703046, -0.5453316, -0.667576, 0.20165958...</td>\n",
       "      <td>2</td>\n",
       "      <td>0</td>\n",
       "      <td>0</td>\n",
       "      <td>1.000000</td>\n",
       "      <td>0.889117</td>\n",
       "      <td>0.916638</td>\n",
       "      <td>0.902877</td>\n",
       "    </tr>\n",
       "    <tr>\n",
       "      <th>6</th>\n",
       "      <td>http://dbpedia.org/ontology/creator</td>\n",
       "      <td>[-0.052064423, -0.35066944, -0.3704326, -0.339...</td>\n",
       "      <td>28</td>\n",
       "      <td>2</td>\n",
       "      <td>0</td>\n",
       "      <td>0.928571</td>\n",
       "      <td>-0.229096</td>\n",
       "      <td>0.805065</td>\n",
       "      <td>0.556329</td>\n",
       "    </tr>\n",
       "    <tr>\n",
       "      <th>7</th>\n",
       "      <td>http://dbpedia.org/ontology/designer</td>\n",
       "      <td>[0.18126369, -0.34197477, -0.32104373, -0.2480...</td>\n",
       "      <td>8</td>\n",
       "      <td>0</td>\n",
       "      <td>0</td>\n",
       "      <td>1.000000</td>\n",
       "      <td>0.242212</td>\n",
       "      <td>0.680967</td>\n",
       "      <td>0.546649</td>\n",
       "    </tr>\n",
       "    <tr>\n",
       "      <th>8</th>\n",
       "      <td>http://dbpedia.org/ontology/developer</td>\n",
       "      <td>[-0.41711, -0.430375, 0.28362998, -0.82495, -0...</td>\n",
       "      <td>1</td>\n",
       "      <td>0</td>\n",
       "      <td>0</td>\n",
       "      <td>1.000000</td>\n",
       "      <td>1.000000</td>\n",
       "      <td>1.000000</td>\n",
       "      <td>1.000000</td>\n",
       "    </tr>\n",
       "    <tr>\n",
       "      <th>9</th>\n",
       "      <td>http://dbpedia.org/ontology/director</td>\n",
       "      <td>[-0.071287215, -0.26223266, -0.41385847, -0.23...</td>\n",
       "      <td>3098</td>\n",
       "      <td>177</td>\n",
       "      <td>0</td>\n",
       "      <td>0.942866</td>\n",
       "      <td>-0.314111</td>\n",
       "      <td>0.860963</td>\n",
       "      <td>0.442433</td>\n",
       "    </tr>\n",
       "    <tr>\n",
       "      <th>10</th>\n",
       "      <td>http://dbpedia.org/ontology/editing</td>\n",
       "      <td>[-0.08237242, -0.33162066, -0.4005817, -0.2743...</td>\n",
       "      <td>138</td>\n",
       "      <td>13</td>\n",
       "      <td>0</td>\n",
       "      <td>0.905797</td>\n",
       "      <td>-0.140418</td>\n",
       "      <td>0.821390</td>\n",
       "      <td>0.464445</td>\n",
       "    </tr>\n",
       "    <tr>\n",
       "      <th>11</th>\n",
       "      <td>http://dbpedia.org/ontology/executiveProducer</td>\n",
       "      <td>[-0.28582972, -0.41335946, -0.3867603, -0.5136...</td>\n",
       "      <td>18</td>\n",
       "      <td>1</td>\n",
       "      <td>0</td>\n",
       "      <td>0.944444</td>\n",
       "      <td>0.266962</td>\n",
       "      <td>0.785961</td>\n",
       "      <td>0.565969</td>\n",
       "    </tr>\n",
       "    <tr>\n",
       "      <th>12</th>\n",
       "      <td>http://dbpedia.org/ontology/gameArtist</td>\n",
       "      <td>[-0.14650068, -0.23191568, -0.109801695, -0.38...</td>\n",
       "      <td>2</td>\n",
       "      <td>0</td>\n",
       "      <td>0</td>\n",
       "      <td>1.000000</td>\n",
       "      <td>0.841713</td>\n",
       "      <td>0.895199</td>\n",
       "      <td>0.868456</td>\n",
       "    </tr>\n",
       "    <tr>\n",
       "      <th>13</th>\n",
       "      <td>http://dbpedia.org/ontology/guest</td>\n",
       "      <td>[0.03645, 0.18767999, -1.164115, -1.196235, 0....</td>\n",
       "      <td>1</td>\n",
       "      <td>0</td>\n",
       "      <td>0</td>\n",
       "      <td>1.000000</td>\n",
       "      <td>1.000000</td>\n",
       "      <td>1.000000</td>\n",
       "      <td>1.000000</td>\n",
       "    </tr>\n",
       "    <tr>\n",
       "      <th>14</th>\n",
       "      <td>http://dbpedia.org/ontology/musicComposer</td>\n",
       "      <td>[-0.11928001, -0.14954056, -0.34977815, -0.141...</td>\n",
       "      <td>26</td>\n",
       "      <td>1</td>\n",
       "      <td>0</td>\n",
       "      <td>0.961538</td>\n",
       "      <td>-0.017626</td>\n",
       "      <td>0.780076</td>\n",
       "      <td>0.547129</td>\n",
       "    </tr>\n",
       "    <tr>\n",
       "      <th>15</th>\n",
       "      <td>http://dbpedia.org/ontology/narrator</td>\n",
       "      <td>[-0.18016395, -0.04092519, -0.38429728, -0.502...</td>\n",
       "      <td>12</td>\n",
       "      <td>1</td>\n",
       "      <td>0</td>\n",
       "      <td>0.916667</td>\n",
       "      <td>0.049430</td>\n",
       "      <td>0.768061</td>\n",
       "      <td>0.535898</td>\n",
       "    </tr>\n",
       "    <tr>\n",
       "      <th>16</th>\n",
       "      <td>http://dbpedia.org/ontology/openingTheme</td>\n",
       "      <td>[-0.060560994, -0.60399, -0.3951035, 0.150015,...</td>\n",
       "      <td>1</td>\n",
       "      <td>0</td>\n",
       "      <td>0</td>\n",
       "      <td>1.000000</td>\n",
       "      <td>1.000000</td>\n",
       "      <td>1.000000</td>\n",
       "      <td>1.000000</td>\n",
       "    </tr>\n",
       "    <tr>\n",
       "      <th>17</th>\n",
       "      <td>http://dbpedia.org/ontology/person</td>\n",
       "      <td>[0.187498, -0.61435497, -0.44063854, 0.2411677...</td>\n",
       "      <td>1</td>\n",
       "      <td>0</td>\n",
       "      <td>0</td>\n",
       "      <td>1.000000</td>\n",
       "      <td>1.000000</td>\n",
       "      <td>1.000000</td>\n",
       "      <td>1.000000</td>\n",
       "    </tr>\n",
       "    <tr>\n",
       "      <th>18</th>\n",
       "      <td>http://dbpedia.org/ontology/presenter</td>\n",
       "      <td>[0.7597827, 0.6555216, -0.343928, -0.2793767, ...</td>\n",
       "      <td>1</td>\n",
       "      <td>0</td>\n",
       "      <td>0</td>\n",
       "      <td>1.000000</td>\n",
       "      <td>1.000000</td>\n",
       "      <td>1.000000</td>\n",
       "      <td>1.000000</td>\n",
       "    </tr>\n",
       "    <tr>\n",
       "      <th>19</th>\n",
       "      <td>http://dbpedia.org/ontology/producer</td>\n",
       "      <td>[-0.059094034, -0.29482853, -0.38914213, -0.26...</td>\n",
       "      <td>457</td>\n",
       "      <td>23</td>\n",
       "      <td>0</td>\n",
       "      <td>0.949672</td>\n",
       "      <td>-0.127428</td>\n",
       "      <td>0.857781</td>\n",
       "      <td>0.459307</td>\n",
       "    </tr>\n",
       "    <tr>\n",
       "      <th>20</th>\n",
       "      <td>http://dbpedia.org/ontology/starring</td>\n",
       "      <td>[-0.070428304, -0.2409798, -0.3476438, -0.2280...</td>\n",
       "      <td>111</td>\n",
       "      <td>3</td>\n",
       "      <td>0</td>\n",
       "      <td>0.972973</td>\n",
       "      <td>-0.109092</td>\n",
       "      <td>0.761344</td>\n",
       "      <td>0.446684</td>\n",
       "    </tr>\n",
       "    <tr>\n",
       "      <th>21</th>\n",
       "      <td>http://dbpedia.org/ontology/voice</td>\n",
       "      <td>[-0.17566867, -0.4391642, -0.44418278, -0.1600...</td>\n",
       "      <td>2</td>\n",
       "      <td>0</td>\n",
       "      <td>0</td>\n",
       "      <td>1.000000</td>\n",
       "      <td>0.799984</td>\n",
       "      <td>0.885188</td>\n",
       "      <td>0.842586</td>\n",
       "    </tr>\n",
       "    <tr>\n",
       "      <th>22</th>\n",
       "      <td>http://dbpedia.org/ontology/wikiPageExternalLink</td>\n",
       "      <td>[0.8551476, 0.53435427, 0.46789417, 0.20107585...</td>\n",
       "      <td>5</td>\n",
       "      <td>4</td>\n",
       "      <td>0</td>\n",
       "      <td>0.200000</td>\n",
       "      <td>1.000000</td>\n",
       "      <td>1.000000</td>\n",
       "      <td>1.000000</td>\n",
       "    </tr>\n",
       "    <tr>\n",
       "      <th>23</th>\n",
       "      <td>http://dbpedia.org/ontology/writer</td>\n",
       "      <td>[-0.060082596, -0.28292447, -0.41078854, -0.18...</td>\n",
       "      <td>940</td>\n",
       "      <td>63</td>\n",
       "      <td>0</td>\n",
       "      <td>0.932979</td>\n",
       "      <td>-0.281317</td>\n",
       "      <td>0.805446</td>\n",
       "      <td>0.430401</td>\n",
       "    </tr>\n",
       "    <tr>\n",
       "      <th>24</th>\n",
       "      <td>http://dbpedia.org/property/backgroundArtist</td>\n",
       "      <td>[0.8385123, -0.769525, -0.17283565, 0.22673166...</td>\n",
       "      <td>1</td>\n",
       "      <td>0</td>\n",
       "      <td>0</td>\n",
       "      <td>1.000000</td>\n",
       "      <td>1.000000</td>\n",
       "      <td>1.000000</td>\n",
       "      <td>1.000000</td>\n",
       "    </tr>\n",
       "    <tr>\n",
       "      <th>25</th>\n",
       "      <td>http://dbpedia.org/property/basedOn</td>\n",
       "      <td>[0.729025, -0.77305, -0.68617505, 0.558527, 0....</td>\n",
       "      <td>1</td>\n",
       "      <td>0</td>\n",
       "      <td>0</td>\n",
       "      <td>1.000000</td>\n",
       "      <td>1.000000</td>\n",
       "      <td>1.000000</td>\n",
       "      <td>1.000000</td>\n",
       "    </tr>\n",
       "    <tr>\n",
       "      <th>26</th>\n",
       "      <td>http://dbpedia.org/property/directedby</td>\n",
       "      <td>[0.09297554, -0.20840305, -0.15361738, -0.5080...</td>\n",
       "      <td>8</td>\n",
       "      <td>0</td>\n",
       "      <td>0</td>\n",
       "      <td>1.000000</td>\n",
       "      <td>0.480441</td>\n",
       "      <td>0.732729</td>\n",
       "      <td>0.637292</td>\n",
       "    </tr>\n",
       "    <tr>\n",
       "      <th>27</th>\n",
       "      <td>http://dbpedia.org/property/editor</td>\n",
       "      <td>[0.601472, 0.332371, 0.08684498, -0.24192497, ...</td>\n",
       "      <td>1</td>\n",
       "      <td>0</td>\n",
       "      <td>0</td>\n",
       "      <td>1.000000</td>\n",
       "      <td>1.000000</td>\n",
       "      <td>1.000000</td>\n",
       "      <td>1.000000</td>\n",
       "    </tr>\n",
       "    <tr>\n",
       "      <th>28</th>\n",
       "      <td>http://dbpedia.org/property/layoutArtist</td>\n",
       "      <td>[0.8385123, -0.769525, -0.17283565, 0.22673166...</td>\n",
       "      <td>1</td>\n",
       "      <td>0</td>\n",
       "      <td>0</td>\n",
       "      <td>1.000000</td>\n",
       "      <td>1.000000</td>\n",
       "      <td>1.000000</td>\n",
       "      <td>1.000000</td>\n",
       "    </tr>\n",
       "    <tr>\n",
       "      <th>29</th>\n",
       "      <td>http://dbpedia.org/property/lyrics</td>\n",
       "      <td>[0.391186, 0.614511, -0.355599, -0.290865, -0....</td>\n",
       "      <td>2</td>\n",
       "      <td>1</td>\n",
       "      <td>0</td>\n",
       "      <td>0.500000</td>\n",
       "      <td>1.000000</td>\n",
       "      <td>1.000000</td>\n",
       "      <td>1.000000</td>\n",
       "    </tr>\n",
       "    <tr>\n",
       "      <th>30</th>\n",
       "      <td>http://dbpedia.org/property/musician</td>\n",
       "      <td>[0.8385123, -0.769525, -0.17283565, 0.22673166...</td>\n",
       "      <td>1</td>\n",
       "      <td>0</td>\n",
       "      <td>0</td>\n",
       "      <td>1.000000</td>\n",
       "      <td>1.000000</td>\n",
       "      <td>1.000000</td>\n",
       "      <td>1.000000</td>\n",
       "    </tr>\n",
       "    <tr>\n",
       "      <th>31</th>\n",
       "      <td>http://dbpedia.org/property/story</td>\n",
       "      <td>[-0.0055614933, -0.19198748, -0.98677504, 0.74...</td>\n",
       "      <td>2</td>\n",
       "      <td>0</td>\n",
       "      <td>0</td>\n",
       "      <td>1.000000</td>\n",
       "      <td>0.780653</td>\n",
       "      <td>0.804894</td>\n",
       "      <td>0.792773</td>\n",
       "    </tr>\n",
       "    <tr>\n",
       "      <th>32</th>\n",
       "      <td>http://dbpedia.org/property/storyArtist</td>\n",
       "      <td>[0.8385123, -0.769525, -0.17283565, 0.22673166...</td>\n",
       "      <td>1</td>\n",
       "      <td>0</td>\n",
       "      <td>0</td>\n",
       "      <td>1.000000</td>\n",
       "      <td>1.000000</td>\n",
       "      <td>1.000000</td>\n",
       "      <td>1.000000</td>\n",
       "    </tr>\n",
       "    <tr>\n",
       "      <th>33</th>\n",
       "      <td>http://dbpedia.org/property/studio</td>\n",
       "      <td>[0.39534178, -0.1860974, -0.35330418, -0.50428...</td>\n",
       "      <td>8</td>\n",
       "      <td>1</td>\n",
       "      <td>0</td>\n",
       "      <td>0.875000</td>\n",
       "      <td>0.402512</td>\n",
       "      <td>0.746770</td>\n",
       "      <td>0.557802</td>\n",
       "    </tr>\n",
       "    <tr>\n",
       "      <th>34</th>\n",
       "      <td>http://dbpedia.org/property/voiceActor</td>\n",
       "      <td>[0.8385123, -0.769525, -0.17283565, 0.22673166...</td>\n",
       "      <td>1</td>\n",
       "      <td>0</td>\n",
       "      <td>0</td>\n",
       "      <td>1.000000</td>\n",
       "      <td>1.000000</td>\n",
       "      <td>1.000000</td>\n",
       "      <td>1.000000</td>\n",
       "    </tr>\n",
       "    <tr>\n",
       "      <th>35</th>\n",
       "      <td>http://dbpedia.org/property/voiceActor(allUnc.)_</td>\n",
       "      <td>[-0.018410005, -0.569845, -0.98439, -0.0231900...</td>\n",
       "      <td>1</td>\n",
       "      <td>0</td>\n",
       "      <td>0</td>\n",
       "      <td>1.000000</td>\n",
       "      <td>1.000000</td>\n",
       "      <td>1.000000</td>\n",
       "      <td>1.000000</td>\n",
       "    </tr>\n",
       "    <tr>\n",
       "      <th>36</th>\n",
       "      <td>http://dbpedia.org/property/writtenby</td>\n",
       "      <td>[-0.2740204, -0.49458158, -0.73669934, 0.30074...</td>\n",
       "      <td>1</td>\n",
       "      <td>0</td>\n",
       "      <td>0</td>\n",
       "      <td>1.000000</td>\n",
       "      <td>1.000000</td>\n",
       "      <td>1.000000</td>\n",
       "      <td>1.000000</td>\n",
       "    </tr>\n",
       "  </tbody>\n",
       "</table>\n",
       "</div>"
      ],
      "text/plain": [
       "                                            relation  \\\n",
       "0               http://dbpedia.org/ontology/animator   \n",
       "1                 http://dbpedia.org/ontology/author   \n",
       "2                http://dbpedia.org/ontology/basedOn   \n",
       "3         http://dbpedia.org/ontology/cinematography   \n",
       "4                http://dbpedia.org/ontology/company   \n",
       "5               http://dbpedia.org/ontology/composer   \n",
       "6                http://dbpedia.org/ontology/creator   \n",
       "7               http://dbpedia.org/ontology/designer   \n",
       "8              http://dbpedia.org/ontology/developer   \n",
       "9               http://dbpedia.org/ontology/director   \n",
       "10               http://dbpedia.org/ontology/editing   \n",
       "11     http://dbpedia.org/ontology/executiveProducer   \n",
       "12            http://dbpedia.org/ontology/gameArtist   \n",
       "13                 http://dbpedia.org/ontology/guest   \n",
       "14         http://dbpedia.org/ontology/musicComposer   \n",
       "15              http://dbpedia.org/ontology/narrator   \n",
       "16          http://dbpedia.org/ontology/openingTheme   \n",
       "17                http://dbpedia.org/ontology/person   \n",
       "18             http://dbpedia.org/ontology/presenter   \n",
       "19              http://dbpedia.org/ontology/producer   \n",
       "20              http://dbpedia.org/ontology/starring   \n",
       "21                 http://dbpedia.org/ontology/voice   \n",
       "22  http://dbpedia.org/ontology/wikiPageExternalLink   \n",
       "23                http://dbpedia.org/ontology/writer   \n",
       "24      http://dbpedia.org/property/backgroundArtist   \n",
       "25               http://dbpedia.org/property/basedOn   \n",
       "26            http://dbpedia.org/property/directedby   \n",
       "27                http://dbpedia.org/property/editor   \n",
       "28          http://dbpedia.org/property/layoutArtist   \n",
       "29                http://dbpedia.org/property/lyrics   \n",
       "30              http://dbpedia.org/property/musician   \n",
       "31                 http://dbpedia.org/property/story   \n",
       "32           http://dbpedia.org/property/storyArtist   \n",
       "33                http://dbpedia.org/property/studio   \n",
       "34            http://dbpedia.org/property/voiceActor   \n",
       "35  http://dbpedia.org/property/voiceActor(allUnc.)_   \n",
       "36             http://dbpedia.org/property/writtenby   \n",
       "\n",
       "                                                  vec  total  lost  \\\n",
       "0   [0.38613868, -0.58469844, -0.3027209, -0.60569...      3     0   \n",
       "1   [-0.15743324, -0.3848862, -0.33862153, -0.4068...     33     1   \n",
       "2   [0.0903059, -0.21618846, -0.4296071, 0.1371367...      2     0   \n",
       "3   [-0.010429196, -0.21777731, -0.4219989, -0.294...     79     7   \n",
       "4   [0.26096, 0.6361747, -0.29776168, -0.29193503,...      1     0   \n",
       "5   [-0.2703046, -0.5453316, -0.667576, 0.20165958...      2     0   \n",
       "6   [-0.052064423, -0.35066944, -0.3704326, -0.339...     28     2   \n",
       "7   [0.18126369, -0.34197477, -0.32104373, -0.2480...      8     0   \n",
       "8   [-0.41711, -0.430375, 0.28362998, -0.82495, -0...      1     0   \n",
       "9   [-0.071287215, -0.26223266, -0.41385847, -0.23...   3098   177   \n",
       "10  [-0.08237242, -0.33162066, -0.4005817, -0.2743...    138    13   \n",
       "11  [-0.28582972, -0.41335946, -0.3867603, -0.5136...     18     1   \n",
       "12  [-0.14650068, -0.23191568, -0.109801695, -0.38...      2     0   \n",
       "13  [0.03645, 0.18767999, -1.164115, -1.196235, 0....      1     0   \n",
       "14  [-0.11928001, -0.14954056, -0.34977815, -0.141...     26     1   \n",
       "15  [-0.18016395, -0.04092519, -0.38429728, -0.502...     12     1   \n",
       "16  [-0.060560994, -0.60399, -0.3951035, 0.150015,...      1     0   \n",
       "17  [0.187498, -0.61435497, -0.44063854, 0.2411677...      1     0   \n",
       "18  [0.7597827, 0.6555216, -0.343928, -0.2793767, ...      1     0   \n",
       "19  [-0.059094034, -0.29482853, -0.38914213, -0.26...    457    23   \n",
       "20  [-0.070428304, -0.2409798, -0.3476438, -0.2280...    111     3   \n",
       "21  [-0.17566867, -0.4391642, -0.44418278, -0.1600...      2     0   \n",
       "22  [0.8551476, 0.53435427, 0.46789417, 0.20107585...      5     4   \n",
       "23  [-0.060082596, -0.28292447, -0.41078854, -0.18...    940    63   \n",
       "24  [0.8385123, -0.769525, -0.17283565, 0.22673166...      1     0   \n",
       "25  [0.729025, -0.77305, -0.68617505, 0.558527, 0....      1     0   \n",
       "26  [0.09297554, -0.20840305, -0.15361738, -0.5080...      8     0   \n",
       "27  [0.601472, 0.332371, 0.08684498, -0.24192497, ...      1     0   \n",
       "28  [0.8385123, -0.769525, -0.17283565, 0.22673166...      1     0   \n",
       "29  [0.391186, 0.614511, -0.355599, -0.290865, -0....      2     1   \n",
       "30  [0.8385123, -0.769525, -0.17283565, 0.22673166...      1     0   \n",
       "31  [-0.0055614933, -0.19198748, -0.98677504, 0.74...      2     0   \n",
       "32  [0.8385123, -0.769525, -0.17283565, 0.22673166...      1     0   \n",
       "33  [0.39534178, -0.1860974, -0.35330418, -0.50428...      8     1   \n",
       "34  [0.8385123, -0.769525, -0.17283565, 0.22673166...      1     0   \n",
       "35  [-0.018410005, -0.569845, -0.98439, -0.0231900...      1     0   \n",
       "36  [-0.2740204, -0.49458158, -0.73669934, 0.30074...      1     0   \n",
       "\n",
       "    zero_vector   quality  min_dist  max_dist  mean_dist  \n",
       "0             0  1.000000  0.640799  0.738185   0.687697  \n",
       "1             0  0.969697  0.039840  0.806792   0.500067  \n",
       "2             0  1.000000  0.684395  0.708510   0.696452  \n",
       "3             0  0.911392 -0.100177  0.828193   0.467659  \n",
       "4             0  1.000000  1.000000  1.000000   1.000000  \n",
       "5             0  1.000000  0.889117  0.916638   0.902877  \n",
       "6             0  0.928571 -0.229096  0.805065   0.556329  \n",
       "7             0  1.000000  0.242212  0.680967   0.546649  \n",
       "8             0  1.000000  1.000000  1.000000   1.000000  \n",
       "9             0  0.942866 -0.314111  0.860963   0.442433  \n",
       "10            0  0.905797 -0.140418  0.821390   0.464445  \n",
       "11            0  0.944444  0.266962  0.785961   0.565969  \n",
       "12            0  1.000000  0.841713  0.895199   0.868456  \n",
       "13            0  1.000000  1.000000  1.000000   1.000000  \n",
       "14            0  0.961538 -0.017626  0.780076   0.547129  \n",
       "15            0  0.916667  0.049430  0.768061   0.535898  \n",
       "16            0  1.000000  1.000000  1.000000   1.000000  \n",
       "17            0  1.000000  1.000000  1.000000   1.000000  \n",
       "18            0  1.000000  1.000000  1.000000   1.000000  \n",
       "19            0  0.949672 -0.127428  0.857781   0.459307  \n",
       "20            0  0.972973 -0.109092  0.761344   0.446684  \n",
       "21            0  1.000000  0.799984  0.885188   0.842586  \n",
       "22            0  0.200000  1.000000  1.000000   1.000000  \n",
       "23            0  0.932979 -0.281317  0.805446   0.430401  \n",
       "24            0  1.000000  1.000000  1.000000   1.000000  \n",
       "25            0  1.000000  1.000000  1.000000   1.000000  \n",
       "26            0  1.000000  0.480441  0.732729   0.637292  \n",
       "27            0  1.000000  1.000000  1.000000   1.000000  \n",
       "28            0  1.000000  1.000000  1.000000   1.000000  \n",
       "29            0  0.500000  1.000000  1.000000   1.000000  \n",
       "30            0  1.000000  1.000000  1.000000   1.000000  \n",
       "31            0  1.000000  0.780653  0.804894   0.792773  \n",
       "32            0  1.000000  1.000000  1.000000   1.000000  \n",
       "33            0  0.875000  0.402512  0.746770   0.557802  \n",
       "34            0  1.000000  1.000000  1.000000   1.000000  \n",
       "35            0  1.000000  1.000000  1.000000   1.000000  \n",
       "36            0  1.000000  1.000000  1.000000   1.000000  "
      ]
     },
     "execution_count": 43,
     "metadata": {},
     "output_type": "execute_result"
    }
   ],
   "source": [
    "print(f\"Length: {len(relationVectors)}\")\n",
    "relationVectors.head(37)"
   ]
  },
  {
   "cell_type": "code",
   "execution_count": 45,
   "metadata": {},
   "outputs": [
    {
     "name": "stdout",
     "output_type": "stream",
     "text": [
      "Length: 6\n"
     ]
    },
    {
     "data": {
      "text/html": [
       "<div>\n",
       "<style scoped>\n",
       "    .dataframe tbody tr th:only-of-type {\n",
       "        vertical-align: middle;\n",
       "    }\n",
       "\n",
       "    .dataframe tbody tr th {\n",
       "        vertical-align: top;\n",
       "    }\n",
       "\n",
       "    .dataframe thead th {\n",
       "        text-align: right;\n",
       "    }\n",
       "</style>\n",
       "<table border=\"1\" class=\"dataframe\">\n",
       "  <thead>\n",
       "    <tr style=\"text-align: right;\">\n",
       "      <th></th>\n",
       "      <th>relation</th>\n",
       "      <th>vec</th>\n",
       "      <th>total</th>\n",
       "      <th>lost</th>\n",
       "      <th>zero_vector</th>\n",
       "      <th>quality</th>\n",
       "      <th>min_dist</th>\n",
       "      <th>max_dist</th>\n",
       "      <th>mean_dist</th>\n",
       "    </tr>\n",
       "  </thead>\n",
       "  <tbody>\n",
       "    <tr>\n",
       "      <th>9</th>\n",
       "      <td>http://dbpedia.org/ontology/director</td>\n",
       "      <td>[-0.071287215, -0.26223266, -0.41385847, -0.23...</td>\n",
       "      <td>3098</td>\n",
       "      <td>177</td>\n",
       "      <td>0</td>\n",
       "      <td>0.942866</td>\n",
       "      <td>-0.314111</td>\n",
       "      <td>0.860963</td>\n",
       "      <td>0.442433</td>\n",
       "    </tr>\n",
       "    <tr>\n",
       "      <th>23</th>\n",
       "      <td>http://dbpedia.org/ontology/writer</td>\n",
       "      <td>[-0.060082596, -0.28292447, -0.41078854, -0.18...</td>\n",
       "      <td>940</td>\n",
       "      <td>63</td>\n",
       "      <td>0</td>\n",
       "      <td>0.932979</td>\n",
       "      <td>-0.281317</td>\n",
       "      <td>0.805446</td>\n",
       "      <td>0.430401</td>\n",
       "    </tr>\n",
       "    <tr>\n",
       "      <th>19</th>\n",
       "      <td>http://dbpedia.org/ontology/producer</td>\n",
       "      <td>[-0.059094034, -0.29482853, -0.38914213, -0.26...</td>\n",
       "      <td>457</td>\n",
       "      <td>23</td>\n",
       "      <td>0</td>\n",
       "      <td>0.949672</td>\n",
       "      <td>-0.127428</td>\n",
       "      <td>0.857781</td>\n",
       "      <td>0.459307</td>\n",
       "    </tr>\n",
       "    <tr>\n",
       "      <th>10</th>\n",
       "      <td>http://dbpedia.org/ontology/editing</td>\n",
       "      <td>[-0.08237242, -0.33162066, -0.4005817, -0.2743...</td>\n",
       "      <td>138</td>\n",
       "      <td>13</td>\n",
       "      <td>0</td>\n",
       "      <td>0.905797</td>\n",
       "      <td>-0.140418</td>\n",
       "      <td>0.821390</td>\n",
       "      <td>0.464445</td>\n",
       "    </tr>\n",
       "    <tr>\n",
       "      <th>20</th>\n",
       "      <td>http://dbpedia.org/ontology/starring</td>\n",
       "      <td>[-0.070428304, -0.2409798, -0.3476438, -0.2280...</td>\n",
       "      <td>111</td>\n",
       "      <td>3</td>\n",
       "      <td>0</td>\n",
       "      <td>0.972973</td>\n",
       "      <td>-0.109092</td>\n",
       "      <td>0.761344</td>\n",
       "      <td>0.446684</td>\n",
       "    </tr>\n",
       "    <tr>\n",
       "      <th>3</th>\n",
       "      <td>http://dbpedia.org/ontology/cinematography</td>\n",
       "      <td>[-0.010429196, -0.21777731, -0.4219989, -0.294...</td>\n",
       "      <td>79</td>\n",
       "      <td>7</td>\n",
       "      <td>0</td>\n",
       "      <td>0.911392</td>\n",
       "      <td>-0.100177</td>\n",
       "      <td>0.828193</td>\n",
       "      <td>0.467659</td>\n",
       "    </tr>\n",
       "  </tbody>\n",
       "</table>\n",
       "</div>"
      ],
      "text/plain": [
       "                                      relation  \\\n",
       "9         http://dbpedia.org/ontology/director   \n",
       "23          http://dbpedia.org/ontology/writer   \n",
       "19        http://dbpedia.org/ontology/producer   \n",
       "10         http://dbpedia.org/ontology/editing   \n",
       "20        http://dbpedia.org/ontology/starring   \n",
       "3   http://dbpedia.org/ontology/cinematography   \n",
       "\n",
       "                                                  vec  total  lost  \\\n",
       "9   [-0.071287215, -0.26223266, -0.41385847, -0.23...   3098   177   \n",
       "23  [-0.060082596, -0.28292447, -0.41078854, -0.18...    940    63   \n",
       "19  [-0.059094034, -0.29482853, -0.38914213, -0.26...    457    23   \n",
       "10  [-0.08237242, -0.33162066, -0.4005817, -0.2743...    138    13   \n",
       "20  [-0.070428304, -0.2409798, -0.3476438, -0.2280...    111     3   \n",
       "3   [-0.010429196, -0.21777731, -0.4219989, -0.294...     79     7   \n",
       "\n",
       "    zero_vector   quality  min_dist  max_dist  mean_dist  \n",
       "9             0  0.942866 -0.314111  0.860963   0.442433  \n",
       "23            0  0.932979 -0.281317  0.805446   0.430401  \n",
       "19            0  0.949672 -0.127428  0.857781   0.459307  \n",
       "10            0  0.905797 -0.140418  0.821390   0.464445  \n",
       "20            0  0.972973 -0.109092  0.761344   0.446684  \n",
       "3             0  0.911392 -0.100177  0.828193   0.467659  "
      ]
     },
     "execution_count": 45,
     "metadata": {},
     "output_type": "execute_result"
    }
   ],
   "source": [
    "filt = np.bitwise_and(relationVectors['mean_dist'] < 0.5, relationVectors['total'] > 5)\n",
    "filt = np.bitwise_and(filt, relationVectors['mean_dist'] > -0.5)\n",
    "\n",
    "print(f\"Length: {len(relationVectors[filt])}\")\n",
    "relationVectors[filt].sort_values(by=['total'], ascending=False)"
   ]
  },
  {
   "cell_type": "code",
   "execution_count": 60,
   "metadata": {},
   "outputs": [
    {
     "data": {
      "text/html": [
       "<div>\n",
       "<style scoped>\n",
       "    .dataframe tbody tr th:only-of-type {\n",
       "        vertical-align: middle;\n",
       "    }\n",
       "\n",
       "    .dataframe tbody tr th {\n",
       "        vertical-align: top;\n",
       "    }\n",
       "\n",
       "    .dataframe thead th {\n",
       "        text-align: right;\n",
       "    }\n",
       "</style>\n",
       "<table border=\"1\" class=\"dataframe\">\n",
       "  <thead>\n",
       "    <tr style=\"text-align: right;\">\n",
       "      <th></th>\n",
       "      <th>relation</th>\n",
       "      <th>vec</th>\n",
       "      <th>total</th>\n",
       "      <th>lost</th>\n",
       "      <th>zero_vector</th>\n",
       "      <th>quality</th>\n",
       "      <th>min_dist</th>\n",
       "      <th>max_dist</th>\n",
       "      <th>mean_dist</th>\n",
       "    </tr>\n",
       "  </thead>\n",
       "  <tbody>\n",
       "    <tr>\n",
       "      <th>9</th>\n",
       "      <td>http://dbpedia.org/ontology/director</td>\n",
       "      <td>[-0.071287215, -0.26223266, -0.41385847, -0.23...</td>\n",
       "      <td>3098</td>\n",
       "      <td>177</td>\n",
       "      <td>0</td>\n",
       "      <td>0.942866</td>\n",
       "      <td>-0.314111</td>\n",
       "      <td>0.860963</td>\n",
       "      <td>0.442433</td>\n",
       "    </tr>\n",
       "    <tr>\n",
       "      <th>20</th>\n",
       "      <td>http://dbpedia.org/ontology/starring</td>\n",
       "      <td>[-0.070428304, -0.2409798, -0.3476438, -0.2280...</td>\n",
       "      <td>111</td>\n",
       "      <td>3</td>\n",
       "      <td>0</td>\n",
       "      <td>0.972973</td>\n",
       "      <td>-0.109092</td>\n",
       "      <td>0.761344</td>\n",
       "      <td>0.446684</td>\n",
       "    </tr>\n",
       "    <tr>\n",
       "      <th>23</th>\n",
       "      <td>http://dbpedia.org/ontology/writer</td>\n",
       "      <td>[-0.060082596, -0.28292447, -0.41078854, -0.18...</td>\n",
       "      <td>940</td>\n",
       "      <td>63</td>\n",
       "      <td>0</td>\n",
       "      <td>0.932979</td>\n",
       "      <td>-0.281317</td>\n",
       "      <td>0.805446</td>\n",
       "      <td>0.430401</td>\n",
       "    </tr>\n",
       "    <tr>\n",
       "      <th>27</th>\n",
       "      <td>http://dbpedia.org/property/editor</td>\n",
       "      <td>[0.601472, 0.332371, 0.08684498, -0.24192497, ...</td>\n",
       "      <td>1</td>\n",
       "      <td>0</td>\n",
       "      <td>0</td>\n",
       "      <td>1.000000</td>\n",
       "      <td>1.000000</td>\n",
       "      <td>1.000000</td>\n",
       "      <td>1.000000</td>\n",
       "    </tr>\n",
       "    <tr>\n",
       "      <th>28</th>\n",
       "      <td>http://dbpedia.org/property/layoutArtist</td>\n",
       "      <td>[0.8385123, -0.769525, -0.17283565, 0.22673166...</td>\n",
       "      <td>1</td>\n",
       "      <td>0</td>\n",
       "      <td>0</td>\n",
       "      <td>1.000000</td>\n",
       "      <td>1.000000</td>\n",
       "      <td>1.000000</td>\n",
       "      <td>1.000000</td>\n",
       "    </tr>\n",
       "  </tbody>\n",
       "</table>\n",
       "</div>"
      ],
      "text/plain": [
       "                                    relation  \\\n",
       "9       http://dbpedia.org/ontology/director   \n",
       "20      http://dbpedia.org/ontology/starring   \n",
       "23        http://dbpedia.org/ontology/writer   \n",
       "27        http://dbpedia.org/property/editor   \n",
       "28  http://dbpedia.org/property/layoutArtist   \n",
       "\n",
       "                                                  vec  total  lost  \\\n",
       "9   [-0.071287215, -0.26223266, -0.41385847, -0.23...   3098   177   \n",
       "20  [-0.070428304, -0.2409798, -0.3476438, -0.2280...    111     3   \n",
       "23  [-0.060082596, -0.28292447, -0.41078854, -0.18...    940    63   \n",
       "27  [0.601472, 0.332371, 0.08684498, -0.24192497, ...      1     0   \n",
       "28  [0.8385123, -0.769525, -0.17283565, 0.22673166...      1     0   \n",
       "\n",
       "    zero_vector   quality  min_dist  max_dist  mean_dist  \n",
       "9             0  0.942866 -0.314111  0.860963   0.442433  \n",
       "20            0  0.972973 -0.109092  0.761344   0.446684  \n",
       "23            0  0.932979 -0.281317  0.805446   0.430401  \n",
       "27            0  1.000000  1.000000  1.000000   1.000000  \n",
       "28            0  1.000000  1.000000  1.000000   1.000000  "
      ]
     },
     "execution_count": 60,
     "metadata": {},
     "output_type": "execute_result"
    }
   ],
   "source": [
    "rndRels = relationVectors.sample(n=2, replace=True)\n",
    "relSel = pd.DataFrame([\n",
    "    relationVectors.iloc[9],\n",
    "    relationVectors.iloc[23],\n",
    "    relationVectors.iloc[20],\n",
    "    #relationVectors.iloc[10],\n",
    "    #relationVectors.iloc[19],\n",
    "])\n",
    "relSel = pd.concat([relSel, rndRels])\n",
    "\n",
    "relSel.sort_index().head()"
   ]
  },
  {
   "cell_type": "code",
   "execution_count": null,
   "metadata": {
    "pycharm": {
     "name": "#%%\n"
    }
   },
   "outputs": [],
   "source": [
    "print(f\"Length: {len(lostRelations)}\")\n",
    "lostRelations.head(3)"
   ]
  },
  {
   "cell_type": "markdown",
   "metadata": {},
   "source": [
    "## Manual calculations for verification"
   ]
  },
  {
   "cell_type": "markdown",
   "metadata": {
    "pycharm": {
     "name": "#%% md\n"
    }
   },
   "source": [
    "### Full vectors"
   ]
  },
  {
   "cell_type": "code",
   "execution_count": null,
   "metadata": {},
   "outputs": [],
   "source": [
    "#Multipart\n",
    "print(nodeVectors['is_multipart'].iloc[20])\n",
    "print(nodeVectors['multipart_%'].iloc[20])"
   ]
  },
  {
   "cell_type": "code",
   "execution_count": null,
   "metadata": {},
   "outputs": [],
   "source": [
    "#Zero-Vector\n",
    "print(fullVectors['is_zero_vector_relation'].iloc[20])"
   ]
  },
  {
   "cell_type": "code",
   "execution_count": null,
   "metadata": {},
   "outputs": [],
   "source": [
    "#Lost relation\n",
    "print(fullVectors['r_vec'].iloc[18])"
   ]
  },
  {
   "cell_type": "code",
   "execution_count": null,
   "metadata": {
    "scrolled": true
   },
   "outputs": [],
   "source": [
    "#Estimate\n",
    "print(fullVectors['s_est'].iloc[18], fullVectors['s_est_dist'].iloc[18])\n",
    "\n",
    "#print(fullVectors['s_est'].iloc[0])\n",
    "\n",
    "#Calculate estimate (minus means arrow from R to L for relationVector calculation)\n",
    "est = fullVectors['o_vec'].iloc[0]-relationVectors['vec'].iloc[2]\n",
    "#print(est)\n",
    "\n",
    "print(wv.cosine_similarities(fullVectors['s_est'].iloc[0], [est])[0])\n",
    "\n",
    "print(fullVectors['s_est_dist'].iloc[0])\n",
    "print(wv.cosine_similarities(fullVectors['s_vec'].iloc[0], [est])[0])"
   ]
  },
  {
   "cell_type": "markdown",
   "metadata": {
    "pycharm": {
     "name": "#%% md\n"
    }
   },
   "source": [
    "### Relations"
   ]
  },
  {
   "cell_type": "code",
   "execution_count": null,
   "metadata": {},
   "outputs": [],
   "source": [
    "#Lost relation\n",
    "print(lostRelations['lost'].iloc[0])\n",
    "print(lostRelations['zero_vector'].iloc[1])"
   ]
  },
  {
   "cell_type": "code",
   "execution_count": null,
   "metadata": {},
   "outputs": [],
   "source": [
    "#Quality\n",
    "print(relationVectors['quality'].iloc[1])\n",
    "print((relationVectors['total'].iloc[1]-relationVectors['lost'].iloc[1]-relationVectors['zero_vector'].iloc[1])/relationVectors['total'].iloc[1])"
   ]
  },
  {
   "cell_type": "markdown",
   "metadata": {
    "pycharm": {
     "name": "#%% md\n"
    }
   },
   "source": [
    "### Nodes"
   ]
  },
  {
   "cell_type": "code",
   "execution_count": null,
   "metadata": {
    "pycharm": {
     "name": "#%%\n"
    }
   },
   "outputs": [],
   "source": [
    "#Unlabeled\n",
    "np.array_equal(fullVectors['o_vec'].iloc[32], wv['australia'])"
   ]
  },
  {
   "cell_type": "code",
   "execution_count": null,
   "metadata": {},
   "outputs": [],
   "source": [
    "#Lost node\n",
    "lostNodes.iloc[0]"
   ]
  },
  {
   "cell_type": "markdown",
   "metadata": {},
   "source": [
    "### Methods"
   ]
  },
  {
   "cell_type": "code",
   "execution_count": null,
   "metadata": {},
   "outputs": [],
   "source": [
    "#Node with the maximal distance to 'berlin'\n",
    "nodeVectors.iloc[np.argmin(wv.cosine_similarities(wv['berlin'], list(nodeVectors['vec'])))]['node']"
   ]
  },
  {
   "cell_type": "code",
   "execution_count": null,
   "metadata": {
    "pycharm": {
     "name": "#%%\n"
    }
   },
   "outputs": [],
   "source": [
    "#Dist method\n",
    "\n",
    "#Same\n",
    "print(nodeVectors['node'].iloc[0], dist(nodeVectors.iloc[0].copy(), nodeVectors.copy(), {'dist': 0})['node'].iloc[0])\n",
    "\n",
    "#Inverse\n",
    "print(nodeVectors['node'].iloc[0], dist(nodeVectors.iloc[0].copy(), nodeVectors.copy(), {'dist': 100})['node'].iloc[0])"
   ]
  },
  {
   "cell_type": "code",
   "execution_count": null,
   "metadata": {},
   "outputs": [],
   "source": [
    "#Closeness method\n",
    "\n",
    "#Same\n",
    "print(nodeVectors['node'].iloc[0], closeness(nodeVectors.iloc[0].copy(), nodeVectors.copy(), {'closeness': 0})['node'].iloc[0])\n",
    "\n",
    "#Inverse\n",
    "print(nodeVectors['node'].iloc[0], closeness(nodeVectors.iloc[0].copy(), nodeVectors.copy(), {'closeness': 2})['node'].iloc[0])"
   ]
  },
  {
   "cell_type": "markdown",
   "metadata": {
    "pycharm": {
     "name": "#%% md\n"
    }
   },
   "source": [
    "### Ambiguity"
   ]
  },
  {
   "cell_type": "code",
   "execution_count": null,
   "metadata": {},
   "outputs": [],
   "source": [
    "#Ambiguity\n",
    "print(\"0.1191733359168643\")\n",
    "\n",
    "#for relations\n",
    "weights = relationVectors['total'] - relationVectors['lost'] - relationVectors['zero_vector']\n",
    "relAmbig = np.average(relationVectors['mean_dist'], weights=weights)\n",
    "\n",
    "print(np.array_equal(weights, [6, 5, 7]))\n",
    "print(relAmbig)\n",
    "print((relationVectors['mean_dist'].iloc[0]*6+relationVectors['mean_dist'].iloc[1]*5+relationVectors['mean_dist'].iloc[2]*7)/(6+5+7))\n",
    "\n",
    "#for nodes\n",
    "weights = nodeVectors['total']\n",
    "nodeAmbig = np.average(nodeVectors['est_dist'], weights=weights)\n",
    "\n",
    "#mean of ambiguities of nodes and vectors, weight by nodes 2:1 relation\n",
    "totAmbig = np.average([relAmbig, nodeAmbig], weights=[2, 1])\n",
    "\n",
    "#transform -1..1 where 1 is the least ambiguous to 0..1 where 1 is the most ambiguous\n",
    "print(1-((1+totAmbig)/2))\n",
    "\n",
    "print(1-((1+(-1))/2))\n",
    "print(1-((1+(1))/2))"
   ]
  },
  {
   "cell_type": "markdown",
   "metadata": {},
   "source": [
    "## Run workflow"
   ]
  },
  {
   "cell_type": "markdown",
   "metadata": {},
   "source": [
    "### Simulation configs"
   ]
  },
  {
   "cell_type": "code",
   "execution_count": null,
   "metadata": {},
   "outputs": [],
   "source": [
    "#Simulate small natural ambiguity\n",
    "config = {\n",
    "    'nodes': {\n",
    "        'random': [{'amount': {'num': 2}}],\n",
    "        'dist': [{\n",
    "                    'amount': {'num': 10},\n",
    "                     'param': {'dist': 1}\n",
    "                 }, {\n",
    "                     'amount': {'num': 2},\n",
    "                     'param': {'dist': 2}\n",
    "                 }]\n",
    "    },\n",
    "    'relations': {\n",
    "        'random': [{'amount': {'num': 2}}],\n",
    "        'dist': [{'amount': {'num': 5},\n",
    "                 'param': {'dist': 1}}]\n",
    "    }\n",
    "}"
   ]
  },
  {
   "cell_type": "code",
   "execution_count": null,
   "metadata": {},
   "outputs": [],
   "source": [
    "#Simulate medium natural ambiguity\n",
    "config = {\n",
    "    'nodes': {\n",
    "        'random': [{'amount': {'num': 2}}],\n",
    "        'dist': [{\n",
    "                    'amount': {'num': 10},\n",
    "                     'param': {'dist': 1}\n",
    "                 }, {\n",
    "                     'amount': {'num': 2},\n",
    "                     'param': {'dist': 2}\n",
    "                 }]\n",
    "    },\n",
    "    'relations': {\n",
    "        'random': [{'amount': {'num': 2}}],\n",
    "        'dist': [{'amount': {'num': 5},\n",
    "                 'param': {'dist': 1}}]\n",
    "    }\n",
    "}"
   ]
  },
  {
   "cell_type": "code",
   "execution_count": null,
   "metadata": {},
   "outputs": [],
   "source": [
    "#Simulate large natural ambiguity\n",
    "config = {\n",
    "    'nodes': {\n",
    "        'random': [{'amount': {'num': 2}}],\n",
    "        'dist': [{\n",
    "                    'amount': {'num': 10},\n",
    "                     'param': {'dist': 1}\n",
    "                 }, {\n",
    "                     'amount': {'num': 2},\n",
    "                     'param': {'dist': 2}\n",
    "                 }]\n",
    "    },\n",
    "    'relations': {\n",
    "        'random': [{'amount': {'num': 2}}],\n",
    "        'dist': [{'amount': {'num': 5},\n",
    "                 'param': {'dist': 1}}]\n",
    "    }\n",
    "}"
   ]
  },
  {
   "cell_type": "markdown",
   "metadata": {},
   "source": [
    "### Test configs"
   ]
  },
  {
   "cell_type": "code",
   "execution_count": null,
   "metadata": {
    "pycharm": {
     "name": "#%%\n"
    }
   },
   "outputs": [],
   "source": [
    "#Random changes for testing\n",
    "config = {\n",
    "    'nodes': {\n",
    "        'random': [{'amount': {'num': 5000}}]\n",
    "    },\n",
    "    'relations': {\n",
    "        'random': [{'amount': {'num': 2500}}]\n",
    "    }\n",
    "}"
   ]
  },
  {
   "cell_type": "code",
   "execution_count": null,
   "metadata": {
    "pycharm": {
     "name": "#%%\n"
    }
   },
   "outputs": [],
   "source": [
    "#Random changes for testing\n",
    "config = {\n",
    "    'nodes': {\n",
    "        'random': [{'amount': {'num': 5}}]\n",
    "    },\n",
    "    'relations': {\n",
    "        'random': [{'amount': {'num': 2}}]\n",
    "    }\n",
    "}"
   ]
  },
  {
   "cell_type": "code",
   "execution_count": null,
   "metadata": {
    "pycharm": {
     "name": "#%%\n"
    }
   },
   "outputs": [],
   "source": [
    "#Complete negative for testing\n",
    "config = {\n",
    "    'nodes': {\n",
    "        'negative': [{'amount': {'perc': 1}}]\n",
    "    },\n",
    "    'relations': {\n",
    "        'negative': [{'amount': {'perc': 1}}]\n",
    "    }\n",
    "}"
   ]
  },
  {
   "cell_type": "code",
   "execution_count": null,
   "metadata": {
    "pycharm": {
     "name": "#%%\n"
    }
   },
   "outputs": [],
   "source": [
    "#Closeness for testing\n",
    "config = {\n",
    "    'nodes': {\n",
    "        'closeness': [{'amount': {'num': 5},\n",
    "                 'param': {'closeness': 0.2}}]\n",
    "    },\n",
    "    'relations': {\n",
    "        'closeness': [{'amount': {'num': 5},\n",
    "                 'param': {'closeness': 0.2}}]\n",
    "    }\n",
    "}"
   ]
  },
  {
   "cell_type": "markdown",
   "metadata": {},
   "source": [
    "### Evaluation config"
   ]
  },
  {
   "cell_type": "code",
   "execution_count": 63,
   "metadata": {},
   "outputs": [],
   "source": [
    "#Simulate different amounts of ambiguity\n",
    "config = {\n",
    "    'nodes': {\n",
    "        'random': [{'amount': {'num': 5}}],\n",
    "        'dist': [{\n",
    "                    'amount': {'num': 5},\n",
    "                     'param': {'dist': 1}\n",
    "                 }, {\n",
    "                     'amount': {'num': 5},\n",
    "                     'param': {'dist': 2}\n",
    "                 }, {\n",
    "                     'amount': {'num': 5},\n",
    "                     'param': {'dist': 3}\n",
    "                 }, {\n",
    "                     'amount': {'num': 5},\n",
    "                     'param': {'dist': 4}\n",
    "                 }, {\n",
    "                     'amount': {'num': 5},\n",
    "                     'param': {'dist': 5}\n",
    "                 }]\n",
    "    },\n",
    "    'relations': {\n",
    "        'random': [{'amount': {'num': 5}}],\n",
    "        'dist': [{\n",
    "                    'amount': {'num': 5},\n",
    "                    'param': {'dist': 1}\n",
    "                 },{\n",
    "                    'amount': {'num': 5},\n",
    "                    'param': {'dist': 2}\n",
    "                },{\n",
    "                    'amount': {'num': 5},\n",
    "                    'param': {'dist': 3}\n",
    "                },{\n",
    "                    'amount': {'num': 5},\n",
    "                    'param': {'dist': 4}\n",
    "                },{\n",
    "                    'amount': {'num': 5},\n",
    "                    'param': {'dist': 5}\n",
    "                }]\n",
    "    }\n",
    "}"
   ]
  },
  {
   "cell_type": "markdown",
   "metadata": {},
   "source": [
    "### Workflow"
   ]
  },
  {
   "cell_type": "code",
   "execution_count": null,
   "metadata": {
    "pycharm": {
     "name": "#%%\n"
    }
   },
   "outputs": [],
   "source": [
    "#Run imports and define functions, configure the desired result\n",
    "\n",
    "#Load graph and dictionary, you can skip this if you already ran it\n",
    "convertedGraph = convertGraph(g)\n",
    "fullVectors = vectorifyGraph(convertedGraph)\n",
    "relationVectors, lostRelations = generateRelationVectors(fullVectors)\n",
    "fullVectors = calculateNodeEstimates(fullVectors, relationVectors)\n",
    "nodeVectors, lostNodes = generateNodeVectors(fullVectors)\n",
    "\n",
    "#Check outputs before continuing"
   ]
  },
  {
   "cell_type": "code",
   "execution_count": null,
   "metadata": {
    "pycharm": {
     "name": "#%%\n"
    }
   },
   "outputs": [],
   "source": [
    "#The ambiguify-function returns vectors according to configured methods\n",
    "changes = ambiguify(config, nodeVectors, relationVectors)"
   ]
  },
  {
   "cell_type": "code",
   "execution_count": null,
   "metadata": {},
   "outputs": [],
   "source": [
    "#Insert new node into graph based on one random triple containing the source\n",
    "g2 = Graph()\n",
    "additions = populateAdditions(changes, g2)"
   ]
  },
  {
   "cell_type": "code",
   "execution_count": null,
   "metadata": {},
   "outputs": [],
   "source": [
    "changes.head(100)"
   ]
  },
  {
   "cell_type": "code",
   "execution_count": null,
   "metadata": {},
   "outputs": [],
   "source": [
    "additions.head()"
   ]
  },
  {
   "cell_type": "code",
   "execution_count": null,
   "metadata": {
    "pycharm": {
     "name": "#%%\n"
    }
   },
   "outputs": [],
   "source": [
    "#Save additions from nodes and relations\n",
    "logger.info(f\"Saving files\")\n",
    "\n",
    "f = open(\"additions.ttl\", \"wb\")\n",
    "f.write(g2.serialize(format='turtle'))\n",
    "f.close()\n",
    "\n",
    "#Save graph with additions\n",
    "g3 = g+g2\n",
    "f = open(\"appendedKG.ttl\", \"wb\")\n",
    "f.write(g3.serialize(format='turtle'))\n",
    "f.close()\n",
    "\n",
    "logger.info(f\"Done\")"
   ]
  },
  {
   "cell_type": "code",
   "execution_count": null,
   "metadata": {},
   "outputs": [],
   "source": [
    "#Calculate ambiguity before\n",
    "ambiguityBefore = calculateAmbiguity(fullVectors, nodeVectors, relationVectors)\n",
    "logger.info(f\"Ambiguity before: {ambiguityBefore}\")\n",
    "\n",
    "#Prepare data to calculate ambiguity after\n",
    "newFullVectors = fullVectors.copy()\n",
    "\n",
    "if len(additions) > 0:\n",
    "    logger.info(f\"Adding {len(additions)} additional triples\")\n",
    "    vectorisedAdditions = vectorifyGraph(additions)\n",
    "    newFullVectors = newFullVectors.append(vectorisedAdditions, ignore_index = True)\n",
    "\n",
    "newRelationVectors, newLostRelations = generateRelationVectors(newFullVectors)\n",
    "newFullVectors = calculateNodeEstimates(newFullVectors, newRelationVectors)\n",
    "newNodeVectors, newLostNodes = generateNodeVectors(newFullVectors)\n",
    "\n",
    "#Calculate ambiguity after\n",
    "ambiguityAfter = calculateAmbiguity(newFullVectors, newNodeVectors, newRelationVectors)\n",
    "logger.info(f\"Ambiguity after: {ambiguityAfter}\")\n",
    "\n",
    "logger.info(f\"Ambiguity difference: {ambiguityAfter-ambiguityBefore}\")"
   ]
  },
  {
   "cell_type": "markdown",
   "metadata": {},
   "source": [
    "## Export for AMT"
   ]
  },
  {
   "cell_type": "code",
   "execution_count": null,
   "metadata": {},
   "outputs": [],
   "source": [
    "logger.setLevel(logging.INFO)"
   ]
  },
  {
   "cell_type": "code",
   "execution_count": null,
   "metadata": {},
   "outputs": [],
   "source": [
    "logger.setLevel(logging.DEBUG)"
   ]
  },
  {
   "cell_type": "code",
   "execution_count": 70,
   "metadata": {},
   "outputs": [],
   "source": [
    "#Generate different severities for same original triple\n",
    "\n",
    "def ambiguify4amt(config, nodeVectors, relationVectors):\n",
    "    out = pd.DataFrame()\n",
    "    for target in config: #can be \"nodes\" or \"relations\"\n",
    "        if target == 'nodes':\n",
    "            inp = nodeVectors\n",
    "            selres = nodeSel\n",
    "        else:\n",
    "            inp = relationVectors\n",
    "            selres = relSel\n",
    "            \n",
    "        selres = inp.sample(n=5, replace=True) # hardcoded for evaluation\n",
    "        #print(selres.head(100))\n",
    "        \n",
    "        for method in config[target]: #matches the name of the method\n",
    "            for instance in config[target][method]: #once for every instance of the method config\n",
    "\n",
    "                logger.debug(f\"Selres: {selres}\")\n",
    "                \n",
    "                for val in instance['amount']: #the amount of elements to be changed\n",
    "                    logger.info(f\"Ambiguifying {target} with {method} (parameters: {instance})\")\n",
    "                    \n",
    "                    conf = instance.get('param', None)\n",
    "                    sourceColumn = target[0:-1]\n",
    "                    rep = pd.DataFrame()\n",
    "                    \n",
    "                    rep[['method', 'config', 'source_type', 'source', 'target']] = selres.progress_apply(lambda sel: pd.Series([\n",
    "                        method,\n",
    "                        str(instance),\n",
    "                        sourceColumn,\n",
    "                        sel[sourceColumn],\n",
    "                        methods[target][method](sel.copy(), inp.copy(), conf)[sourceColumn].iloc[0]\n",
    "                    ]), axis=1)\n",
    "                    \n",
    "                    out = out.append(rep, ignore_index=True)\n",
    "    return out"
   ]
  },
  {
   "cell_type": "code",
   "execution_count": 71,
   "metadata": {},
   "outputs": [
    {
     "name": "stderr",
     "output_type": "stream",
     "text": [
      "2021-01-08 21:32:06,287 : INFO : Ambiguifying nodes with random (parameters: {'amount': {'num': 5}})\n",
      "100%|██████████| 5/5 [00:00<00:00, 554.98it/s]\n",
      "2021-01-08 21:32:06,308 : INFO : Ambiguifying nodes with dist (parameters: {'amount': {'num': 5}, 'param': {'dist': 1}})\n",
      "100%|██████████| 5/5 [00:35<00:00,  7.12s/it]\n",
      "2021-01-08 21:32:41,898 : INFO : Ambiguifying nodes with dist (parameters: {'amount': {'num': 5}, 'param': {'dist': 2}})\n",
      "100%|██████████| 5/5 [00:35<00:00,  7.06s/it]\n",
      "2021-01-08 21:33:17,229 : INFO : Ambiguifying nodes with dist (parameters: {'amount': {'num': 5}, 'param': {'dist': 3}})\n",
      "100%|██████████| 5/5 [00:35<00:00,  7.05s/it]\n",
      "2021-01-08 21:33:52,467 : INFO : Ambiguifying nodes with dist (parameters: {'amount': {'num': 5}, 'param': {'dist': 4}})\n",
      "100%|██████████| 5/5 [00:35<00:00,  7.06s/it]\n",
      "2021-01-08 21:34:27,768 : INFO : Ambiguifying nodes with dist (parameters: {'amount': {'num': 5}, 'param': {'dist': 5}})\n",
      "100%|██████████| 5/5 [00:35<00:00,  7.08s/it]\n",
      "2021-01-08 21:35:03,201 : INFO : Ambiguifying relations with random (parameters: {'amount': {'num': 5}})\n",
      "100%|██████████| 5/5 [00:00<00:00, 1011.80it/s]\n",
      "2021-01-08 21:35:03,216 : INFO : Ambiguifying relations with dist (parameters: {'amount': {'num': 5}, 'param': {'dist': 1}})\n",
      "100%|██████████| 5/5 [00:00<00:00, 22.08it/s]\n",
      "2021-01-08 21:35:03,451 : INFO : Ambiguifying relations with dist (parameters: {'amount': {'num': 5}, 'param': {'dist': 2}})\n",
      "100%|██████████| 5/5 [00:00<00:00, 22.16it/s]\n",
      "2021-01-08 21:35:03,684 : INFO : Ambiguifying relations with dist (parameters: {'amount': {'num': 5}, 'param': {'dist': 3}})\n",
      "100%|██████████| 5/5 [00:00<00:00, 21.88it/s]\n",
      "2021-01-08 21:35:03,920 : INFO : Ambiguifying relations with dist (parameters: {'amount': {'num': 5}, 'param': {'dist': 4}})\n",
      "100%|██████████| 5/5 [00:00<00:00, 21.18it/s]\n",
      "2021-01-08 21:35:04,164 : INFO : Ambiguifying relations with dist (parameters: {'amount': {'num': 5}, 'param': {'dist': 5}})\n",
      "100%|██████████| 5/5 [00:00<00:00, 22.13it/s]\n",
      "2021-01-08 21:35:04,395 : INFO : Populatig graph\n",
      "100%|██████████| 60/60 [00:00<00:00, 268.54it/s]\n"
     ]
    }
   ],
   "source": [
    "changes = ambiguify4amt(config, nodeVectors, relationVectors)\n",
    "\n",
    "g2 = Graph()\n",
    "additions = populateAdditions(changes, g2)"
   ]
  },
  {
   "cell_type": "code",
   "execution_count": 72,
   "metadata": {},
   "outputs": [],
   "source": [
    "#Change format\n",
    "amt = pd.concat([changes, additions], axis=1)"
   ]
  },
  {
   "cell_type": "code",
   "execution_count": 73,
   "metadata": {},
   "outputs": [],
   "source": [
    "#Compute names\n",
    "def getPreferredTitle4amt(n, lang=\"en\"):\n",
    "    label = g.preferredLabel(n, lang=lang)\n",
    "\n",
    "    #if type(n) is not type(Literal(\"\")): #only labels should be of type literal\n",
    "    if label == []:\n",
    "        return n.rsplit('/', 1)[-1].replace('_', ' ').replace(',', '')\n",
    "    else:\n",
    "        return label[0][1].value\n",
    "\n",
    "\n",
    "amt['s_name'] = amt['s'].apply(getPreferredTitle4amt)\n",
    "amt['p_name'] = amt['p'].apply(getPreferredTitle4amt)\n",
    "amt['o_name'] = amt['o'].apply(getPreferredTitle4amt)\n",
    "\n",
    "#Compute verification code\n",
    "def ver4amt(row):\n",
    "    num = np.array([\n",
    "        np.random.randint(len(row['s_name'])-1),\n",
    "        np.random.randint(len(row['p_name'])-1),\n",
    "        np.random.randint(len(row['o_name'])-1)\n",
    "    ])\n",
    "    \n",
    "    code = (row['s_name'][num[0]]+row['p_name'][num[1]]+row['o_name'][num[2]]).replace(' ', '_')\n",
    "\n",
    "    #print(row[['s_name', 'p_name', 'o_name']], num+1, code)\n",
    "    return ('-'.join(str(x) for x in (num+1)), code)\n",
    "\n",
    "amt[['ver_num', 'ver_code']] = amt.apply(lambda row: pd.Series(ver4amt(row)), axis=1)\n"
   ]
  },
  {
   "cell_type": "code",
   "execution_count": null,
   "metadata": {},
   "outputs": [],
   "source": [
    "amt.head()"
   ]
  },
  {
   "cell_type": "code",
   "execution_count": 75,
   "metadata": {},
   "outputs": [],
   "source": [
    "amt.to_csv(\"amt.csv\", index=False)"
   ]
  },
  {
   "cell_type": "markdown",
   "metadata": {},
   "source": [
    "## Process AMT results"
   ]
  },
  {
   "cell_type": "code",
   "execution_count": 76,
   "metadata": {},
   "outputs": [],
   "source": [
    "amtres = pd.read_csv(\"Batch_305165_batch_results.csv\")"
   ]
  },
  {
   "cell_type": "markdown",
   "metadata": {},
   "source": [
    "## Plot graphs"
   ]
  },
  {
   "cell_type": "code",
   "execution_count": 99,
   "metadata": {},
   "outputs": [],
   "source": [
    "#Extract and format data for plots\n",
    "\n",
    "amtres['severity'] = amtres.apply(lambda row: 10\n",
    "                                  if row['Input.method'] == 'random'\n",
    "                                  else (json.loads(row['Input.config'].replace(\"'\", '\"'))['param']['dist']\n",
    "                                        if row['Input.method'] == 'dist'\n",
    "                                        else 10)\n",
    "                                  , axis = 1)\n",
    "\n",
    "data = amtres[['Answer.stars', 'WorkTimeInSeconds', 'severity']]#.sort_values(['Answer.stars', 'WorkTimeInSeconds'])\n",
    "\n",
    "#Input.method\n",
    "#Input.source_type"
   ]
  },
  {
   "cell_type": "code",
   "execution_count": 158,
   "metadata": {
    "scrolled": false
   },
   "outputs": [
    {
     "data": {
      "text/html": [
       "<div>\n",
       "<style scoped>\n",
       "    .dataframe tbody tr th:only-of-type {\n",
       "        vertical-align: middle;\n",
       "    }\n",
       "\n",
       "    .dataframe tbody tr th {\n",
       "        vertical-align: top;\n",
       "    }\n",
       "\n",
       "    .dataframe thead th {\n",
       "        text-align: right;\n",
       "    }\n",
       "</style>\n",
       "<table border=\"1\" class=\"dataframe\">\n",
       "  <thead>\n",
       "    <tr style=\"text-align: right;\">\n",
       "      <th></th>\n",
       "      <th>HITId</th>\n",
       "      <th>HITTypeId</th>\n",
       "      <th>Title</th>\n",
       "      <th>Description</th>\n",
       "      <th>Keywords</th>\n",
       "      <th>Reward</th>\n",
       "      <th>CreationTime</th>\n",
       "      <th>MaxAssignments</th>\n",
       "      <th>RequesterAnnotation</th>\n",
       "      <th>AssignmentDurationInSeconds</th>\n",
       "      <th>AutoApprovalDelayInSeconds</th>\n",
       "      <th>Expiration</th>\n",
       "      <th>NumberOfSimilarHITs</th>\n",
       "      <th>LifetimeInSeconds</th>\n",
       "      <th>AssignmentId</th>\n",
       "      <th>WorkerId</th>\n",
       "      <th>AssignmentStatus</th>\n",
       "      <th>AcceptTime</th>\n",
       "      <th>SubmitTime</th>\n",
       "      <th>AutoApprovalTime</th>\n",
       "      <th>ApprovalTime</th>\n",
       "      <th>RejectionTime</th>\n",
       "      <th>RequesterFeedback</th>\n",
       "      <th>WorkTimeInSeconds</th>\n",
       "      <th>LifetimeApprovalRate</th>\n",
       "      <th>Last30DaysApprovalRate</th>\n",
       "      <th>Last7DaysApprovalRate</th>\n",
       "      <th>Input.method</th>\n",
       "      <th>Input.config</th>\n",
       "      <th>Input.source_type</th>\n",
       "      <th>Input.source</th>\n",
       "      <th>Input.target</th>\n",
       "      <th>Input.s_orig</th>\n",
       "      <th>Input.p_orig</th>\n",
       "      <th>Input.o_orig</th>\n",
       "      <th>Input.s</th>\n",
       "      <th>Input.p</th>\n",
       "      <th>Input.o</th>\n",
       "      <th>Input.s_name</th>\n",
       "      <th>Input.p_name</th>\n",
       "      <th>Input.o_name</th>\n",
       "      <th>Input.ver_num</th>\n",
       "      <th>Input.ver_code</th>\n",
       "      <th>Answer.code</th>\n",
       "      <th>Answer.comment</th>\n",
       "      <th>Answer.stars</th>\n",
       "      <th>Approve</th>\n",
       "      <th>Reject</th>\n",
       "      <th>severity</th>\n",
       "    </tr>\n",
       "  </thead>\n",
       "  <tbody>\n",
       "    <tr>\n",
       "      <th>0</th>\n",
       "      <td>3OLZC0DJ8JFY9DQSYF3YZ2SKWUYIVJ</td>\n",
       "      <td>3KBQBQZF89BQO3IGU773XS79F4HPAN</td>\n",
       "      <td>Movie data quality rating</td>\n",
       "      <td>You see statements about movies and their indu...</td>\n",
       "      <td>movies, films, actors, correctness, rate, easy...</td>\n",
       "      <td>$0.00</td>\n",
       "      <td>Fri Jan 08 12:47:06 PST 2021</td>\n",
       "      <td>3</td>\n",
       "      <td>BatchId:305165;OriginalHitTemplateId:921587278;</td>\n",
       "      <td>5400</td>\n",
       "      <td>432000</td>\n",
       "      <td>Fri Jan 15 12:47:06 PST 2021</td>\n",
       "      <td>NaN</td>\n",
       "      <td>NaN</td>\n",
       "      <td>3EKVH9QMEY4BQVAX8TNEVKAC7D2D2G</td>\n",
       "      <td>ARHWKACQ4T0TW</td>\n",
       "      <td>Submitted</td>\n",
       "      <td>Sun Jan 10 07:01:57 PST 2021</td>\n",
       "      <td>Sun Jan 10 07:02:09 PST 2021</td>\n",
       "      <td>Fri Jan 15 07:02:09 PST 2021</td>\n",
       "      <td>NaN</td>\n",
       "      <td>NaN</td>\n",
       "      <td>NaN</td>\n",
       "      <td>12</td>\n",
       "      <td>0% (0/0)</td>\n",
       "      <td>0% (0/0)</td>\n",
       "      <td>0% (0/0)</td>\n",
       "      <td>random</td>\n",
       "      <td>{'amount': {'num': 5}}</td>\n",
       "      <td>node</td>\n",
       "      <td>http://dbpedia.org/resource/Robert_Cary_(direc...</td>\n",
       "      <td>http://dbpedia.org/resource/Alvin_and_the_Chip...</td>\n",
       "      <td>http://dbpedia.org/resource/Save_Me_(2007_film)</td>\n",
       "      <td>http://dbpedia.org/ontology/director</td>\n",
       "      <td>http://dbpedia.org/resource/Robert_Cary_(direc...</td>\n",
       "      <td>http://dbpedia.org/resource/Save_Me_(2007_film)</td>\n",
       "      <td>http://dbpedia.org/ontology/director</td>\n",
       "      <td>http://dbpedia.org/resource/Alvin_and_the_Chip...</td>\n",
       "      <td>Save Me (2007 film)</td>\n",
       "      <td>director</td>\n",
       "      <td>Alvin and the Chipmunks: Chipwrecked</td>\n",
       "      <td>16-1-5</td>\n",
       "      <td>idn</td>\n",
       "      <td>xxx</td>\n",
       "      <td>NaN</td>\n",
       "      <td>1.0</td>\n",
       "      <td>NaN</td>\n",
       "      <td>NaN</td>\n",
       "      <td>10</td>\n",
       "    </tr>\n",
       "    <tr>\n",
       "      <th>1</th>\n",
       "      <td>3OLZC0DJ8JFY9DQSYF3YZ2SKWUYIVJ</td>\n",
       "      <td>3KBQBQZF89BQO3IGU773XS79F4HPAN</td>\n",
       "      <td>Movie data quality rating</td>\n",
       "      <td>You see statements about movies and their indu...</td>\n",
       "      <td>movies, films, actors, correctness, rate, easy...</td>\n",
       "      <td>$0.00</td>\n",
       "      <td>Fri Jan 08 12:47:06 PST 2021</td>\n",
       "      <td>3</td>\n",
       "      <td>BatchId:305165;OriginalHitTemplateId:921587278;</td>\n",
       "      <td>5400</td>\n",
       "      <td>432000</td>\n",
       "      <td>Fri Jan 15 12:47:06 PST 2021</td>\n",
       "      <td>NaN</td>\n",
       "      <td>NaN</td>\n",
       "      <td>3NG53N1RLVJV17FCTJNA55447WXP89</td>\n",
       "      <td>A1R3XGPH6EK6G6</td>\n",
       "      <td>Submitted</td>\n",
       "      <td>Sun Jan 10 11:13:35 PST 2021</td>\n",
       "      <td>Sun Jan 10 11:14:14 PST 2021</td>\n",
       "      <td>Fri Jan 15 11:14:14 PST 2021</td>\n",
       "      <td>NaN</td>\n",
       "      <td>NaN</td>\n",
       "      <td>NaN</td>\n",
       "      <td>39</td>\n",
       "      <td>0% (0/0)</td>\n",
       "      <td>0% (0/0)</td>\n",
       "      <td>0% (0/0)</td>\n",
       "      <td>random</td>\n",
       "      <td>{'amount': {'num': 5}}</td>\n",
       "      <td>node</td>\n",
       "      <td>http://dbpedia.org/resource/Robert_Cary_(direc...</td>\n",
       "      <td>http://dbpedia.org/resource/Alvin_and_the_Chip...</td>\n",
       "      <td>http://dbpedia.org/resource/Save_Me_(2007_film)</td>\n",
       "      <td>http://dbpedia.org/ontology/director</td>\n",
       "      <td>http://dbpedia.org/resource/Robert_Cary_(direc...</td>\n",
       "      <td>http://dbpedia.org/resource/Save_Me_(2007_film)</td>\n",
       "      <td>http://dbpedia.org/ontology/director</td>\n",
       "      <td>http://dbpedia.org/resource/Alvin_and_the_Chip...</td>\n",
       "      <td>Save Me (2007 film)</td>\n",
       "      <td>director</td>\n",
       "      <td>Alvin and the Chipmunks: Chipwrecked</td>\n",
       "      <td>16-1-5</td>\n",
       "      <td>idn</td>\n",
       "      <td>idn</td>\n",
       "      <td>NaN</td>\n",
       "      <td>1.0</td>\n",
       "      <td>NaN</td>\n",
       "      <td>NaN</td>\n",
       "      <td>10</td>\n",
       "    </tr>\n",
       "    <tr>\n",
       "      <th>2</th>\n",
       "      <td>3OLZC0DJ8JFY9DQSYF3YZ2SKWUYIVJ</td>\n",
       "      <td>3KBQBQZF89BQO3IGU773XS79F4HPAN</td>\n",
       "      <td>Movie data quality rating</td>\n",
       "      <td>You see statements about movies and their indu...</td>\n",
       "      <td>movies, films, actors, correctness, rate, easy...</td>\n",
       "      <td>$0.00</td>\n",
       "      <td>Fri Jan 08 12:47:06 PST 2021</td>\n",
       "      <td>3</td>\n",
       "      <td>BatchId:305165;OriginalHitTemplateId:921587278;</td>\n",
       "      <td>5400</td>\n",
       "      <td>432000</td>\n",
       "      <td>Fri Jan 15 12:47:06 PST 2021</td>\n",
       "      <td>NaN</td>\n",
       "      <td>NaN</td>\n",
       "      <td>3V0Z7YWSIY0XKCAJZEN816GJ7K5V2W</td>\n",
       "      <td>A11RKRLDED6BEG</td>\n",
       "      <td>Submitted</td>\n",
       "      <td>Sat Jan 09 06:44:08 PST 2021</td>\n",
       "      <td>Sat Jan 09 06:44:25 PST 2021</td>\n",
       "      <td>Thu Jan 14 06:44:25 PST 2021</td>\n",
       "      <td>NaN</td>\n",
       "      <td>NaN</td>\n",
       "      <td>NaN</td>\n",
       "      <td>17</td>\n",
       "      <td>0% (0/0)</td>\n",
       "      <td>0% (0/0)</td>\n",
       "      <td>0% (0/0)</td>\n",
       "      <td>random</td>\n",
       "      <td>{'amount': {'num': 5}}</td>\n",
       "      <td>node</td>\n",
       "      <td>http://dbpedia.org/resource/Robert_Cary_(direc...</td>\n",
       "      <td>http://dbpedia.org/resource/Alvin_and_the_Chip...</td>\n",
       "      <td>http://dbpedia.org/resource/Save_Me_(2007_film)</td>\n",
       "      <td>http://dbpedia.org/ontology/director</td>\n",
       "      <td>http://dbpedia.org/resource/Robert_Cary_(direc...</td>\n",
       "      <td>http://dbpedia.org/resource/Save_Me_(2007_film)</td>\n",
       "      <td>http://dbpedia.org/ontology/director</td>\n",
       "      <td>http://dbpedia.org/resource/Alvin_and_the_Chip...</td>\n",
       "      <td>Save Me (2007 film)</td>\n",
       "      <td>director</td>\n",
       "      <td>Alvin and the Chipmunks: Chipwrecked</td>\n",
       "      <td>16-1-5</td>\n",
       "      <td>idn</td>\n",
       "      <td>aon</td>\n",
       "      <td>NaN</td>\n",
       "      <td>1.0</td>\n",
       "      <td>NaN</td>\n",
       "      <td>NaN</td>\n",
       "      <td>10</td>\n",
       "    </tr>\n",
       "    <tr>\n",
       "      <th>3</th>\n",
       "      <td>38RHULDV9YFBO2QXOP8UL4BY330IWT</td>\n",
       "      <td>3KBQBQZF89BQO3IGU773XS79F4HPAN</td>\n",
       "      <td>Movie data quality rating</td>\n",
       "      <td>You see statements about movies and their indu...</td>\n",
       "      <td>movies, films, actors, correctness, rate, easy...</td>\n",
       "      <td>$0.00</td>\n",
       "      <td>Fri Jan 08 12:47:06 PST 2021</td>\n",
       "      <td>3</td>\n",
       "      <td>BatchId:305165;OriginalHitTemplateId:921587278;</td>\n",
       "      <td>5400</td>\n",
       "      <td>432000</td>\n",
       "      <td>Fri Jan 15 12:47:06 PST 2021</td>\n",
       "      <td>NaN</td>\n",
       "      <td>NaN</td>\n",
       "      <td>3COPXFW7XBCFW8HD28KDVADV2WRKPN</td>\n",
       "      <td>ARHWKACQ4T0TW</td>\n",
       "      <td>Submitted</td>\n",
       "      <td>Sun Jan 10 07:01:08 PST 2021</td>\n",
       "      <td>Sun Jan 10 07:01:26 PST 2021</td>\n",
       "      <td>Fri Jan 15 07:01:26 PST 2021</td>\n",
       "      <td>NaN</td>\n",
       "      <td>NaN</td>\n",
       "      <td>NaN</td>\n",
       "      <td>18</td>\n",
       "      <td>0% (0/0)</td>\n",
       "      <td>0% (0/0)</td>\n",
       "      <td>0% (0/0)</td>\n",
       "      <td>random</td>\n",
       "      <td>{'amount': {'num': 5}}</td>\n",
       "      <td>node</td>\n",
       "      <td>http://dbpedia.org/resource/Andorra_(film)</td>\n",
       "      <td>http://dbpedia.org/resource/Umberto_Lenzi</td>\n",
       "      <td>http://dbpedia.org/resource/Andorra_(film)</td>\n",
       "      <td>http://dbpedia.org/ontology/director</td>\n",
       "      <td>http://dbpedia.org/resource/Fred_Schepisi</td>\n",
       "      <td>http://dbpedia.org/resource/Umberto_Lenzi</td>\n",
       "      <td>http://dbpedia.org/ontology/director</td>\n",
       "      <td>http://dbpedia.org/resource/Fred_Schepisi</td>\n",
       "      <td>Umberto Lenzi</td>\n",
       "      <td>director</td>\n",
       "      <td>Fred Schepisi</td>\n",
       "      <td>3-6-4</td>\n",
       "      <td>btd</td>\n",
       "      <td>xxx</td>\n",
       "      <td>NaN</td>\n",
       "      <td>1.0</td>\n",
       "      <td>NaN</td>\n",
       "      <td>NaN</td>\n",
       "      <td>10</td>\n",
       "    </tr>\n",
       "    <tr>\n",
       "      <th>4</th>\n",
       "      <td>38RHULDV9YFBO2QXOP8UL4BY330IWT</td>\n",
       "      <td>3KBQBQZF89BQO3IGU773XS79F4HPAN</td>\n",
       "      <td>Movie data quality rating</td>\n",
       "      <td>You see statements about movies and their indu...</td>\n",
       "      <td>movies, films, actors, correctness, rate, easy...</td>\n",
       "      <td>$0.00</td>\n",
       "      <td>Fri Jan 08 12:47:06 PST 2021</td>\n",
       "      <td>3</td>\n",
       "      <td>BatchId:305165;OriginalHitTemplateId:921587278;</td>\n",
       "      <td>5400</td>\n",
       "      <td>432000</td>\n",
       "      <td>Fri Jan 15 12:47:06 PST 2021</td>\n",
       "      <td>NaN</td>\n",
       "      <td>NaN</td>\n",
       "      <td>3EJJQNKU9R596VWK9FL5NDXIBXBRHI</td>\n",
       "      <td>A1R3XGPH6EK6G6</td>\n",
       "      <td>Submitted</td>\n",
       "      <td>Sun Jan 10 10:18:56 PST 2021</td>\n",
       "      <td>Sun Jan 10 10:19:57 PST 2021</td>\n",
       "      <td>Fri Jan 15 10:19:57 PST 2021</td>\n",
       "      <td>NaN</td>\n",
       "      <td>NaN</td>\n",
       "      <td>NaN</td>\n",
       "      <td>61</td>\n",
       "      <td>0% (0/0)</td>\n",
       "      <td>0% (0/0)</td>\n",
       "      <td>0% (0/0)</td>\n",
       "      <td>random</td>\n",
       "      <td>{'amount': {'num': 5}}</td>\n",
       "      <td>node</td>\n",
       "      <td>http://dbpedia.org/resource/Andorra_(film)</td>\n",
       "      <td>http://dbpedia.org/resource/Umberto_Lenzi</td>\n",
       "      <td>http://dbpedia.org/resource/Andorra_(film)</td>\n",
       "      <td>http://dbpedia.org/ontology/director</td>\n",
       "      <td>http://dbpedia.org/resource/Fred_Schepisi</td>\n",
       "      <td>http://dbpedia.org/resource/Umberto_Lenzi</td>\n",
       "      <td>http://dbpedia.org/ontology/director</td>\n",
       "      <td>http://dbpedia.org/resource/Fred_Schepisi</td>\n",
       "      <td>Umberto Lenzi</td>\n",
       "      <td>director</td>\n",
       "      <td>Fred Schepisi</td>\n",
       "      <td>3-6-4</td>\n",
       "      <td>btd</td>\n",
       "      <td>btd</td>\n",
       "      <td>NaN</td>\n",
       "      <td>1.0</td>\n",
       "      <td>NaN</td>\n",
       "      <td>NaN</td>\n",
       "      <td>10</td>\n",
       "    </tr>\n",
       "  </tbody>\n",
       "</table>\n",
       "</div>"
      ],
      "text/plain": [
       "                            HITId                       HITTypeId  \\\n",
       "0  3OLZC0DJ8JFY9DQSYF3YZ2SKWUYIVJ  3KBQBQZF89BQO3IGU773XS79F4HPAN   \n",
       "1  3OLZC0DJ8JFY9DQSYF3YZ2SKWUYIVJ  3KBQBQZF89BQO3IGU773XS79F4HPAN   \n",
       "2  3OLZC0DJ8JFY9DQSYF3YZ2SKWUYIVJ  3KBQBQZF89BQO3IGU773XS79F4HPAN   \n",
       "3  38RHULDV9YFBO2QXOP8UL4BY330IWT  3KBQBQZF89BQO3IGU773XS79F4HPAN   \n",
       "4  38RHULDV9YFBO2QXOP8UL4BY330IWT  3KBQBQZF89BQO3IGU773XS79F4HPAN   \n",
       "\n",
       "                       Title  \\\n",
       "0  Movie data quality rating   \n",
       "1  Movie data quality rating   \n",
       "2  Movie data quality rating   \n",
       "3  Movie data quality rating   \n",
       "4  Movie data quality rating   \n",
       "\n",
       "                                         Description  \\\n",
       "0  You see statements about movies and their indu...   \n",
       "1  You see statements about movies and their indu...   \n",
       "2  You see statements about movies and their indu...   \n",
       "3  You see statements about movies and their indu...   \n",
       "4  You see statements about movies and their indu...   \n",
       "\n",
       "                                            Keywords Reward  \\\n",
       "0  movies, films, actors, correctness, rate, easy...  $0.00   \n",
       "1  movies, films, actors, correctness, rate, easy...  $0.00   \n",
       "2  movies, films, actors, correctness, rate, easy...  $0.00   \n",
       "3  movies, films, actors, correctness, rate, easy...  $0.00   \n",
       "4  movies, films, actors, correctness, rate, easy...  $0.00   \n",
       "\n",
       "                   CreationTime  MaxAssignments  \\\n",
       "0  Fri Jan 08 12:47:06 PST 2021               3   \n",
       "1  Fri Jan 08 12:47:06 PST 2021               3   \n",
       "2  Fri Jan 08 12:47:06 PST 2021               3   \n",
       "3  Fri Jan 08 12:47:06 PST 2021               3   \n",
       "4  Fri Jan 08 12:47:06 PST 2021               3   \n",
       "\n",
       "                               RequesterAnnotation  \\\n",
       "0  BatchId:305165;OriginalHitTemplateId:921587278;   \n",
       "1  BatchId:305165;OriginalHitTemplateId:921587278;   \n",
       "2  BatchId:305165;OriginalHitTemplateId:921587278;   \n",
       "3  BatchId:305165;OriginalHitTemplateId:921587278;   \n",
       "4  BatchId:305165;OriginalHitTemplateId:921587278;   \n",
       "\n",
       "   AssignmentDurationInSeconds  AutoApprovalDelayInSeconds  \\\n",
       "0                         5400                      432000   \n",
       "1                         5400                      432000   \n",
       "2                         5400                      432000   \n",
       "3                         5400                      432000   \n",
       "4                         5400                      432000   \n",
       "\n",
       "                     Expiration  NumberOfSimilarHITs  LifetimeInSeconds  \\\n",
       "0  Fri Jan 15 12:47:06 PST 2021                  NaN                NaN   \n",
       "1  Fri Jan 15 12:47:06 PST 2021                  NaN                NaN   \n",
       "2  Fri Jan 15 12:47:06 PST 2021                  NaN                NaN   \n",
       "3  Fri Jan 15 12:47:06 PST 2021                  NaN                NaN   \n",
       "4  Fri Jan 15 12:47:06 PST 2021                  NaN                NaN   \n",
       "\n",
       "                     AssignmentId        WorkerId AssignmentStatus  \\\n",
       "0  3EKVH9QMEY4BQVAX8TNEVKAC7D2D2G   ARHWKACQ4T0TW        Submitted   \n",
       "1  3NG53N1RLVJV17FCTJNA55447WXP89  A1R3XGPH6EK6G6        Submitted   \n",
       "2  3V0Z7YWSIY0XKCAJZEN816GJ7K5V2W  A11RKRLDED6BEG        Submitted   \n",
       "3  3COPXFW7XBCFW8HD28KDVADV2WRKPN   ARHWKACQ4T0TW        Submitted   \n",
       "4  3EJJQNKU9R596VWK9FL5NDXIBXBRHI  A1R3XGPH6EK6G6        Submitted   \n",
       "\n",
       "                     AcceptTime                    SubmitTime  \\\n",
       "0  Sun Jan 10 07:01:57 PST 2021  Sun Jan 10 07:02:09 PST 2021   \n",
       "1  Sun Jan 10 11:13:35 PST 2021  Sun Jan 10 11:14:14 PST 2021   \n",
       "2  Sat Jan 09 06:44:08 PST 2021  Sat Jan 09 06:44:25 PST 2021   \n",
       "3  Sun Jan 10 07:01:08 PST 2021  Sun Jan 10 07:01:26 PST 2021   \n",
       "4  Sun Jan 10 10:18:56 PST 2021  Sun Jan 10 10:19:57 PST 2021   \n",
       "\n",
       "               AutoApprovalTime  ApprovalTime  RejectionTime  \\\n",
       "0  Fri Jan 15 07:02:09 PST 2021           NaN            NaN   \n",
       "1  Fri Jan 15 11:14:14 PST 2021           NaN            NaN   \n",
       "2  Thu Jan 14 06:44:25 PST 2021           NaN            NaN   \n",
       "3  Fri Jan 15 07:01:26 PST 2021           NaN            NaN   \n",
       "4  Fri Jan 15 10:19:57 PST 2021           NaN            NaN   \n",
       "\n",
       "   RequesterFeedback  WorkTimeInSeconds LifetimeApprovalRate  \\\n",
       "0                NaN                 12             0% (0/0)   \n",
       "1                NaN                 39             0% (0/0)   \n",
       "2                NaN                 17             0% (0/0)   \n",
       "3                NaN                 18             0% (0/0)   \n",
       "4                NaN                 61             0% (0/0)   \n",
       "\n",
       "  Last30DaysApprovalRate Last7DaysApprovalRate Input.method  \\\n",
       "0               0% (0/0)              0% (0/0)       random   \n",
       "1               0% (0/0)              0% (0/0)       random   \n",
       "2               0% (0/0)              0% (0/0)       random   \n",
       "3               0% (0/0)              0% (0/0)       random   \n",
       "4               0% (0/0)              0% (0/0)       random   \n",
       "\n",
       "             Input.config Input.source_type  \\\n",
       "0  {'amount': {'num': 5}}              node   \n",
       "1  {'amount': {'num': 5}}              node   \n",
       "2  {'amount': {'num': 5}}              node   \n",
       "3  {'amount': {'num': 5}}              node   \n",
       "4  {'amount': {'num': 5}}              node   \n",
       "\n",
       "                                        Input.source  \\\n",
       "0  http://dbpedia.org/resource/Robert_Cary_(direc...   \n",
       "1  http://dbpedia.org/resource/Robert_Cary_(direc...   \n",
       "2  http://dbpedia.org/resource/Robert_Cary_(direc...   \n",
       "3         http://dbpedia.org/resource/Andorra_(film)   \n",
       "4         http://dbpedia.org/resource/Andorra_(film)   \n",
       "\n",
       "                                        Input.target  \\\n",
       "0  http://dbpedia.org/resource/Alvin_and_the_Chip...   \n",
       "1  http://dbpedia.org/resource/Alvin_and_the_Chip...   \n",
       "2  http://dbpedia.org/resource/Alvin_and_the_Chip...   \n",
       "3          http://dbpedia.org/resource/Umberto_Lenzi   \n",
       "4          http://dbpedia.org/resource/Umberto_Lenzi   \n",
       "\n",
       "                                      Input.s_orig  \\\n",
       "0  http://dbpedia.org/resource/Save_Me_(2007_film)   \n",
       "1  http://dbpedia.org/resource/Save_Me_(2007_film)   \n",
       "2  http://dbpedia.org/resource/Save_Me_(2007_film)   \n",
       "3       http://dbpedia.org/resource/Andorra_(film)   \n",
       "4       http://dbpedia.org/resource/Andorra_(film)   \n",
       "\n",
       "                           Input.p_orig  \\\n",
       "0  http://dbpedia.org/ontology/director   \n",
       "1  http://dbpedia.org/ontology/director   \n",
       "2  http://dbpedia.org/ontology/director   \n",
       "3  http://dbpedia.org/ontology/director   \n",
       "4  http://dbpedia.org/ontology/director   \n",
       "\n",
       "                                        Input.o_orig  \\\n",
       "0  http://dbpedia.org/resource/Robert_Cary_(direc...   \n",
       "1  http://dbpedia.org/resource/Robert_Cary_(direc...   \n",
       "2  http://dbpedia.org/resource/Robert_Cary_(direc...   \n",
       "3          http://dbpedia.org/resource/Fred_Schepisi   \n",
       "4          http://dbpedia.org/resource/Fred_Schepisi   \n",
       "\n",
       "                                           Input.s  \\\n",
       "0  http://dbpedia.org/resource/Save_Me_(2007_film)   \n",
       "1  http://dbpedia.org/resource/Save_Me_(2007_film)   \n",
       "2  http://dbpedia.org/resource/Save_Me_(2007_film)   \n",
       "3        http://dbpedia.org/resource/Umberto_Lenzi   \n",
       "4        http://dbpedia.org/resource/Umberto_Lenzi   \n",
       "\n",
       "                                Input.p  \\\n",
       "0  http://dbpedia.org/ontology/director   \n",
       "1  http://dbpedia.org/ontology/director   \n",
       "2  http://dbpedia.org/ontology/director   \n",
       "3  http://dbpedia.org/ontology/director   \n",
       "4  http://dbpedia.org/ontology/director   \n",
       "\n",
       "                                             Input.o         Input.s_name  \\\n",
       "0  http://dbpedia.org/resource/Alvin_and_the_Chip...  Save Me (2007 film)   \n",
       "1  http://dbpedia.org/resource/Alvin_and_the_Chip...  Save Me (2007 film)   \n",
       "2  http://dbpedia.org/resource/Alvin_and_the_Chip...  Save Me (2007 film)   \n",
       "3          http://dbpedia.org/resource/Fred_Schepisi        Umberto Lenzi   \n",
       "4          http://dbpedia.org/resource/Fred_Schepisi        Umberto Lenzi   \n",
       "\n",
       "  Input.p_name                          Input.o_name Input.ver_num  \\\n",
       "0     director  Alvin and the Chipmunks: Chipwrecked        16-1-5   \n",
       "1     director  Alvin and the Chipmunks: Chipwrecked        16-1-5   \n",
       "2     director  Alvin and the Chipmunks: Chipwrecked        16-1-5   \n",
       "3     director                         Fred Schepisi         3-6-4   \n",
       "4     director                         Fred Schepisi         3-6-4   \n",
       "\n",
       "  Input.ver_code Answer.code Answer.comment  Answer.stars  Approve  Reject  \\\n",
       "0            idn         xxx            NaN           1.0      NaN     NaN   \n",
       "1            idn         idn            NaN           1.0      NaN     NaN   \n",
       "2            idn         aon            NaN           1.0      NaN     NaN   \n",
       "3            btd         xxx            NaN           1.0      NaN     NaN   \n",
       "4            btd         btd            NaN           1.0      NaN     NaN   \n",
       "\n",
       "   severity  \n",
       "0        10  \n",
       "1        10  \n",
       "2        10  \n",
       "3        10  \n",
       "4        10  "
      ]
     },
     "execution_count": 158,
     "metadata": {},
     "output_type": "execute_result"
    }
   ],
   "source": [
    "amtres.head()"
   ]
  },
  {
   "cell_type": "code",
   "execution_count": 95,
   "metadata": {},
   "outputs": [
    {
     "data": {
      "text/html": [
       "<div>\n",
       "<style scoped>\n",
       "    .dataframe tbody tr th:only-of-type {\n",
       "        vertical-align: middle;\n",
       "    }\n",
       "\n",
       "    .dataframe tbody tr th {\n",
       "        vertical-align: top;\n",
       "    }\n",
       "\n",
       "    .dataframe thead th {\n",
       "        text-align: right;\n",
       "    }\n",
       "</style>\n",
       "<table border=\"1\" class=\"dataframe\">\n",
       "  <thead>\n",
       "    <tr style=\"text-align: right;\">\n",
       "      <th></th>\n",
       "      <th>WorkerId</th>\n",
       "    </tr>\n",
       "    <tr>\n",
       "      <th>Answer.stars</th>\n",
       "      <th></th>\n",
       "    </tr>\n",
       "  </thead>\n",
       "  <tbody>\n",
       "    <tr>\n",
       "      <th>1.0</th>\n",
       "      <td>113</td>\n",
       "    </tr>\n",
       "    <tr>\n",
       "      <th>1.5</th>\n",
       "      <td>12</td>\n",
       "    </tr>\n",
       "    <tr>\n",
       "      <th>2.0</th>\n",
       "      <td>5</td>\n",
       "    </tr>\n",
       "    <tr>\n",
       "      <th>2.5</th>\n",
       "      <td>5</td>\n",
       "    </tr>\n",
       "    <tr>\n",
       "      <th>3.0</th>\n",
       "      <td>6</td>\n",
       "    </tr>\n",
       "    <tr>\n",
       "      <th>3.5</th>\n",
       "      <td>3</td>\n",
       "    </tr>\n",
       "    <tr>\n",
       "      <th>4.0</th>\n",
       "      <td>5</td>\n",
       "    </tr>\n",
       "    <tr>\n",
       "      <th>4.5</th>\n",
       "      <td>5</td>\n",
       "    </tr>\n",
       "    <tr>\n",
       "      <th>5.0</th>\n",
       "      <td>26</td>\n",
       "    </tr>\n",
       "  </tbody>\n",
       "</table>\n",
       "</div>"
      ],
      "text/plain": [
       "              WorkerId\n",
       "Answer.stars          \n",
       "1.0                113\n",
       "1.5                 12\n",
       "2.0                  5\n",
       "2.5                  5\n",
       "3.0                  6\n",
       "3.5                  3\n",
       "4.0                  5\n",
       "4.5                  5\n",
       "5.0                 26"
      ]
     },
     "execution_count": 95,
     "metadata": {},
     "output_type": "execute_result"
    }
   ],
   "source": [
    "#Total answers per rating\n",
    "amtres[['Answer.stars', 'WorkerId']].groupby('Answer.stars').count().head(50)"
   ]
  },
  {
   "cell_type": "code",
   "execution_count": 205,
   "metadata": {},
   "outputs": [
    {
     "ename": "TypeError",
     "evalue": "scatter() missing 1 required positional argument: 'y'",
     "output_type": "error",
     "traceback": [
      "\u001B[1;31m---------------------------------------------------------------------------\u001B[0m",
      "\u001B[1;31mTypeError\u001B[0m                                 Traceback (most recent call last)",
      "\u001B[1;32m<ipython-input-205-bfab918e37ca>\u001B[0m in \u001B[0;36m<module>\u001B[1;34m\u001B[0m\n\u001B[0;32m      1\u001B[0m \u001B[1;31m#Rating vs severity\u001B[0m\u001B[1;33m\u001B[0m\u001B[1;33m\u001B[0m\u001B[1;33m\u001B[0m\u001B[0m\n\u001B[1;32m----> 2\u001B[1;33m \u001B[0mplt\u001B[0m\u001B[1;33m.\u001B[0m\u001B[0mscatter\u001B[0m\u001B[1;33m(\u001B[0m\u001B[0mamtres\u001B[0m\u001B[1;33m[\u001B[0m\u001B[1;33m[\u001B[0m\u001B[1;34m'Answer.stars'\u001B[0m\u001B[1;33m,\u001B[0m \u001B[1;34m'WorkerId'\u001B[0m\u001B[1;33m]\u001B[0m\u001B[1;33m]\u001B[0m\u001B[1;33m.\u001B[0m\u001B[0mgroupby\u001B[0m\u001B[1;33m(\u001B[0m\u001B[1;34m'Answer.stars'\u001B[0m\u001B[1;33m)\u001B[0m\u001B[1;33m.\u001B[0m\u001B[0mcount\u001B[0m\u001B[1;33m(\u001B[0m\u001B[1;33m)\u001B[0m\u001B[1;33m)\u001B[0m\u001B[1;33m\u001B[0m\u001B[1;33m\u001B[0m\u001B[0m\n\u001B[0m\u001B[0;32m      3\u001B[0m \u001B[0mplt\u001B[0m\u001B[1;33m.\u001B[0m\u001B[0mtitle\u001B[0m\u001B[1;33m(\u001B[0m\u001B[1;34m'Total answers per rating'\u001B[0m\u001B[1;33m)\u001B[0m\u001B[1;33m;\u001B[0m\u001B[1;33m\u001B[0m\u001B[1;33m\u001B[0m\u001B[0m\n\u001B[0;32m      4\u001B[0m \u001B[0mplt\u001B[0m\u001B[1;33m.\u001B[0m\u001B[0mxlabel\u001B[0m\u001B[1;33m(\u001B[0m\u001B[1;34m'Rating'\u001B[0m\u001B[1;33m)\u001B[0m\u001B[1;33m\u001B[0m\u001B[1;33m\u001B[0m\u001B[0m\n\u001B[0;32m      5\u001B[0m \u001B[0mplt\u001B[0m\u001B[1;33m.\u001B[0m\u001B[0mylabel\u001B[0m\u001B[1;33m(\u001B[0m\u001B[1;34m'Number of answers'\u001B[0m\u001B[1;33m)\u001B[0m\u001B[1;33m\u001B[0m\u001B[1;33m\u001B[0m\u001B[0m\n",
      "\u001B[1;31mTypeError\u001B[0m: scatter() missing 1 required positional argument: 'y'"
     ]
    }
   ],
   "source": [
    "#Rating vs severity\n",
    "plt.scatter(amtres[['Answer.stars', 'WorkerId']].groupby('Answer.stars').count())\n",
    "plt.title('Total answers per rating');\n",
    "plt.xlabel('Rating')\n",
    "plt.ylabel('Number of answers')"
   ]
  },
  {
   "cell_type": "code",
   "execution_count": 166,
   "metadata": {},
   "outputs": [
    {
     "data": {
      "text/plain": [
       "Text(0, 0.5, 'Number of answers')"
      ]
     },
     "execution_count": 166,
     "metadata": {},
     "output_type": "execute_result"
    },
    {
     "data": {
      "image/png": "[encoded data removed]",
      "text/plain": [
       "<Figure size 432x288 with 1 Axes>"
      ]
     },
     "metadata": {
      "needs_background": "light"
     },
     "output_type": "display_data"
    }
   ],
   "source": [
    "#Total answers per rating\n",
    "plt.plot(amtres[['Answer.stars', 'WorkerId']].groupby('Answer.stars').count())\n",
    "plt.title('Total answers per rating');\n",
    "plt.xlabel('Rating')\n",
    "plt.ylabel('Number of answers')"
   ]
  },
  {
   "cell_type": "code",
   "execution_count": null,
   "metadata": {},
   "outputs": [],
   "source": [
    "#Answers with wrong code\n",
    "amtres[amtres['Answer.code'] != amtres['Input.ver_code']].head()"
   ]
  },
  {
   "cell_type": "code",
   "execution_count": 149,
   "metadata": {},
   "outputs": [
    {
     "data": {
      "text/html": [
       "<div>\n",
       "<style scoped>\n",
       "    .dataframe tbody tr th:only-of-type {\n",
       "        vertical-align: middle;\n",
       "    }\n",
       "\n",
       "    .dataframe tbody tr th {\n",
       "        vertical-align: top;\n",
       "    }\n",
       "\n",
       "    .dataframe thead th {\n",
       "        text-align: right;\n",
       "    }\n",
       "</style>\n",
       "<table border=\"1\" class=\"dataframe\">\n",
       "  <thead>\n",
       "    <tr style=\"text-align: right;\">\n",
       "      <th></th>\n",
       "      <th>Answer.stars</th>\n",
       "    </tr>\n",
       "    <tr>\n",
       "      <th>WorkerId</th>\n",
       "      <th></th>\n",
       "    </tr>\n",
       "  </thead>\n",
       "  <tbody>\n",
       "    <tr>\n",
       "      <th>A11RKRLDED6BEG</th>\n",
       "      <td>56</td>\n",
       "    </tr>\n",
       "    <tr>\n",
       "      <th>A1R3XGPH6EK6G6</th>\n",
       "      <td>6</td>\n",
       "    </tr>\n",
       "    <tr>\n",
       "      <th>ARHWKACQ4T0TW</th>\n",
       "      <td>57</td>\n",
       "    </tr>\n",
       "  </tbody>\n",
       "</table>\n",
       "</div>"
      ],
      "text/plain": [
       "                Answer.stars\n",
       "WorkerId                    \n",
       "A11RKRLDED6BEG            56\n",
       "A1R3XGPH6EK6G6             6\n",
       "ARHWKACQ4T0TW             57"
      ]
     },
     "execution_count": 149,
     "metadata": {},
     "output_type": "execute_result"
    }
   ],
   "source": [
    "#Wrong codes per worker\n",
    "amtres[amtres['Answer.code'] != amtres['Input.ver_code']][['WorkerId', 'Answer.stars']].groupby('WorkerId').count().head()"
   ]
  },
  {
   "cell_type": "code",
   "execution_count": 150,
   "metadata": {},
   "outputs": [
    {
     "data": {
      "text/html": [
       "<div>\n",
       "<style scoped>\n",
       "    .dataframe tbody tr th:only-of-type {\n",
       "        vertical-align: middle;\n",
       "    }\n",
       "\n",
       "    .dataframe tbody tr th {\n",
       "        vertical-align: top;\n",
       "    }\n",
       "\n",
       "    .dataframe thead th {\n",
       "        text-align: right;\n",
       "    }\n",
       "</style>\n",
       "<table border=\"1\" class=\"dataframe\">\n",
       "  <thead>\n",
       "    <tr style=\"text-align: right;\">\n",
       "      <th></th>\n",
       "      <th>Answer.stars</th>\n",
       "    </tr>\n",
       "    <tr>\n",
       "      <th>WorkerId</th>\n",
       "      <th></th>\n",
       "    </tr>\n",
       "  </thead>\n",
       "  <tbody>\n",
       "    <tr>\n",
       "      <th>A11RKRLDED6BEG</th>\n",
       "      <td>4</td>\n",
       "    </tr>\n",
       "    <tr>\n",
       "      <th>A1R3XGPH6EK6G6</th>\n",
       "      <td>54</td>\n",
       "    </tr>\n",
       "    <tr>\n",
       "      <th>ARHWKACQ4T0TW</th>\n",
       "      <td>3</td>\n",
       "    </tr>\n",
       "  </tbody>\n",
       "</table>\n",
       "</div>"
      ],
      "text/plain": [
       "                Answer.stars\n",
       "WorkerId                    \n",
       "A11RKRLDED6BEG             4\n",
       "A1R3XGPH6EK6G6            54\n",
       "ARHWKACQ4T0TW              3"
      ]
     },
     "execution_count": 150,
     "metadata": {},
     "output_type": "execute_result"
    }
   ],
   "source": [
    "#Correct codes per worker\n",
    "amtres[amtres['Answer.code'] == amtres['Input.ver_code']][['WorkerId', 'Answer.stars']].groupby('WorkerId').count().head()"
   ]
  },
  {
   "cell_type": "code",
   "execution_count": 167,
   "metadata": {},
   "outputs": [
    {
     "data": {
      "text/html": [
       "<div>\n",
       "<style scoped>\n",
       "    .dataframe tbody tr th:only-of-type {\n",
       "        vertical-align: middle;\n",
       "    }\n",
       "\n",
       "    .dataframe tbody tr th {\n",
       "        vertical-align: top;\n",
       "    }\n",
       "\n",
       "    .dataframe thead th {\n",
       "        text-align: right;\n",
       "    }\n",
       "</style>\n",
       "<table border=\"1\" class=\"dataframe\">\n",
       "  <thead>\n",
       "    <tr style=\"text-align: right;\">\n",
       "      <th></th>\n",
       "      <th>WorkTimeInSeconds</th>\n",
       "    </tr>\n",
       "    <tr>\n",
       "      <th>Answer.stars</th>\n",
       "      <th></th>\n",
       "    </tr>\n",
       "  </thead>\n",
       "  <tbody>\n",
       "    <tr>\n",
       "      <th>1.0</th>\n",
       "      <td>46.709302</td>\n",
       "    </tr>\n",
       "    <tr>\n",
       "      <th>2.0</th>\n",
       "      <td>99.333333</td>\n",
       "    </tr>\n",
       "    <tr>\n",
       "      <th>2.5</th>\n",
       "      <td>158.000000</td>\n",
       "    </tr>\n",
       "    <tr>\n",
       "      <th>3.0</th>\n",
       "      <td>46.250000</td>\n",
       "    </tr>\n",
       "    <tr>\n",
       "      <th>3.5</th>\n",
       "      <td>49.000000</td>\n",
       "    </tr>\n",
       "    <tr>\n",
       "      <th>4.0</th>\n",
       "      <td>76.250000</td>\n",
       "    </tr>\n",
       "    <tr>\n",
       "      <th>4.5</th>\n",
       "      <td>29.750000</td>\n",
       "    </tr>\n",
       "    <tr>\n",
       "      <th>5.0</th>\n",
       "      <td>46.750000</td>\n",
       "    </tr>\n",
       "  </tbody>\n",
       "</table>\n",
       "</div>"
      ],
      "text/plain": [
       "              WorkTimeInSeconds\n",
       "Answer.stars                   \n",
       "1.0                   46.709302\n",
       "2.0                   99.333333\n",
       "2.5                  158.000000\n",
       "3.0                   46.250000\n",
       "3.5                   49.000000\n",
       "4.0                   76.250000\n",
       "4.5                   29.750000\n",
       "5.0                   46.750000"
      ]
     },
     "execution_count": 167,
     "metadata": {},
     "output_type": "execute_result"
    }
   ],
   "source": [
    "#Mean worktime per rating of all wrong codes\n",
    "amtres[amtres['Answer.code'] != amtres['Input.ver_code']][['Answer.stars', 'WorkTimeInSeconds']].groupby('Answer.stars').mean().head(50)"
   ]
  },
  {
   "cell_type": "code",
   "execution_count": 168,
   "metadata": {
    "scrolled": true
   },
   "outputs": [
    {
     "data": {
      "text/html": [
       "<div>\n",
       "<style scoped>\n",
       "    .dataframe tbody tr th:only-of-type {\n",
       "        vertical-align: middle;\n",
       "    }\n",
       "\n",
       "    .dataframe tbody tr th {\n",
       "        vertical-align: top;\n",
       "    }\n",
       "\n",
       "    .dataframe thead th {\n",
       "        text-align: right;\n",
       "    }\n",
       "</style>\n",
       "<table border=\"1\" class=\"dataframe\">\n",
       "  <thead>\n",
       "    <tr style=\"text-align: right;\">\n",
       "      <th></th>\n",
       "      <th>WorkTimeInSeconds</th>\n",
       "    </tr>\n",
       "    <tr>\n",
       "      <th>Answer.stars</th>\n",
       "      <th></th>\n",
       "    </tr>\n",
       "  </thead>\n",
       "  <tbody>\n",
       "    <tr>\n",
       "      <th>1.0</th>\n",
       "      <td>38.153846</td>\n",
       "    </tr>\n",
       "    <tr>\n",
       "      <th>2.0</th>\n",
       "      <td>112.000000</td>\n",
       "    </tr>\n",
       "    <tr>\n",
       "      <th>3.0</th>\n",
       "      <td>71.000000</td>\n",
       "    </tr>\n",
       "    <tr>\n",
       "      <th>4.0</th>\n",
       "      <td>44.000000</td>\n",
       "    </tr>\n",
       "    <tr>\n",
       "      <th>4.5</th>\n",
       "      <td>35.333333</td>\n",
       "    </tr>\n",
       "    <tr>\n",
       "      <th>5.0</th>\n",
       "      <td>27.500000</td>\n",
       "    </tr>\n",
       "  </tbody>\n",
       "</table>\n",
       "</div>"
      ],
      "text/plain": [
       "              WorkTimeInSeconds\n",
       "Answer.stars                   \n",
       "1.0                   38.153846\n",
       "2.0                  112.000000\n",
       "3.0                   71.000000\n",
       "4.0                   44.000000\n",
       "4.5                   35.333333\n",
       "5.0                   27.500000"
      ]
     },
     "execution_count": 168,
     "metadata": {},
     "output_type": "execute_result"
    }
   ],
   "source": [
    "#Mean worktime per rating of intentionally wrong codes\n",
    "amtres[amtres['Answer.code'] == 'xxx'][['Answer.stars', 'WorkTimeInSeconds']].groupby('Answer.stars').mean().head(50)"
   ]
  },
  {
   "cell_type": "code",
   "execution_count": 169,
   "metadata": {
    "scrolled": false
   },
   "outputs": [
    {
     "data": {
      "text/html": [
       "<div>\n",
       "<style scoped>\n",
       "    .dataframe tbody tr th:only-of-type {\n",
       "        vertical-align: middle;\n",
       "    }\n",
       "\n",
       "    .dataframe tbody tr th {\n",
       "        vertical-align: top;\n",
       "    }\n",
       "\n",
       "    .dataframe thead th {\n",
       "        text-align: right;\n",
       "    }\n",
       "</style>\n",
       "<table border=\"1\" class=\"dataframe\">\n",
       "  <thead>\n",
       "    <tr style=\"text-align: right;\">\n",
       "      <th></th>\n",
       "      <th>severity</th>\n",
       "    </tr>\n",
       "    <tr>\n",
       "      <th>Answer.stars</th>\n",
       "      <th></th>\n",
       "    </tr>\n",
       "  </thead>\n",
       "  <tbody>\n",
       "    <tr>\n",
       "      <th>1.0</th>\n",
       "      <td>29</td>\n",
       "    </tr>\n",
       "    <tr>\n",
       "      <th>1.5</th>\n",
       "      <td>12</td>\n",
       "    </tr>\n",
       "    <tr>\n",
       "      <th>2.0</th>\n",
       "      <td>2</td>\n",
       "    </tr>\n",
       "    <tr>\n",
       "      <th>2.5</th>\n",
       "      <td>5</td>\n",
       "    </tr>\n",
       "    <tr>\n",
       "      <th>3.0</th>\n",
       "      <td>1</td>\n",
       "    </tr>\n",
       "    <tr>\n",
       "      <th>3.5</th>\n",
       "      <td>2</td>\n",
       "    </tr>\n",
       "    <tr>\n",
       "      <th>4.0</th>\n",
       "      <td>1</td>\n",
       "    </tr>\n",
       "    <tr>\n",
       "      <th>4.5</th>\n",
       "      <td>1</td>\n",
       "    </tr>\n",
       "    <tr>\n",
       "      <th>5.0</th>\n",
       "      <td>7</td>\n",
       "    </tr>\n",
       "  </tbody>\n",
       "</table>\n",
       "</div>"
      ],
      "text/plain": [
       "              severity\n",
       "Answer.stars          \n",
       "1.0                 29\n",
       "1.5                 12\n",
       "2.0                  2\n",
       "2.5                  5\n",
       "3.0                  1\n",
       "3.5                  2\n",
       "4.0                  1\n",
       "4.5                  1\n",
       "5.0                  7"
      ]
     },
     "execution_count": 169,
     "metadata": {},
     "output_type": "execute_result"
    }
   ],
   "source": [
    "#Answers per rating of specific worker\n",
    "amtres[amtres['WorkerId'] == 'A1R3XGPH6EK6G6'][['Answer.stars', 'severity']].groupby('Answer.stars').count().head(50)"
   ]
  },
  {
   "cell_type": "code",
   "execution_count": 156,
   "metadata": {},
   "outputs": [
    {
     "data": {
      "text/html": [
       "<div>\n",
       "<style scoped>\n",
       "    .dataframe tbody tr th:only-of-type {\n",
       "        vertical-align: middle;\n",
       "    }\n",
       "\n",
       "    .dataframe tbody tr th {\n",
       "        vertical-align: top;\n",
       "    }\n",
       "\n",
       "    .dataframe thead th {\n",
       "        text-align: right;\n",
       "    }\n",
       "</style>\n",
       "<table border=\"1\" class=\"dataframe\">\n",
       "  <thead>\n",
       "    <tr style=\"text-align: right;\">\n",
       "      <th></th>\n",
       "      <th>Answer.stars</th>\n",
       "      <th>severity</th>\n",
       "      <th>WorkTimeInSeconds</th>\n",
       "    </tr>\n",
       "  </thead>\n",
       "  <tbody>\n",
       "    <tr>\n",
       "      <th>Answer.stars</th>\n",
       "      <td>1.000000</td>\n",
       "      <td>-0.117426</td>\n",
       "      <td>-0.001383</td>\n",
       "    </tr>\n",
       "    <tr>\n",
       "      <th>severity</th>\n",
       "      <td>-0.117426</td>\n",
       "      <td>1.000000</td>\n",
       "      <td>0.014765</td>\n",
       "    </tr>\n",
       "    <tr>\n",
       "      <th>WorkTimeInSeconds</th>\n",
       "      <td>-0.001383</td>\n",
       "      <td>0.014765</td>\n",
       "      <td>1.000000</td>\n",
       "    </tr>\n",
       "  </tbody>\n",
       "</table>\n",
       "</div>"
      ],
      "text/plain": [
       "                   Answer.stars  severity  WorkTimeInSeconds\n",
       "Answer.stars           1.000000 -0.117426          -0.001383\n",
       "severity              -0.117426  1.000000           0.014765\n",
       "WorkTimeInSeconds     -0.001383  0.014765           1.000000"
      ]
     },
     "execution_count": 156,
     "metadata": {},
     "output_type": "execute_result"
    }
   ],
   "source": [
    "#Correlation of a specific user\n",
    "amtres[amtres['WorkerId'] == 'A1R3XGPH6EK6G6'][['Answer.stars', 'severity', 'WorkTimeInSeconds']].corr()"
   ]
  },
  {
   "cell_type": "raw",
   "metadata": {},
   "source": [
    "#Save graphs\n",
    "fig = data.plot().get_figure()\n",
    "fig.savefig('figures/timeVsStars.png')\n",
    "\n",
    "plt.savefig('figures/timeVsStars.png')"
   ]
  },
  {
   "cell_type": "raw",
   "metadata": {},
   "source": [
    "plt.scatter(data['Answer.stars'], data['severity'], label='a')\n",
    "plt.title(\"a\");\n",
    "plt.legend(loc=\"upper left\")\n",
    "plt.xlabel(\"Rating\")\n",
    "plt.ylabel(\"Severity\")"
   ]
  },
  {
   "cell_type": "raw",
   "metadata": {},
   "source": [
    "plt.scatter(data['WorkTimeInSeconds'], data['severity'], label='a')\n",
    "plt.title(\"a\");\n",
    "plt.legend(loc=\"upper left\")\n",
    "plt.xlabel(\"Worktime\")\n",
    "plt.ylabel(\"Severity\")"
   ]
  },
  {
   "cell_type": "code",
   "execution_count": 171,
   "metadata": {},
   "outputs": [
    {
     "data": {
      "text/html": [
       "<div>\n",
       "<style scoped>\n",
       "    .dataframe tbody tr th:only-of-type {\n",
       "        vertical-align: middle;\n",
       "    }\n",
       "\n",
       "    .dataframe tbody tr th {\n",
       "        vertical-align: top;\n",
       "    }\n",
       "\n",
       "    .dataframe thead th {\n",
       "        text-align: right;\n",
       "    }\n",
       "</style>\n",
       "<table border=\"1\" class=\"dataframe\">\n",
       "  <thead>\n",
       "    <tr style=\"text-align: right;\">\n",
       "      <th></th>\n",
       "      <th></th>\n",
       "      <th>Answer.stars</th>\n",
       "      <th>WorkTimeInSeconds</th>\n",
       "      <th>severity</th>\n",
       "    </tr>\n",
       "    <tr>\n",
       "      <th>Input.method</th>\n",
       "      <th></th>\n",
       "      <th></th>\n",
       "      <th></th>\n",
       "      <th></th>\n",
       "    </tr>\n",
       "  </thead>\n",
       "  <tbody>\n",
       "    <tr>\n",
       "      <th rowspan=\"3\" valign=\"top\">dist</th>\n",
       "      <th>Answer.stars</th>\n",
       "      <td>1.000000</td>\n",
       "      <td>0.035036</td>\n",
       "      <td>-0.041195</td>\n",
       "    </tr>\n",
       "    <tr>\n",
       "      <th>WorkTimeInSeconds</th>\n",
       "      <td>0.035036</td>\n",
       "      <td>1.000000</td>\n",
       "      <td>0.077803</td>\n",
       "    </tr>\n",
       "    <tr>\n",
       "      <th>severity</th>\n",
       "      <td>-0.041195</td>\n",
       "      <td>0.077803</td>\n",
       "      <td>1.000000</td>\n",
       "    </tr>\n",
       "    <tr>\n",
       "      <th rowspan=\"3\" valign=\"top\">random</th>\n",
       "      <th>Answer.stars</th>\n",
       "      <td>1.000000</td>\n",
       "      <td>0.169750</td>\n",
       "      <td>NaN</td>\n",
       "    </tr>\n",
       "    <tr>\n",
       "      <th>WorkTimeInSeconds</th>\n",
       "      <td>0.169750</td>\n",
       "      <td>1.000000</td>\n",
       "      <td>NaN</td>\n",
       "    </tr>\n",
       "    <tr>\n",
       "      <th>severity</th>\n",
       "      <td>NaN</td>\n",
       "      <td>NaN</td>\n",
       "      <td>NaN</td>\n",
       "    </tr>\n",
       "  </tbody>\n",
       "</table>\n",
       "</div>"
      ],
      "text/plain": [
       "                                Answer.stars  WorkTimeInSeconds  severity\n",
       "Input.method                                                             \n",
       "dist         Answer.stars           1.000000           0.035036 -0.041195\n",
       "             WorkTimeInSeconds      0.035036           1.000000  0.077803\n",
       "             severity              -0.041195           0.077803  1.000000\n",
       "random       Answer.stars           1.000000           0.169750       NaN\n",
       "             WorkTimeInSeconds      0.169750           1.000000       NaN\n",
       "             severity                    NaN                NaN       NaN"
      ]
     },
     "execution_count": 171,
     "metadata": {},
     "output_type": "execute_result"
    }
   ],
   "source": [
    "#Correlation\n",
    "amtres.groupby('Input.method')[['Answer.stars', 'WorkTimeInSeconds', 'severity']].corr()"
   ]
  },
  {
   "cell_type": "raw",
   "metadata": {},
   "source": [
    "#Correlation graphic\n",
    "plt.matshow(data.corr())\n",
    "plt.colorbar() #cb = \n",
    "#cb.ax.tick_params(labelsize=14)\n",
    "\n",
    "\n",
    "plt.show()"
   ]
  },
  {
   "cell_type": "raw",
   "metadata": {},
   "source": [
    "plt.boxplot(data)\n",
    "plt.title(\"a\");\n",
    "#plt.legend(['a', 'b','c'],  loc=\"upper left\")\n",
    "#plt.xlabel(\"Stars\")\n",
    "#plt.ylabel(\"Severity\")\n"
   ]
  },
  {
   "cell_type": "code",
   "execution_count": 172,
   "metadata": {},
   "outputs": [
    {
     "data": {
      "text/plain": [
       "Text(0, 0.5, 'Severity')"
      ]
     },
     "execution_count": 172,
     "metadata": {},
     "output_type": "execute_result"
    },
    {
     "data": {
      "image/png": "[encoded data removed]",
      "text/plain": [
       "<Figure size 432x288 with 1 Axes>"
      ]
     },
     "metadata": {
      "needs_background": "light"
     },
     "output_type": "display_data"
    }
   ],
   "source": [
    "#Severities per rating\n",
    "amtres[['Answer.stars', 'severity']].groupby('Answer.stars').boxplot(subplots=False, rot=45, fontsize=12)\n",
    "plt.title(\"Severities per star\");\n",
    "#plt.legend(['a', 'b','c'],  loc=\"upper left\")\n",
    "plt.xlabel(\"Stars\")\n",
    "plt.ylabel(\"Severity\")"
   ]
  },
  {
   "cell_type": "code",
   "execution_count": 195,
   "metadata": {
    "scrolled": false
   },
   "outputs": [
    {
     "data": {
      "text/plain": [
       "Text(0, 0.5, 'Rating')"
      ]
     },
     "execution_count": 195,
     "metadata": {},
     "output_type": "execute_result"
    },
    {
     "data": {
      "image/png": "[encoded data removed]",
      "text/plain": [
       "<Figure size 432x288 with 1 Axes>"
      ]
     },
     "metadata": {
      "needs_background": "light"
     },
     "output_type": "display_data"
    }
   ],
   "source": [
    "#Rating per severity\n",
    "\n",
    "amtres[['Answer.stars', 'severity']].groupby('severity').boxplot(subplots=False, rot=45, fontsize=12)\n",
    "plt.title(\"Rating per severity\");\n",
    "#plt.legend(['a', 'b','c'],  loc=\"upper left\")\n",
    "plt.xlabel(\"Severity\")\n",
    "plt.ylabel(\"Rating\")"
   ]
  },
  {
   "cell_type": "code",
   "execution_count": 204,
   "metadata": {},
   "outputs": [
    {
     "data": {
      "text/plain": [
       "Text(0, 0.5, 'Worktime [s]')"
      ]
     },
     "execution_count": 204,
     "metadata": {},
     "output_type": "execute_result"
    },
    {
     "data": {
      "image/png": "[encoded data removed]",
      "text/plain": [
       "<Figure size 432x288 with 1 Axes>"
      ]
     },
     "metadata": {
      "needs_background": "light"
     },
     "output_type": "display_data"
    }
   ],
   "source": [
    "#Worktime per severity\n",
    "amtres[amtres['WorkerId'] == 'A1R3XGPH6EK6G6'][['WorkTimeInSeconds', 'severity']].groupby('severity').boxplot(subplots=False, rot=45, fontsize=12)\n",
    "plt.title(\"Worktime per severity\");\n",
    "#plt.legend(['a', 'b','c'],  loc=\"upper left\")\n",
    "plt.xlabel(\"Severity\")\n",
    "plt.ylabel(\"Worktime [s]\")\n",
    " "
   ]
  },
  {
   "cell_type": "raw",
   "metadata": {},
   "source": [
    "plt.scatter(data['Answer.stars'], data['severity'], label='a')\n",
    "plt.title(\"a\");\n",
    "plt.legend(loc=\"upper left\")\n",
    "plt.xlabel(\"Stars\")\n",
    "plt.ylabel(\"Severity\")"
   ]
  },
  {
   "cell_type": "raw",
   "metadata": {},
   "source": [
    "n, bins, patches = plt.hist(data, label=['Answer.stars', 'WorkTimeInSeconds', 'severity'])\n",
    "plt.title(\"Histogram\");\n",
    "plt.legend(loc=\"upper left\")\n",
    "plt.xlabel(\"Value\")\n",
    "plt.ylabel(\"Amount\")"
   ]
  },
  {
   "cell_type": "code",
   "execution_count": null,
   "metadata": {},
   "outputs": [],
   "source": [
    "#Set accept/reject for amt answers and export\n",
    "\n",
    "#Reject everything with wrong codes\n",
    "\n",
    "\n",
    "#Reject obviously wrong data\n",
    "#TODO: how will we define this? Just ignore it?\n",
    "\n",
    "#Export file\n"
   ]
  },
  {
   "cell_type": "markdown",
   "metadata": {},
   "source": [
    "## Check dictionary quality"
   ]
  },
  {
   "cell_type": "code",
   "execution_count": null,
   "metadata": {},
   "outputs": [],
   "source": [
    "#Compare all dictionaries\n",
    "dicts = {\"gn\": gn, \"gw1\": gw1, \"gw3\": gw3}\n",
    "\n",
    "for i in dicts:\n",
    "    dic = dicts[i]\n",
    "    \n",
    "    #Minus means arrow from R to L\n",
    "    hasCapital = dic[\"tokyo\"] - dic[\"japan\"]\n",
    "    isCapitalOf = dic[\"japan\"] - dic[\"tokyo\"]\n",
    "    \n",
    "    #Calculate results of relation\n",
    "    est_france = dic[\"paris\"] + isCapitalOf\n",
    "    est_paris = dic[\"france\"] + hasCapital\n",
    "    \n",
    "    print(f\"Dictionary: {i}\")\n",
    "    print(f\"est_France to France: {dic.cosine_similarities(est_france, [dic['france']])}\")\n",
    "    print(f\"est_Paris to Paris: {dic.cosine_similarities(est_paris, [dic['paris']])}\")\n",
    "    print(f\"est_France to Paris: {dic.cosine_similarities(est_france, [dic['paris']])}\")\n",
    "    print(f\"est_Paris to France: {dic.cosine_similarities(est_paris, [dic['france']])}\")\n",
    "    print(f\"Paris to France: {dic.cosine_similarities(dic['paris'], [dic['france']])}\")\n",
    "    print(f\"\\n\")\n"
   ]
  },
  {
   "cell_type": "markdown",
   "metadata": {},
   "source": [
    "## Inversion test"
   ]
  },
  {
   "cell_type": "code",
   "execution_count": null,
   "metadata": {
    "scrolled": true
   },
   "outputs": [],
   "source": [
    "print(f\"Similarity: {wv.cosine_similarities(wv['white'], [wv['black']])[0]}\\n\")\n",
    "\n",
    "print(\"Inverted node 'white':\")\n",
    "for d in wv.similar_by_vector(vector = -1*wv['white']):\n",
    "    print(f\"Distance of '{d[0]}' to !white: {d[1]}\")"
   ]
  },
  {
   "cell_type": "markdown",
   "metadata": {},
   "source": [
    "## Currently unused"
   ]
  },
  {
   "cell_type": "raw",
   "metadata": {},
   "source": [
    "#Build subset of dictionary, might improve performance\n",
    "def restrict_w2v(w2v, restricted_word_set):\n",
    "    new_vectors = []\n",
    "    new_vocab = {}\n",
    "    new_index2entity = []\n",
    "    new_vectors_norm = []\n",
    "\n",
    "    for i in range(len(w2v.vocab)):\n",
    "        word = w2v.index2entity[i]\n",
    "        vec = w2v.vectors[i]\n",
    "        vocab = w2v.vocab[word]\n",
    "        vec_norm = w2v.vectors_norm[i]\n",
    "        if word in restricted_word_set:\n",
    "            vocab.index = len(new_index2entity)\n",
    "            new_index2entity.append(word)\n",
    "            new_vocab[word] = vocab\n",
    "            new_vectors.append(vec)\n",
    "            new_vectors_norm.append(vec_norm)\n",
    "\n",
    "    w2v.vocab = new_vocab\n",
    "    w2v.vectors = np.array(new_vectors)\n",
    "    w2v.index2entity = np.array(new_index2entity)\n",
    "    w2v.index2word = np.array(new_index2entity)\n",
    "    w2v.vectors_norm = np.array(new_vectors_norm)"
   ]
  },
  {
   "cell_type": "raw",
   "metadata": {},
   "source": [
    "#Use dictionary to find similar vectors\n",
    "def most_similar_to_given_vec(vec, entities_list):\n",
    "    return wv.similar_by_vector(vector = entities_list[np.argmax([wv.cosine_similarities(vec, [entity])[0] for entity in entities_list])], topn=1)[0][0]\n",
    "\n",
    "# Demo for most_similar_to_given_vec(..)\n",
    "entities_list = [wv['tokyo'], wv['vienna']]\n",
    "most_similar_to_given_vec(wv['tokyo'], entities_list)"
   ]
  },
  {
   "cell_type": "raw",
   "metadata": {},
   "source": [
    "#From name to node\n",
    "def toNode(name):\n",
    "    for node in nodeVectors.index:\n",
    "        if getPreferredTitle(node) == name:\n",
    "            return node\n",
    "    return None"
   ]
  },
  {
   "cell_type": "raw",
   "metadata": {},
   "source": [
    "#De-vectorise nodes and relations\n",
    "def deVectorise(vec):\n",
    "    if vec['source_type'] == 'node':\n",
    "        source = nodeVectors.copy()\n",
    "    else:\n",
    "        source = relationVectors.copy()\n",
    "    \n",
    "    source['dist'] = source.apply(lambda row: wv.cosine_similarities(list(vec['vec']), [list(row['vec'])])[0], axis = 1)\n",
    "    source = source.sort_values(by='dist', ascending=False)\n",
    "    \n",
    "    return source.iloc[0, source.columns.get_loc(vec['source_type'])]"
   ]
  },
  {
   "cell_type": "raw",
   "metadata": {},
   "source": [
    "#De-vecotrise nodes and relations generated by methods\n",
    "logger.info(f\"De-Vectorising...\")\n",
    "res['target'] = res.progress_apply(lambda row: deVectorise(row), axis = 1)\n",
    "res = res[['method', 'config', 'source_type', 'source', 'target']]"
   ]
  },
  {
   "cell_type": "markdown",
   "metadata": {},
   "source": [
    "# Comments"
   ]
  },
  {
   "cell_type": "code",
   "execution_count": null,
   "metadata": {
    "pycharm": {
     "name": "#%%\n"
    }
   },
   "outputs": [],
   "source": [
    "#TODO: for all appends: \n",
    "#https://stackoverflow.com/questions/50501787/python-pandas-user-warning-sorting-because-non-concatenation-axis-is-not-aligne\n",
    "\n",
    "#TODO: random seeds\n",
    "\n",
    "#TODO: check for TODOs"
   ]
  },
  {
   "cell_type": "code",
   "execution_count": null,
   "metadata": {
    "pycharm": {
     "name": "#%%\n"
    }
   },
   "outputs": [],
   "source": [
    "#Returns percent of ambiguity in the graph\n",
    "def calculateAmbiguity(fullVectors, nodeVectors, relationVectors):\n",
    "    #cFullVectors = fullVectors.copy()\n",
    "    #cNodeVectors = nodeVectors.copy()\n",
    "    #cRelationVectors = relationVectors.copy()\n",
    "    \n",
    "    #####for relations#####\n",
    "    \n",
    "    #group by relation type\n",
    "        #cross product group with itself\n",
    "        #apply(..) to calculate distance between both r_vec\n",
    "        #relation_distance = mean of all distances\n",
    "    #ambiguity = average weighted by count(all relation_distances)\n",
    "    #=> ambiguity values from -1..1 where 1 is the least ambiguous\n",
    "\n",
    "#     def helper1(grp):\n",
    "#         #returns the relation_distance for each group\n",
    "\n",
    "#         group = grp.copy().reset_index(drop=False)\n",
    "#         logger.info(f\"Group ({len(group)}):\\n{group['p'].iloc[0]}\\nColumns ({len(group.columns)}):\\n{group.columns}\\n\")\n",
    "#         logger.info(f\"{group}\")\n",
    "        \n",
    "#         out = group.apply(helper2, axis=1)\n",
    "#         logger.info(f\"Out:\\n{out}\\n\\n\\n\\n\\n\\n\\n\\n\\n\")\n",
    "        \n",
    "#         return np.mean(out)\n",
    "    \n",
    "#     def helper2(row):\n",
    "#         #returns the relation_distances for one group\n",
    "#         logger.info(f\"Row: {row['p']}\")\n",
    "        \n",
    "#         r_vecs = cFullVectors[cFullVectors['p'] == row['p']]['r_vec']\n",
    "#         logger.info(f\"r_vecs ({len(r_vecs)})\")\n",
    "        \n",
    "#         sims = wv.cosine_similarities(row['r_vec'], r_vecs)\n",
    "        \n",
    "#         #returns the relation_distance for one row\n",
    "#         out = np.mean(sims)\n",
    "        \n",
    "#         return out\n",
    "         \n",
    "        \n",
    "    #Remove unwanted entries\n",
    "    #cFullVectors = cFullVectors[cFullVectors['is_zero_vector_relation'] == False].dropna(subset=['r_vec']).reset_index(drop=True)\n",
    "    \n",
    "    #Broken because of https://github.com/pandas-dev/pandas/pull/29131\n",
    "    #relation_distances = fullVectors.groupby('p').apply(helper1)\n",
    "    \n",
    "    #Workaround\n",
    "    #relation_distances = cRelationVectors.apply(lambda row: helper1(fullVectors[fullVectors['p'] == row['relation']]), axis=1)\n",
    "    \n",
    "    #print(relation_distances)\n",
    "    \n",
    "    \n",
    "    ###2nd approach\n",
    "#     print(f\"Relation Vectors:\\n{cRelationVectors}\")\n",
    "    \n",
    "#     row = cRelationVectors.iloc[0]\n",
    "#     print(f\"Row: {row}\")\n",
    "#     print(f\"Row.vec:\\n{row['vec']}\")\n",
    "#     print(f\"r_vecs:\\n{list(cFullVectors[cFullVectors['p'] == row['relation']]['r_vec'])}\")\n",
    "#     print(f\"Result:\\n{wv.cosine_similarities(row['vec'], list(cFullVectors[cFullVectors['p'] == row['relation']]['r_vec']))}\")\n",
    "    \n",
    "    #cRelationVectors['mean_dist'] = cRelationVectors.apply(lambda row: np.mean(wv.cosine_similarities(row['vec'], list(cFullVectors[cFullVectors['p'] == row['relation']]['r_vec']))), axis=1)\n",
    "    \n",
    "    weights = relationVectors['total'] - relationVectors['lost'] - relationVectors['zero_vector']\n",
    "    relAmbig = np.average(relationVectors['mean_dist'], weights=weights)\n",
    "    \n",
    "    #####for nodes (improved)#####\n",
    "    \n",
    "    #for node in nodeVectors:\n",
    "        #node_estimate = average weighted by relations dist to mean(all connected nodes + their relation to node)\n",
    "    #ambiguity = average weighted by count of (distance(node_estimate, node))\n",
    "    #=> ambiguity values from -1..1 where 1 is the least ambiguous\n",
    "    \n",
    "    weights = nodeVectors['total']\n",
    "    nodeAmbig = np.average(nodeVectors['est_dist'], weights=weights)\n",
    "    \n",
    "    #bad quality of all nodes\n",
    "    #-> all relation vectors will have high average dist to mean\n",
    "    \n",
    "    #bad quality of all relations\n",
    "    #-> all relation vectors will have high average dist to mean\n",
    "    \n",
    "    #bad quality of some nodes\n",
    "    #-> node_estimate slightly wrong but better if many nodes\n",
    "    \n",
    "    #bad quality of some relations\n",
    "    #-> node_estimate very slightly wrong but better if many nodes and high relation dist to mean\n",
    "    \n",
    "    #perfect quality\n",
    "    #-> node_estimate = node and ambiguity = 1\n",
    "    \n",
    "    #do strongly connected nodes influence the outcome more? (they should)\n",
    "    #-> yes, they are included in more node_estimates\n",
    "    \n",
    "    #node and relation are included in each others calculations equally (=once) and only their means are used?\n",
    "    #-> yes\n",
    "    \n",
    "    \n",
    "    ##final composition & transformation\n",
    "    #mean of ambiguities of nodes and vectors, weight by nodes 2:1 relation\n",
    "    totAmbig = np.average([relAmbig, nodeAmbig], weights=[2, 1])\n",
    "    \n",
    "    #transform -1..1 where 1 is the least ambiguous to 0..1 where 1 is the most ambiguous\n",
    "    return 1-((1+totAmbig)/2)"
   ]
  },
  {
   "cell_type": "code",
   "execution_count": null,
   "metadata": {
    "pycharm": {
     "name": "#%%\n"
    }
   },
   "outputs": [],
   "source": [
    "data = []\n",
    "data += [['tokyo', wv['berlin'], 1]]\n",
    "data += [['tokyo', wv['tokyo'], 2]]\n",
    "data += [['vienna', wv['vienna'], 3]]\n",
    "df2 = pd.DataFrame(data, columns=['node', 'vec', 'num'])\n",
    "\n",
    "df2.head()"
   ]
  },
  {
   "cell_type": "code",
   "execution_count": null,
   "metadata": {
    "pycharm": {
     "name": "#%%\n"
    }
   },
   "outputs": [],
   "source": [
    "data = []\n",
    "data += [['tokyo', wv['berlin'], 1]]\n",
    "data += [['tokyo', wv['tokyo'], 2]]\n",
    "data += [['vienna', wv['vienna'], 3]]\n",
    "df2 = pd.DataFrame(data, columns=['node', 'vec', 'num'])\n",
    "\n",
    "\n",
    "df2[['vec2', 'vec3']] = df2.apply(lambda row: pd.Series([toVector(row['node']), None]), axis=1)\n",
    "\n",
    "df2.head()"
   ]
  },
  {
   "cell_type": "code",
   "execution_count": null,
   "metadata": {
    "pycharm": {
     "name": "#%%\n"
    }
   },
   "outputs": [],
   "source": [
    "#Test mean\n",
    "df2out = df2.groupby('node').apply(np.mean).reset_index()\n",
    "df2out['vec'] = df2.groupby('node')['vec'].apply(np.mean).reset_index()['vec']\n",
    "df2out.head()"
   ]
  },
  {
   "cell_type": "code",
   "execution_count": null,
   "metadata": {
    "pycharm": {
     "name": "#%%\n"
    }
   },
   "outputs": [],
   "source": [
    "#NaN vs None problems\n",
    "print(f\"Python: {float('NaN') is None}\")\n",
    "print(f\"Numpy equal(..): {np.equal(float('NaN'), None)}\")\n",
    "print(f\"Numpy isnan(..): {np.isnan(float('NaN'))}\")\n",
    "print(f\"Pandas isnan(..): {pd.isnull(float('NaN'))}, {pd.isnull(None)}\") #Replace python checks with this"
   ]
  },
  {
   "cell_type": "code",
   "execution_count": null,
   "metadata": {},
   "outputs": [],
   "source": [
    "#NaN vs None problems\n",
    "print(f\"Python: {float('NaN') is None}\")\n",
    "print(f\"Numpy equal(..): {np.equal(float('NaN'), None)}\")\n",
    "print(f\"Numpy isnan(..): {np.isnan(float('NaN'))}\")\n",
    "print(f\"Pandas isnan(..): {pd.isnull(float('NaN'))}, {pd.isnull(None)}\") #Replace python checks with this"
   ]
  },
  {
   "cell_type": "code",
   "execution_count": null,
   "metadata": {},
   "outputs": [],
   "source": [
    "#Random changes for testing\n",
    "config = {\n",
    "    'nodes': {\n",
    "        'random': [{'amount': {'num': 5}}]\n",
    "    },\n",
    "    'relations': {\n",
    "        'random': [{'amount': {'num': 2}}]\n",
    "    }\n",
    "}"
   ]
  },
  {
   "cell_type": "code",
   "execution_count": null,
   "metadata": {},
   "outputs": [],
   "source": [
    "#Complete negative for testing\n",
    "config = {\n",
    "    'nodes': {\n",
    "        'negative': [{'amount': {'perc': 1}}]\n",
    "    },\n",
    "    'relations': {\n",
    "        'negative': [{'amount': {'perc': 1}}]\n",
    "    }\n",
    "}"
   ]
  },
  {
   "cell_type": "code",
   "execution_count": null,
   "metadata": {},
   "outputs": [],
   "source": [
    "#Closeness for testing\n",
    "config = {\n",
    "    'nodes': {\n",
    "        'closeness': [{'amount': {'num': 5},\n",
    "                 'param': {'closeness': 0.2}}]\n",
    "    },\n",
    "    'relations': {\n",
    "        'closeness': [{'amount': {'num': 5},\n",
    "                 'param': {'closeness': 0.2}}]\n",
    "    }\n",
    "}"
   ]
  },
  {
   "cell_type": "code",
   "execution_count": null,
   "metadata": {},
   "outputs": [],
   "source": [
    "#Run imports and define functions, configure the desired result\n",
    "\n",
    "#Load graph and dictionary\n",
    "convertedGraph = convertGraph(g)\n",
    "fullVectors = vectorifyGraph(convertedGraph)\n",
    "relationVectors, lostRelations = generateRelationVectors(fullVectors)\n",
    "fullVectors = calculateNodeEstimates(fullVectors, relationVectors)\n",
    "nodeVectors, lostNodes = generateNodeVectors(fullVectors)\n",
    "\n",
    "#Check outputs before continuing\n",
    "\n",
    "#Calculate ambiguity before\n",
    "ambiguityBefore = calculateAmbiguity(fullVectors, nodeVectors, relationVectors)\n",
    "logger.info(f\"Ambiguity before: {ambiguityBefore}\")"
   ]
  },
  {
   "cell_type": "code",
   "execution_count": null,
   "metadata": {
    "scrolled": true
   },
   "outputs": [],
   "source": [
    "#The ambiguify-function returns vectors according to configured methods\n",
    "res = ambiguify(config, nodeVectors, relationVectors)"
   ]
  },
  {
   "cell_type": "code",
   "execution_count": null,
   "metadata": {},
   "outputs": [],
   "source": [
    "res.head(10)"
   ]
  },
  {
   "cell_type": "code",
   "execution_count": null,
   "metadata": {
    "scrolled": true
   },
   "outputs": [],
   "source": [
    "#Insert new node into graph based on one random triple containing the source\n",
    "g2 = Graph()\n",
    "additions = populateAdditions(res, g2)\n",
    "\n",
    "#Calculate ambiguity after:\n",
    "newFullVectors = fullVectors.copy()\n",
    "\n",
    "if len(additions) > 0:\n",
    "    logger.info(f\"Adding {len(additions)} additional triples\")\n",
    "    vectorisedAdditions = vectorifyGraph(additions)\n",
    "    newFullVectors = newFullVectors.append(vectorisedAdditions, ignore_index = True)\n",
    "\n",
    "newRelationVectors, newLostRelations = generateRelationVectors(newFullVectors)\n",
    "newFullVectors = calculateNodeEstimates(newFullVectors, newRelationVectors)\n",
    "newNodeVectors, newLostNodes = generateNodeVectors(newFullVectors)\n",
    "\n",
    "#Calculate ambiguity after\n",
    "ambiguityAfter = calculateAmbiguity(newFullVectors, newNodeVectors, newRelationVectors)\n",
    "logger.info(f\"Ambiguity after: {ambiguityAfter}\")\n",
    "\n",
    "logger.info(f\"Ambiguity difference: {ambiguityAfter-ambiguityBefore}\")\n",
    "\n",
    "\n",
    "\n",
    "#Save additions from nodes and relations\n",
    "logger.info(f\"Saving files\")\n",
    "f = open(\"additions.ttl\", \"wb\")\n",
    "f.write(g2.serialize(format='turtle'))\n",
    "f.close()\n",
    "\n",
    "#Save graph with additions\n",
    "g3 = g+g2\n",
    "f = open(\"appendedKG.ttl\", \"wb\")\n",
    "f.write(g3.serialize(format='turtle'))\n",
    "f.close()\n",
    "logger.info(f\"Done\")"
   ]
  },
  {
   "cell_type": "markdown",
   "metadata": {},
   "source": [
    "# Comments"
   ]
  },
  {
   "cell_type": "code",
   "execution_count": null,
   "metadata": {},
   "outputs": [],
   "source": [
    "#TODO: for all appends: \n",
    "#https://stackoverflow.com/questions/50501787/python-pandas-user-warning-sorting-because-non-concatenation-axis-is-not-aligne\n",
    "\n",
    "#TODO: random seeds\n",
    "\n",
    "#TODO: check for TODOs"
   ]
  },
  {
   "cell_type": "code",
   "execution_count": null,
   "metadata": {},
   "outputs": [],
   "source": [
    "#Returns percent of ambiguity in the graph\n",
    "def calculateAmbiguity(fullVectors, nodeVectors, relationVectors):\n",
    "    #cFullVectors = fullVectors.copy()\n",
    "    #cNodeVectors = nodeVectors.copy()\n",
    "    #cRelationVectors = relationVectors.copy()\n",
    "    \n",
    "    #####for relations#####\n",
    "    \n",
    "    #group by relation type\n",
    "        #cross product group with itself\n",
    "        #apply(..) to calculate distance between both r_vec\n",
    "        #relation_distance = mean of all distances\n",
    "    #ambiguity = average weighted by count(all relation_distances)\n",
    "    #=> ambiguity values from -1..1 where 1 is the least ambiguous\n",
    "\n",
    "#     def helper1(grp):\n",
    "#         #returns the relation_distance for each group\n",
    "\n",
    "#         group = grp.copy().reset_index(drop=False)\n",
    "#         logger.info(f\"Group ({len(group)}):\\n{group['p'].iloc[0]}\\nColumns ({len(group.columns)}):\\n{group.columns}\\n\")\n",
    "#         logger.info(f\"{group}\")\n",
    "        \n",
    "#         out = group.apply(helper2, axis=1)\n",
    "#         logger.info(f\"Out:\\n{out}\\n\\n\\n\\n\\n\\n\\n\\n\\n\")\n",
    "        \n",
    "#         return np.mean(out)\n",
    "    \n",
    "#     def helper2(row):\n",
    "#         #returns the relation_distances for one group\n",
    "#         logger.info(f\"Row: {row['p']}\")\n",
    "        \n",
    "#         r_vecs = cFullVectors[cFullVectors['p'] == row['p']]['r_vec']\n",
    "#         logger.info(f\"r_vecs ({len(r_vecs)})\")\n",
    "        \n",
    "#         sims = wv.cosine_similarities(row['r_vec'], r_vecs)\n",
    "        \n",
    "#         #returns the relation_distance for one row\n",
    "#         out = np.mean(sims)\n",
    "        \n",
    "#         return out\n",
    "         \n",
    "        \n",
    "    #Remove unwanted entries\n",
    "    #cFullVectors = cFullVectors[cFullVectors['is_zero_vector_relation'] == False].dropna(subset=['r_vec']).reset_index(drop=True)\n",
    "    \n",
    "    #Broken because of https://github.com/pandas-dev/pandas/pull/29131\n",
    "    #relation_distances = fullVectors.groupby('p').apply(helper1)\n",
    "    \n",
    "    #Workaround\n",
    "    #relation_distances = cRelationVectors.apply(lambda row: helper1(fullVectors[fullVectors['p'] == row['relation']]), axis=1)\n",
    "    \n",
    "    #print(relation_distances)\n",
    "    \n",
    "    \n",
    "    ###2nd approach\n",
    "#     print(f\"Relation Vectors:\\n{cRelationVectors}\")\n",
    "    \n",
    "#     row = cRelationVectors.iloc[0]\n",
    "#     print(f\"Row: {row}\")\n",
    "#     print(f\"Row.vec:\\n{row['vec']}\")\n",
    "#     print(f\"r_vecs:\\n{list(cFullVectors[cFullVectors['p'] == row['relation']]['r_vec'])}\")\n",
    "#     print(f\"Result:\\n{wv.cosine_similarities(row['vec'], list(cFullVectors[cFullVectors['p'] == row['relation']]['r_vec']))}\")\n",
    "    \n",
    "    #cRelationVectors['mean_dist'] = cRelationVectors.apply(lambda row: np.mean(wv.cosine_similarities(row['vec'], list(cFullVectors[cFullVectors['p'] == row['relation']]['r_vec']))), axis=1)\n",
    "    \n",
    "    weights = relationVectors['total'] - relationVectors['lost'] - relationVectors['zero_vector']\n",
    "    relAmbig = np.average(relationVectors['mean_dist'], weights=weights)\n",
    "    \n",
    "    #####for nodes (improved)#####\n",
    "    \n",
    "    #for node in nodeVectors:\n",
    "        #node_estimate = average weighted by relations dist to mean(all connected nodes + their relation to node)\n",
    "    #ambiguity = average weighted by count of (distance(node_estimate, node))\n",
    "    #=> ambiguity values from -1..1 where 1 is the least ambiguous\n",
    "    \n",
    "    weights = nodeVectors['total']\n",
    "    nodeAmbig = np.average(nodeVectors['est_dist'], weights=weights)\n",
    "    \n",
    "    #bad quality of all nodes\n",
    "    #-> all relation vectors will have high average dist to mean\n",
    "    \n",
    "    #bad quality of all relations\n",
    "    #-> all relation vectors will have high average dist to mean\n",
    "    \n",
    "    #bad quality of some nodes\n",
    "    #-> node_estimate slightly wrong but better if many nodes\n",
    "    \n",
    "    #bad quality of some relations\n",
    "    #-> node_estimate very slightly wrong but better if many nodes and high relation dist to mean\n",
    "    \n",
    "    #perfect quality\n",
    "    #-> node_estimate = node and ambiguity = 1\n",
    "    \n",
    "    #do strongly connected nodes influence the outcome more? (they should)\n",
    "    #-> yes, they are included in more node_estimates\n",
    "    \n",
    "    #node and relation are included in each others calculations equally (=once) and only their means are used?\n",
    "    #-> yes\n",
    "    \n",
    "    \n",
    "    ##final composition & transformation\n",
    "    #mean of ambiguities of nodes and vectors, weight by nodes 2:1 relation\n",
    "    totAmbig = np.average([relAmbig, nodeAmbig], weights=[2, 1])\n",
    "    \n",
    "    #transform -1..1 where 1 is the least ambiguous to 0..1 where 1 is the most ambiguous\n",
    "    return 1-((1+totAmbig)/2)"
   ]
  },
  {
   "cell_type": "code",
   "execution_count": null,
   "metadata": {},
   "outputs": [],
   "source": [
    "data = []\n",
    "data += [['tokyo', wv['berlin'], 1]]\n",
    "data += [['tokyo', wv['tokyo'], 2]]\n",
    "data += [['vienna', wv['vienna'], 3]]\n",
    "df2 = pd.DataFrame(data, columns=['node', 'vec', 'num'])\n",
    "\n",
    "df2.head()"
   ]
  },
  {
   "cell_type": "code",
   "execution_count": null,
   "metadata": {},
   "outputs": [],
   "source": [
    "data = []\n",
    "data += [['tokyo', wv['berlin'], 1]]\n",
    "data += [['tokyo', wv['tokyo'], 2]]\n",
    "data += [['vienna', wv['vienna'], 3]]\n",
    "df2 = pd.DataFrame(data, columns=['node', 'vec', 'num'])\n",
    "\n",
    "\n",
    "df2[['vec2', 'vec3']] = df2.apply(lambda row: pd.Series([toVector(row['node']), None]), axis=1)\n",
    "\n",
    "df2.head()"
   ]
  },
  {
   "cell_type": "code",
   "execution_count": null,
   "metadata": {},
   "outputs": [],
   "source": [
    "#Test mean\n",
    "df2out = df2.groupby('node').apply(np.mean).reset_index()\n",
    "df2out['vec'] = df2.groupby('node')['vec'].apply(np.mean).reset_index()['vec']\n",
    "df2out.head()"
   ]
  },
  {
   "cell_type": "code",
   "execution_count": null,
   "metadata": {},
   "outputs": [],
   "source": [
    "#NaN vs None problems\n",
    "print(f\"Python: {float('NaN') is None}\")\n",
    "print(f\"Numpy equal(..): {np.equal(float('NaN'), None)}\")\n",
    "print(f\"Numpy isnan(..): {np.isnan(float('NaN'))}\")\n",
    "print(f\"Pandas isnan(..): {pd.isnull(float('NaN'))}, {pd.isnull(None)}\") #Replace python checks with this"
   ]
  }
 ],
 "metadata": {
  "kernelspec": {
   "display_name": "Python 3",
   "language": "python",
   "name": "python3"
  },
  "language_info": {
   "codemirror_mode": {
    "name": "ipython",
    "version": 3
   },
   "file_extension": ".py",
   "mimetype": "text/x-python",
   "name": "python",
   "nbconvert_exporter": "python",
   "pygments_lexer": "ipython3",
   "version": "3.8.2"
  }
 },
 "nbformat": 4,
 "nbformat_minor": 1
}